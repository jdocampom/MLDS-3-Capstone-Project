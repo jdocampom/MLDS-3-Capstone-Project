{
  "nbformat": 4,
  "nbformat_minor": 0,
  "metadata": {
    "colab": {
      "name": "traffic_LA_ApacheSpark.ipynb",
      "provenance": [],
      "collapsed_sections": []
    },
    "kernelspec": {
      "display_name": "Python 3.8.7 64-bit ('3.8.7')",
      "name": "python3"
    },
    "language_info": {
      "codemirror_mode": {
        "name": "ipython",
        "version": 3
      },
      "file_extension": ".py",
      "mimetype": "text/x-python",
      "name": "python",
      "nbconvert_exporter": "python",
      "pygments_lexer": "ipython3",
      "version": "3.8.7-final"
    }
  },
  "cells": [
    {
      "cell_type": "markdown",
      "metadata": {
        "id": "jeyQ2TZs4e2d"
      },
      "source": [
        "#**Proyecto Aplicado: Análisis de Accidentes de Tránsito en Los Angeles utilizando Spark**\n",
        "\n",
        "---\n",
        "Presentado por:\n",
        "- Juan Diego Ocampo (Grupo 6)\n",
        "- Alejandro García (Grupo 5)\n",
        "\n",
        "### **Tabla de Contenidos**\n",
        "---\n",
        "1. Metodología CRISP-MD (Parte 1): Entendimiento del Negocio <br>\n",
        "2. Metodología CRISP-MD (Parte 2): Entendimiento de los Datos <br>\n",
        "3. Visualización de los Datos <br>\n",
        "4. Conclusiones <br>\n",
        "5. Video de la Presentación <br>"
      ]
    },
    {
      "cell_type": "markdown",
      "metadata": {
        "id": "xChhrAdU4e2i"
      },
      "source": [
        "## **1. Metodología CRISP-MD (Parte 1): Entendimiento del Negocio**\n",
        "---\n",
        "\n",
        "### **1.1. Definición de la Propuesta**\n",
        "\n",
        "Es de interes observar el comportamiento de tráfico en las ciudades, en especial en aquellas donde se observa una gran cantidad de vehiculos. \n",
        "\n",
        "En paritucular, la ciudad de Los Angeles es una de las cinco ciudades del mundo con un mayor nivel de flujo vehicular, lo que conlleva a que sea un lugar propicio para una gran cantidad de accidentes automovilisticos, por lo cual es importante estudiar las causas y circunstancias sobre las que suceden estos incidemtes, las variables que influyen, los sectores donde ocurren la mayor cantidad de accidentes, etc. \n",
        "\n",
        "Por ello, mediante este estudio, se busca analizar qué variables son las más relevantes tales como las diferencias entre sexo, edad con el fin de poder identificar comportamientos  y patrones que permitan prevenir o inferir comportamientos que los cuales pueden llevar a reducir el número de accidentes.\n"
      ]
    },
    {
      "cell_type": "markdown",
      "metadata": {
        "id": "rFrkgXZo4e2k"
      },
      "source": [
        "## **2. Metodología CRISP-MD (Parte 2): Entendimiento de los Datos**\n",
        "---\n",
        "\n",
        "#### **2.1. Declaración del Conjunto de Datos**\n",
        "\n",
        "Para el desarrollo de este proyecto utilizaremos se utilizará el dataset de **Los Angeles Traffic Collision Data** reunido por *Los Angeles Open Data* con el fin de reslizar el procesamiento de datos y visualización sobre los mismos utilizando herramientas de Apache Spark y Python. Este conjunto de datos puede descargarse desde [Kaggle](https://www.kaggle.com/cityofLA/los-angeles-traffic-collision-data/download).\n",
        "\n",
        "Este conjunto de datos contiene algunas de las siguientes variables:\n",
        "\n",
        "| **Variable** | **Descripción** |\n",
        "| --- | --- |\n",
        "|**RECORD_NUMBER**| Identificador único para cada evento. |\n",
        "|**DATE_REPORTED**| Fecha en que se reportó el evento.|\n",
        "|**DATE_OCCURED**| Fecha en que ocurrió el evento.|\n",
        "|**TIME_OCCURED**| Hora del día a la que ocurrió el evento.|\n",
        "|**AREA_ID**| Identificador para la zona en que ocurrió el evento. |\n",
        "|**AREA_NAME**| Nombre de la zona en que ocurrió el evento.|\n",
        "|**REPORTING_DISTRICT**| Código del distrito que reportó el evento.|\n",
        "|**ADDRESS**| Dirección en la que ocurrió el evento.|\n",
        "|**VICTIM_SEX**| Género de cada víctima.||\n",
        "|**VICTIM_AGE**| Edad de cada víctima.|\n",
        "|**LOCATION**| Coordenadas geográficas de la ubicación del evento.|\n",
        "|**ZIP_CODES**| Código postal de la zona en que ocurrió el evento.|\n",
        "|**PREMISE_DESCRIPTION**| Descripción del recinto en que ocurrió cada evento.|\n",
        "\n",
        "En este caso, la metodología para abordar el problema del procesamiento y visualización del dataset es la siguiente:\n",
        "\n",
        "-  Exploracion y Limpieza de Datos\n",
        "-  Visualización de Datos\n",
        "-  Analisis Estadistico de los Datos\n",
        "\n",
        "\n",
        "#### **2.2. Definición de las Tecnologías a Implementar**\n",
        "\n",
        "Para el desarrollo de este proyecto se utiliza el framework de procesamiento de datos Apache Spark, la cual es el proyecto de código abierto más grande que existe en la actualidad para el análisis y procesamiento de grandes volúmenes de datos.\n",
        "\n",
        "Apache Spark en sí es un sistema de computación distribuido de basado en la tecnología Hadoop, el cual ha sido diseñado para el análisis y procesamiento de datos tanto en Machine Learning como en Big Data. Esta tecnología consta de dos elementos principales: \n",
        "\n",
        "- Spark SQL: es un módulo para el procesamiento de datos estructurados, el cual proporciona una estructura de datos denominada DatafFrame (similar a la estructura con el mismo nombre de la libreria Pandas) y que además es un motor de consulta SQL distribuido.\n",
        "- Spark Streaming: esta tecnología permite la utilización de aplicaciones interactivas especializadas en el procesamiento en tiempo real de flujos de datos, al tiempo que aprovecha las ventajas de Spark, como la tolerancia a fallos al debido a que se trata de un sistema distribuido.\n",
        "\n",
        "La utilización de la tecnología Apache Spark tiene unas grandes ventajas, las cuales se mencionarán a continuación. Sin embargo, cabe mencionar que este proyecto no verá reflejadas dichas ventajas dado que está diseñado para ejecutarse desde un ambiente virtual en Google Collaboratory.\n",
        "\n",
        "- Velocidad: Apache Spark se ha diseñado específicamente para optimizar el rendimiento en el procesamiento de datos a gran escala, aprovechando conceptos como el procesamiento en memoria y otras optimizaciones.\n",
        "- Facilidad de uso: cuenta con varias APIs sencillas de utilizar para trabajar con grandes conjuntos de datos. Además, tambien cuenta con más de 100 operadores para transformar y manipular los datos semiestructurados.\n",
        "- Motor unificado: esta herramienta viene integrada con bibliotecas de nivel superior, las cuales incluyen soporte para consultas SQL, transmisión de datos, aprendizaje automático y procesamiento de gráficos. "
      ]
    },
    {
      "cell_type": "markdown",
      "metadata": {
        "id": "agyyVBGK4e2n"
      },
      "source": [
        "### **2.3. Descargar e Importar Librerías**\n",
        "\n",
        "La siguiente celda contiene el código necesario para descargar los componentes necesarios para la correcta ejecución de este Notebook, tanto Apache Spark como los módulos de Python. Antes de ejecutar la siguiente celda, se debe descargar el archivo TXT con el conjunto de librerías necesarias desde [este link](https://docs.google.com/uc?export=download&id=15fubSlewckLb2bte5RQ41vD6Hl4SsUAI) y se debe importar al explorador de archivos de Google Collaboratory."
      ]
    },
    {
      "cell_type": "code",
      "metadata": {
        "colab": {
          "base_uri": "https://localhost:8080/"
        },
        "id": "F2j-1jIZ4e2p",
        "outputId": "279865b6-ac49-4827-eb01-ddda25d2fdcc"
      },
      "source": [
        "# Install Notebook Requirements\n",
        "\n",
        "try:\n",
        "  # Install OpenJDK 8\n",
        "  !apt-get install openjdk-8-jdk-headless -qq > /dev/null\n",
        "  !wget -q https://www-us.apache.org/dist/spark/spark-3.1.2/spark-3.1.2-bin-hadoop3.2.tgz\n",
        "  !tar xf spark-3.1.2-bin-hadoop3.2.tgz\n",
        "  #!wget https://docs.google.com/uc?export=download&id=15fubSlewckLb2bte5RQ41vD6Hl4SsUAI\n",
        "  !pip install -r requirements.txt\n",
        "  print('Requirements installed successfully.')  \n",
        "except Exception() as error:\n",
        "  print(f'Error: {error}')"
      ],
      "execution_count": 56,
      "outputs": [
        {
          "output_type": "stream",
          "text": [
            "Requirement already satisfied: numpy in /usr/local/lib/python3.7/dist-packages (from -r requirements.txt (line 1)) (1.19.5)\n",
            "Requirement already satisfied: pandas in /usr/local/lib/python3.7/dist-packages (from -r requirements.txt (line 2)) (1.1.5)\n",
            "Requirement already satisfied: matplotlib in /usr/local/lib/python3.7/dist-packages (from -r requirements.txt (line 3)) (3.2.2)\n",
            "Requirement already satisfied: seaborn in /usr/local/lib/python3.7/dist-packages (from -r requirements.txt (line 4)) (0.11.1)\n",
            "Requirement already satisfied: plotly in /usr/local/lib/python3.7/dist-packages (from -r requirements.txt (line 5)) (4.4.1)\n",
            "Requirement already satisfied: pymongo in /usr/local/lib/python3.7/dist-packages (from -r requirements.txt (line 6)) (3.11.4)\n",
            "Requirement already satisfied: IPython in /usr/local/lib/python3.7/dist-packages (from -r requirements.txt (line 7)) (5.5.0)\n",
            "Requirement already satisfied: pyspark in /usr/local/lib/python3.7/dist-packages (from -r requirements.txt (line 8)) (3.1.2)\n",
            "Requirement already satisfied: findspark in /usr/local/lib/python3.7/dist-packages (from -r requirements.txt (line 9)) (1.4.2)\n",
            "Requirement already satisfied: bson in /usr/local/lib/python3.7/dist-packages (from -r requirements.txt (line 10)) (0.5.10)\n",
            "Requirement already satisfied: python-dateutil>=2.7.3 in /usr/local/lib/python3.7/dist-packages (from pandas->-r requirements.txt (line 2)) (2.8.1)\n",
            "Requirement already satisfied: pytz>=2017.2 in /usr/local/lib/python3.7/dist-packages (from pandas->-r requirements.txt (line 2)) (2018.9)\n",
            "Requirement already satisfied: pyparsing!=2.0.4,!=2.1.2,!=2.1.6,>=2.0.1 in /usr/local/lib/python3.7/dist-packages (from matplotlib->-r requirements.txt (line 3)) (2.4.7)\n",
            "Requirement already satisfied: kiwisolver>=1.0.1 in /usr/local/lib/python3.7/dist-packages (from matplotlib->-r requirements.txt (line 3)) (1.3.1)\n",
            "Requirement already satisfied: cycler>=0.10 in /usr/local/lib/python3.7/dist-packages (from matplotlib->-r requirements.txt (line 3)) (0.10.0)\n",
            "Requirement already satisfied: scipy>=1.0 in /usr/local/lib/python3.7/dist-packages (from seaborn->-r requirements.txt (line 4)) (1.4.1)\n",
            "Requirement already satisfied: six in /usr/local/lib/python3.7/dist-packages (from plotly->-r requirements.txt (line 5)) (1.15.0)\n",
            "Requirement already satisfied: retrying>=1.3.3 in /usr/local/lib/python3.7/dist-packages (from plotly->-r requirements.txt (line 5)) (1.3.3)\n",
            "Requirement already satisfied: pygments in /usr/local/lib/python3.7/dist-packages (from IPython->-r requirements.txt (line 7)) (2.6.1)\n",
            "Requirement already satisfied: pexpect; sys_platform != \"win32\" in /usr/local/lib/python3.7/dist-packages (from IPython->-r requirements.txt (line 7)) (4.8.0)\n",
            "Requirement already satisfied: decorator in /usr/local/lib/python3.7/dist-packages (from IPython->-r requirements.txt (line 7)) (4.4.2)\n",
            "Requirement already satisfied: prompt-toolkit<2.0.0,>=1.0.4 in /usr/local/lib/python3.7/dist-packages (from IPython->-r requirements.txt (line 7)) (1.0.18)\n",
            "Requirement already satisfied: setuptools>=18.5 in /usr/local/lib/python3.7/dist-packages (from IPython->-r requirements.txt (line 7)) (57.0.0)\n",
            "Requirement already satisfied: pickleshare in /usr/local/lib/python3.7/dist-packages (from IPython->-r requirements.txt (line 7)) (0.7.5)\n",
            "Requirement already satisfied: traitlets>=4.2 in /usr/local/lib/python3.7/dist-packages (from IPython->-r requirements.txt (line 7)) (5.0.5)\n",
            "Requirement already satisfied: simplegeneric>0.8 in /usr/local/lib/python3.7/dist-packages (from IPython->-r requirements.txt (line 7)) (0.8.1)\n",
            "Requirement already satisfied: py4j==0.10.9 in /usr/local/lib/python3.7/dist-packages (from pyspark->-r requirements.txt (line 8)) (0.10.9)\n",
            "Requirement already satisfied: ptyprocess>=0.5 in /usr/local/lib/python3.7/dist-packages (from pexpect; sys_platform != \"win32\"->IPython->-r requirements.txt (line 7)) (0.7.0)\n",
            "Requirement already satisfied: wcwidth in /usr/local/lib/python3.7/dist-packages (from prompt-toolkit<2.0.0,>=1.0.4->IPython->-r requirements.txt (line 7)) (0.2.5)\n",
            "Requirement already satisfied: ipython-genutils in /usr/local/lib/python3.7/dist-packages (from traitlets>=4.2->IPython->-r requirements.txt (line 7)) (0.2.0)\n",
            "Requirements installed successfully.\n"
          ],
          "name": "stdout"
        }
      ]
    },
    {
      "cell_type": "markdown",
      "metadata": {
        "id": "OQp__95JPIDS"
      },
      "source": [
        "La siguiente celda contiene el código necesario para importar y configurar los componentes necesarios para la correcta ejecución de este Notebook, tanto Apache Spark como los módulos de Python."
      ]
    },
    {
      "cell_type": "code",
      "metadata": {
        "colab": {
          "base_uri": "https://localhost:8080/"
        },
        "id": "4NWLhXfK4e2w",
        "outputId": "689845f2-2742-4d2d-8899-ac59a61bfe99"
      },
      "source": [
        "# Import Notebook Requirements\n",
        "\n",
        "try:\n",
        "    # Configure Spark Environment\n",
        "    import os, json, bson\n",
        "    os.environ[\"JAVA_HOME\"] = \"/usr/lib/jvm/java-8-openjdk-amd64\"\n",
        "    os.environ[\"SPARK_HOME\"] = \"/content/spark-3.1.2-bin-hadoop3.2\"\n",
        "    import findspark\n",
        "    findspark.init() \n",
        "    from pyspark.sql import SparkSession\n",
        "    spark = SparkSession.builder.master(\"local[*]\").getOrCreate()\n",
        "    from pyspark.sql.types import DoubleType\n",
        "    from pyspark.sql import SQLContext\n",
        "    from pyspark.sql.functions import *\n",
        "    import pyspark as ps\n",
        "    # Import Python Libraries\n",
        "    import numpy as np\n",
        "    import pandas as pd\n",
        "    import matplotlib.pyplot as plt\n",
        "    import seaborn as sns\n",
        "    import plotly.graph_objs as go \n",
        "    import plotly.express as px\n",
        "    from mpl_toolkits.axes_grid1 import make_axes_locatable\n",
        "    from urllib.request import urlopen\n",
        "    from IPython.lib.display import YouTubeVideo\n",
        "    # Configure Python Libraries\n",
        "    %matplotlib inline\n",
        "    %config InlineBackend.figure_format = 'retina'\n",
        "    print('Libraries installed successfully.')    \n",
        "except Exception as error:\n",
        "    print(f'Error: {error}')"
      ],
      "execution_count": 57,
      "outputs": [
        {
          "output_type": "stream",
          "text": [
            "Libraries installed successfully.\n"
          ],
          "name": "stdout"
        }
      ]
    },
    {
      "cell_type": "markdown",
      "metadata": {
        "id": "P9gIBs9fPwvY"
      },
      "source": [
        "La siguiente celda contiene el código necesario para importar el archivo CSV con el dataset tanto en formato DataFrame de Pandas como DataFrame de Spark.\n",
        "\n",
        "Antes de ejecutar la siguiente celda, se debe descargar el CSV del conjunto de datos desde [este link](https://docs.google.com/uc?export=download&id=15dv-k5mlxO0cZkvo-jRp-yFpNpy2Httr) y se debe importar al explorador de archivos de Google Collaboratory."
      ]
    },
    {
      "cell_type": "code",
      "metadata": {
        "colab": {
          "base_uri": "https://localhost:8080/"
        },
        "id": "ue9UkHcngAhk",
        "outputId": "4699a193-ba1f-43ec-9e16-b361fe898f68"
      },
      "source": [
        "# Read CSV and save as Pandas DataFrame and Spark DataFrame\n",
        "\n",
        "#!wget https://docs.google.com/uc?export=download&id=15dv-k5mlxO0cZkvo-jRp-yFpNpy2Httr\n",
        "\n",
        "try: \n",
        "    df = pd.read_csv('traffic_LA.csv')\n",
        "    df_s = spark.read.csv('traffic_LA.csv', inferSchema = True, header = True)\n",
        "    #df = pd.read_csv(csv_file)\n",
        "    #df_s = spark.read.csv(csv_file, inferSchema = True, header = True)\n",
        "    print(f'El dataset \"traffic_LA.csv\" tiene {df.shape[0]} filas y {df.shape[1]} columnas.')\n",
        "except Exception as error:\n",
        "    print(f'Error: {error}')"
      ],
      "execution_count": 58,
      "outputs": [
        {
          "output_type": "stream",
          "text": [
            "El dataset \"traffic_LA.csv\" tiene 502858 filas y 24 columnas.\n"
          ],
          "name": "stdout"
        }
      ]
    },
    {
      "cell_type": "markdown",
      "metadata": {
        "id": "eVXfVwL37oK7"
      },
      "source": [
        "###**2.4. Exploración y Limpieza de los Datos**\n",
        "\n",
        "Las siguientes celdas contienen el código utilizado para la exploración de los datos, el cual será utilizado para elaborar los criterios para la limpieza de los datos."
      ]
    },
    {
      "cell_type": "code",
      "metadata": {
        "colab": {
          "base_uri": "https://localhost:8080/"
        },
        "id": "cPOmvnkqDh0d",
        "outputId": "a3ac69a3-a831-4811-cf06-92d3aeef3b73"
      },
      "source": [
        "# Visualise DataType for each column on both DataFrames.\n",
        "\n",
        "print(f'Tipos de dato (DataFrame de Pandas y Spark): \\n{df.dtypes} \\n')\n",
        "print(df_s.printSchema())"
      ],
      "execution_count": 59,
      "outputs": [
        {
          "output_type": "stream",
          "text": [
            "Tipos de dato (DataFrame de Pandas y Spark): \n",
            "DR Number                              int64\n",
            "Date Reported                         object\n",
            "Date Occurred                         object\n",
            "Time Occurred                          int64\n",
            "Area ID                                int64\n",
            "Area Name                             object\n",
            "Reporting District                     int64\n",
            "Crime Code                             int64\n",
            "Crime Code Description                object\n",
            "MO Codes                              object\n",
            "Victim Age                           float64\n",
            "Victim Sex                            object\n",
            "Victim Descent                        object\n",
            "Premise Code                         float64\n",
            "Premise Description                   object\n",
            "Address                               object\n",
            "Cross Street                          object\n",
            "Location                              object\n",
            "Zip Codes                            float64\n",
            "Census Tracts                        float64\n",
            "Precinct Boundaries                  float64\n",
            "LA Specific Plans                    float64\n",
            "Council Districts                    float64\n",
            "Neighborhood Councils (Certified)    float64\n",
            "dtype: object \n",
            "\n",
            "root\n",
            " |-- DR Number: integer (nullable = true)\n",
            " |-- Date Reported: timestamp (nullable = true)\n",
            " |-- Date Occurred: timestamp (nullable = true)\n",
            " |-- Time Occurred: integer (nullable = true)\n",
            " |-- Area ID: integer (nullable = true)\n",
            " |-- Area Name: string (nullable = true)\n",
            " |-- Reporting District: integer (nullable = true)\n",
            " |-- Crime Code: integer (nullable = true)\n",
            " |-- Crime Code Description: string (nullable = true)\n",
            " |-- MO Codes: string (nullable = true)\n",
            " |-- Victim Age: integer (nullable = true)\n",
            " |-- Victim Sex: string (nullable = true)\n",
            " |-- Victim Descent: string (nullable = true)\n",
            " |-- Premise Code: integer (nullable = true)\n",
            " |-- Premise Description: string (nullable = true)\n",
            " |-- Address: string (nullable = true)\n",
            " |-- Cross Street: string (nullable = true)\n",
            " |-- Location: string (nullable = true)\n",
            " |-- Zip Codes: string (nullable = true)\n",
            " |-- Census Tracts: string (nullable = true)\n",
            " |-- Precinct Boundaries: string (nullable = true)\n",
            " |-- LA Specific Plans: string (nullable = true)\n",
            " |-- Council Districts: integer (nullable = true)\n",
            " |-- Neighborhood Councils (Certified): integer (nullable = true)\n",
            "\n",
            "None\n"
          ],
          "name": "stdout"
        }
      ]
    },
    {
      "cell_type": "code",
      "metadata": {
        "id": "-5WfahvNi67x"
      },
      "source": [
        "# Rename Columns on both DataFrames\n",
        "\n",
        "df.columns = ['RECORD_NUMBER', 'DATE_REPORTED', 'DATE_OCCURED', 'TIME_OCCURED', 'AREA_ID', 'AREA_NAME', 'REPORTING_DISTRICT', 'CRIME_CODE', \n",
        "           'CRIME_CODE_DESCRIPTION', 'MO_CODES', 'VICTIM_AGE', 'VICTIM_SEX', 'VICTIM_DESCENT', 'PREMISE_CODE', 'PREMISE_DESCRIPTION',\n",
        "           'ADDRESS', 'CROSS_STREET', 'LOCATION', 'ZIP_CODES', 'CENSUS_TRACTS', 'PRECINT_BOUNDARIES', 'LA_SPECIFIC_PLANS', 'COUNCIL_DISTRICTS',\n",
        "           'NEIGHBOURHOOD_COUNCILS']\n",
        "\n",
        "df_s = df_s.toDF('RECORD_NUMBER', 'DATE_REPORTED', 'DATE_OCCURED', 'TIME_OCCURED', 'AREA_ID', 'AREA_NAME', 'REPORTING_DISTRICT', 'CRIME_CODE', \n",
        "           'CRIME_CODE_DESCRIPTION', 'MO_CODES', 'VICTIM_AGE', 'VICTIM_SEX', 'VICTIM_DESCENT', 'PREMISE_CODE', 'PREMISE_DESCRIPTION',\n",
        "           'ADDRESS', 'CROSS_STREET', 'LOCATION', 'ZIP_CODES', 'CENSUS_TRACTS', 'PRECINT_BOUNDARIES', 'LA_SPECIFIC_PLANS', 'COUNCIL_DISTRICTS',\n",
        "           'NEIGHBOURHOOD_COUNCILS')"
      ],
      "execution_count": 60,
      "outputs": []
    },
    {
      "cell_type": "code",
      "metadata": {
        "colab": {
          "base_uri": "https://localhost:8080/",
          "height": 889
        },
        "id": "yjsemOkTh6F9",
        "outputId": "ffdfd190-d974-4dbd-e9e3-f746c1a5b845"
      },
      "source": [
        "# Visualise Pandas DataFrame\n",
        "\n",
        "df.head(10)"
      ],
      "execution_count": 61,
      "outputs": [
        {
          "output_type": "execute_result",
          "data": {
            "text/html": [
              "<div>\n",
              "<style scoped>\n",
              "    .dataframe tbody tr th:only-of-type {\n",
              "        vertical-align: middle;\n",
              "    }\n",
              "\n",
              "    .dataframe tbody tr th {\n",
              "        vertical-align: top;\n",
              "    }\n",
              "\n",
              "    .dataframe thead th {\n",
              "        text-align: right;\n",
              "    }\n",
              "</style>\n",
              "<table border=\"1\" class=\"dataframe\">\n",
              "  <thead>\n",
              "    <tr style=\"text-align: right;\">\n",
              "      <th></th>\n",
              "      <th>RECORD_NUMBER</th>\n",
              "      <th>DATE_REPORTED</th>\n",
              "      <th>DATE_OCCURED</th>\n",
              "      <th>TIME_OCCURED</th>\n",
              "      <th>AREA_ID</th>\n",
              "      <th>AREA_NAME</th>\n",
              "      <th>REPORTING_DISTRICT</th>\n",
              "      <th>CRIME_CODE</th>\n",
              "      <th>CRIME_CODE_DESCRIPTION</th>\n",
              "      <th>MO_CODES</th>\n",
              "      <th>VICTIM_AGE</th>\n",
              "      <th>VICTIM_SEX</th>\n",
              "      <th>VICTIM_DESCENT</th>\n",
              "      <th>PREMISE_CODE</th>\n",
              "      <th>PREMISE_DESCRIPTION</th>\n",
              "      <th>ADDRESS</th>\n",
              "      <th>CROSS_STREET</th>\n",
              "      <th>LOCATION</th>\n",
              "      <th>ZIP_CODES</th>\n",
              "      <th>CENSUS_TRACTS</th>\n",
              "      <th>PRECINT_BOUNDARIES</th>\n",
              "      <th>LA_SPECIFIC_PLANS</th>\n",
              "      <th>COUNCIL_DISTRICTS</th>\n",
              "      <th>NEIGHBOURHOOD_COUNCILS</th>\n",
              "    </tr>\n",
              "  </thead>\n",
              "  <tbody>\n",
              "    <tr>\n",
              "      <th>0</th>\n",
              "      <td>191323054</td>\n",
              "      <td>2019-11-30T00:00:00.000</td>\n",
              "      <td>2019-11-30T00:00:00.000</td>\n",
              "      <td>130</td>\n",
              "      <td>13</td>\n",
              "      <td>Newton</td>\n",
              "      <td>1385</td>\n",
              "      <td>997</td>\n",
              "      <td>TRAFFIC COLLISION</td>\n",
              "      <td>NaN</td>\n",
              "      <td>NaN</td>\n",
              "      <td>F</td>\n",
              "      <td>H</td>\n",
              "      <td>101.0</td>\n",
              "      <td>STREET</td>\n",
              "      <td>SAN PEDRO                    ST</td>\n",
              "      <td>SLAUSON                      AV</td>\n",
              "      <td>{'longitude': '-118.2696', 'human_address': '{...</td>\n",
              "      <td>22352.0</td>\n",
              "      <td>786.0</td>\n",
              "      <td>858.0</td>\n",
              "      <td>7.0</td>\n",
              "      <td>13.0</td>\n",
              "      <td>46.0</td>\n",
              "    </tr>\n",
              "    <tr>\n",
              "      <th>1</th>\n",
              "      <td>192020666</td>\n",
              "      <td>2019-11-30T00:00:00.000</td>\n",
              "      <td>2019-11-30T00:00:00.000</td>\n",
              "      <td>15</td>\n",
              "      <td>20</td>\n",
              "      <td>Olympic</td>\n",
              "      <td>2054</td>\n",
              "      <td>997</td>\n",
              "      <td>TRAFFIC COLLISION</td>\n",
              "      <td>NaN</td>\n",
              "      <td>40.0</td>\n",
              "      <td>M</td>\n",
              "      <td>W</td>\n",
              "      <td>101.0</td>\n",
              "      <td>STREET</td>\n",
              "      <td>OLYMPIC                      BL</td>\n",
              "      <td>KINGSLEY                     AV</td>\n",
              "      <td>{'longitude': '-118.3031', 'human_address': '{...</td>\n",
              "      <td>22723.0</td>\n",
              "      <td>617.0</td>\n",
              "      <td>646.0</td>\n",
              "      <td>NaN</td>\n",
              "      <td>12.0</td>\n",
              "      <td>89.0</td>\n",
              "    </tr>\n",
              "    <tr>\n",
              "      <th>2</th>\n",
              "      <td>191616992</td>\n",
              "      <td>2019-11-30T00:00:00.000</td>\n",
              "      <td>2019-11-30T00:00:00.000</td>\n",
              "      <td>230</td>\n",
              "      <td>16</td>\n",
              "      <td>Foothill</td>\n",
              "      <td>1669</td>\n",
              "      <td>997</td>\n",
              "      <td>TRAFFIC COLLISION</td>\n",
              "      <td>NaN</td>\n",
              "      <td>18.0</td>\n",
              "      <td>M</td>\n",
              "      <td>W</td>\n",
              "      <td>101.0</td>\n",
              "      <td>STREET</td>\n",
              "      <td>TUJUNGA CANYON               BL</td>\n",
              "      <td>LA TUNA CANYON               RD</td>\n",
              "      <td>{'longitude': '-118.2704', 'human_address': '{...</td>\n",
              "      <td>3222.0</td>\n",
              "      <td>5.0</td>\n",
              "      <td>227.0</td>\n",
              "      <td>NaN</td>\n",
              "      <td>1.0</td>\n",
              "      <td>7.0</td>\n",
              "    </tr>\n",
              "    <tr>\n",
              "      <th>3</th>\n",
              "      <td>191824082</td>\n",
              "      <td>2019-11-30T00:00:00.000</td>\n",
              "      <td>2019-11-30T00:00:00.000</td>\n",
              "      <td>730</td>\n",
              "      <td>18</td>\n",
              "      <td>Southeast</td>\n",
              "      <td>1802</td>\n",
              "      <td>997</td>\n",
              "      <td>TRAFFIC COLLISION</td>\n",
              "      <td>0605</td>\n",
              "      <td>23.0</td>\n",
              "      <td>M</td>\n",
              "      <td>H</td>\n",
              "      <td>101.0</td>\n",
              "      <td>STREET</td>\n",
              "      <td>88TH                         ST</td>\n",
              "      <td>MAIN                         ST</td>\n",
              "      <td>{'longitude': '-118.2739', 'human_address': '{...</td>\n",
              "      <td>22352.0</td>\n",
              "      <td>800.0</td>\n",
              "      <td>358.0</td>\n",
              "      <td>7.0</td>\n",
              "      <td>14.0</td>\n",
              "      <td>45.0</td>\n",
              "    </tr>\n",
              "    <tr>\n",
              "      <th>4</th>\n",
              "      <td>191616980</td>\n",
              "      <td>2019-11-30T00:00:00.000</td>\n",
              "      <td>2019-11-30T00:00:00.000</td>\n",
              "      <td>720</td>\n",
              "      <td>16</td>\n",
              "      <td>Foothill</td>\n",
              "      <td>1689</td>\n",
              "      <td>997</td>\n",
              "      <td>TRAFFIC COLLISION</td>\n",
              "      <td>NaN</td>\n",
              "      <td>NaN</td>\n",
              "      <td>M</td>\n",
              "      <td>H</td>\n",
              "      <td>101.0</td>\n",
              "      <td>STREET</td>\n",
              "      <td>CROCKETT</td>\n",
              "      <td>SUNLAND</td>\n",
              "      <td>{'longitude': '-118.3703', 'human_address': '{...</td>\n",
              "      <td>19335.0</td>\n",
              "      <td>166.0</td>\n",
              "      <td>272.0</td>\n",
              "      <td>NaN</td>\n",
              "      <td>3.0</td>\n",
              "      <td>21.0</td>\n",
              "    </tr>\n",
              "    <tr>\n",
              "      <th>5</th>\n",
              "      <td>191824078</td>\n",
              "      <td>2019-11-30T00:00:00.000</td>\n",
              "      <td>2019-11-30T00:00:00.000</td>\n",
              "      <td>1050</td>\n",
              "      <td>18</td>\n",
              "      <td>Southeast</td>\n",
              "      <td>1836</td>\n",
              "      <td>997</td>\n",
              "      <td>TRAFFIC COLLISION</td>\n",
              "      <td>4025 3037 3004 3026 3101</td>\n",
              "      <td>54.0</td>\n",
              "      <td>F</td>\n",
              "      <td>B</td>\n",
              "      <td>101.0</td>\n",
              "      <td>STREET</td>\n",
              "      <td>COMPTON                      AV</td>\n",
              "      <td>109TH                        ST</td>\n",
              "      <td>{'longitude': '-118.2463', 'human_address': '{...</td>\n",
              "      <td>24354.0</td>\n",
              "      <td>817.0</td>\n",
              "      <td>1187.0</td>\n",
              "      <td>7.0</td>\n",
              "      <td>15.0</td>\n",
              "      <td>40.0</td>\n",
              "    </tr>\n",
              "    <tr>\n",
              "      <th>6</th>\n",
              "      <td>190417458</td>\n",
              "      <td>2019-11-30T00:00:00.000</td>\n",
              "      <td>2019-11-30T00:00:00.000</td>\n",
              "      <td>130</td>\n",
              "      <td>4</td>\n",
              "      <td>Hollenbeck</td>\n",
              "      <td>411</td>\n",
              "      <td>997</td>\n",
              "      <td>TRAFFIC COLLISION</td>\n",
              "      <td>0605</td>\n",
              "      <td>33.0</td>\n",
              "      <td>F</td>\n",
              "      <td>B</td>\n",
              "      <td>101.0</td>\n",
              "      <td>STREET</td>\n",
              "      <td>BROADWAY</td>\n",
              "      <td>PASADENA                     AV</td>\n",
              "      <td>{'longitude': '-118.2242', 'human_address': '{...</td>\n",
              "      <td>23448.0</td>\n",
              "      <td>492.0</td>\n",
              "      <td>943.0</td>\n",
              "      <td>1.0</td>\n",
              "      <td>11.0</td>\n",
              "      <td>1.0</td>\n",
              "    </tr>\n",
              "    <tr>\n",
              "      <th>7</th>\n",
              "      <td>191616985</td>\n",
              "      <td>2019-11-30T00:00:00.000</td>\n",
              "      <td>2019-11-30T00:00:00.000</td>\n",
              "      <td>700</td>\n",
              "      <td>16</td>\n",
              "      <td>Foothill</td>\n",
              "      <td>1687</td>\n",
              "      <td>997</td>\n",
              "      <td>TRAFFIC COLLISION</td>\n",
              "      <td>NaN</td>\n",
              "      <td>35.0</td>\n",
              "      <td>M</td>\n",
              "      <td>H</td>\n",
              "      <td>101.0</td>\n",
              "      <td>STREET</td>\n",
              "      <td>TUJUNGA                      AV</td>\n",
              "      <td>PENROSE                      ST</td>\n",
              "      <td>{'longitude': '-118.3795', 'human_address': '{...</td>\n",
              "      <td>19335.0</td>\n",
              "      <td>162.0</td>\n",
              "      <td>272.0</td>\n",
              "      <td>NaN</td>\n",
              "      <td>3.0</td>\n",
              "      <td>21.0</td>\n",
              "    </tr>\n",
              "    <tr>\n",
              "      <th>8</th>\n",
              "      <td>191718751</td>\n",
              "      <td>2019-11-30T00:00:00.000</td>\n",
              "      <td>2019-11-30T00:00:00.000</td>\n",
              "      <td>1230</td>\n",
              "      <td>17</td>\n",
              "      <td>Devonshire</td>\n",
              "      <td>1775</td>\n",
              "      <td>997</td>\n",
              "      <td>TRAFFIC COLLISION</td>\n",
              "      <td>NaN</td>\n",
              "      <td>51.0</td>\n",
              "      <td>M</td>\n",
              "      <td>O</td>\n",
              "      <td>101.0</td>\n",
              "      <td>STREET</td>\n",
              "      <td>WISH</td>\n",
              "      <td>VINCENNES</td>\n",
              "      <td>{'longitude': '-118.5084', 'human_address': '{...</td>\n",
              "      <td>18514.0</td>\n",
              "      <td>104.0</td>\n",
              "      <td>1422.0</td>\n",
              "      <td>NaN</td>\n",
              "      <td>2.0</td>\n",
              "      <td>87.0</td>\n",
              "    </tr>\n",
              "    <tr>\n",
              "      <th>9</th>\n",
              "      <td>191718743</td>\n",
              "      <td>2019-11-30T00:00:00.000</td>\n",
              "      <td>2019-11-30T00:00:00.000</td>\n",
              "      <td>10</td>\n",
              "      <td>17</td>\n",
              "      <td>Devonshire</td>\n",
              "      <td>1737</td>\n",
              "      <td>997</td>\n",
              "      <td>TRAFFIC COLLISION</td>\n",
              "      <td>NaN</td>\n",
              "      <td>23.0</td>\n",
              "      <td>F</td>\n",
              "      <td>H</td>\n",
              "      <td>101.0</td>\n",
              "      <td>STREET</td>\n",
              "      <td>HAYVENHURST</td>\n",
              "      <td>SAN FERNANDO MISSION</td>\n",
              "      <td>{'longitude': '-118.4934', 'human_address': '{...</td>\n",
              "      <td>19329.0</td>\n",
              "      <td>78.0</td>\n",
              "      <td>382.0</td>\n",
              "      <td>NaN</td>\n",
              "      <td>2.0</td>\n",
              "      <td>79.0</td>\n",
              "    </tr>\n",
              "  </tbody>\n",
              "</table>\n",
              "</div>"
            ],
            "text/plain": [
              "   RECORD_NUMBER  ... NEIGHBOURHOOD_COUNCILS\n",
              "0      191323054  ...                   46.0\n",
              "1      192020666  ...                   89.0\n",
              "2      191616992  ...                    7.0\n",
              "3      191824082  ...                   45.0\n",
              "4      191616980  ...                   21.0\n",
              "5      191824078  ...                   40.0\n",
              "6      190417458  ...                    1.0\n",
              "7      191616985  ...                   21.0\n",
              "8      191718751  ...                   87.0\n",
              "9      191718743  ...                   79.0\n",
              "\n",
              "[10 rows x 24 columns]"
            ]
          },
          "metadata": {
            "tags": []
          },
          "execution_count": 61
        }
      ]
    },
    {
      "cell_type": "code",
      "metadata": {
        "colab": {
          "base_uri": "https://localhost:8080/"
        },
        "id": "LYfln7Ih9ZRb",
        "outputId": "54b050a6-4f90-414d-d9ff-61e21aa6faf3"
      },
      "source": [
        "# Visualise Spark DataFrame\n",
        "\n",
        "print(df_s.show(10))"
      ],
      "execution_count": 62,
      "outputs": [
        {
          "output_type": "stream",
          "text": [
            "+-------------+-------------------+-------------------+------------+-------+----------+------------------+----------+----------------------+--------------------+----------+----------+--------------+------------+-------------------+--------------------+--------------------+--------------------+---------------+----------------+------------------+--------------------+-----------------+----------------------+\n",
            "|RECORD_NUMBER|      DATE_REPORTED|       DATE_OCCURED|TIME_OCCURED|AREA_ID| AREA_NAME|REPORTING_DISTRICT|CRIME_CODE|CRIME_CODE_DESCRIPTION|            MO_CODES|VICTIM_AGE|VICTIM_SEX|VICTIM_DESCENT|PREMISE_CODE|PREMISE_DESCRIPTION|             ADDRESS|        CROSS_STREET|            LOCATION|      ZIP_CODES|   CENSUS_TRACTS|PRECINT_BOUNDARIES|   LA_SPECIFIC_PLANS|COUNCIL_DISTRICTS|NEIGHBOURHOOD_COUNCILS|\n",
            "+-------------+-------------------+-------------------+------------+-------+----------+------------------+----------+----------------------+--------------------+----------+----------+--------------+------------+-------------------+--------------------+--------------------+--------------------+---------------+----------------+------------------+--------------------+-----------------+----------------------+\n",
            "|    191323054|2019-11-30 00:00:00|2019-11-30 00:00:00|         130|     13|    Newton|              1385|       997|     TRAFFIC COLLISION|                null|      null|         F|             H|         101|             STREET|SAN PEDRO        ...|SLAUSON          ...|\"{'longitude': '-...| \"\"city\"\": \"\"\"\"| \"\"state\"\": \"\"\"\"|   \"\"zip\"\": \"\"\"\"}'| 'latitude': '33....|            22352|                   786|\n",
            "|    192020666|2019-11-30 00:00:00|2019-11-30 00:00:00|          15|     20|   Olympic|              2054|       997|     TRAFFIC COLLISION|                null|        40|         M|             W|         101|             STREET|OLYMPIC          ...|KINGSLEY         ...|\"{'longitude': '-...| \"\"city\"\": \"\"\"\"| \"\"state\"\": \"\"\"\"|   \"\"zip\"\": \"\"\"\"}'| 'latitude': '34....|            22723|                   617|\n",
            "|    191616992|2019-11-30 00:00:00|2019-11-30 00:00:00|         230|     16|  Foothill|              1669|       997|     TRAFFIC COLLISION|                null|        18|         M|             W|         101|             STREET|TUJUNGA CANYON   ...|LA TUNA CANYON   ...|\"{'longitude': '-...| \"\"city\"\": \"\"\"\"| \"\"state\"\": \"\"\"\"|   \"\"zip\"\": \"\"\"\"}'| 'latitude': '34....|             3222|                     5|\n",
            "|    191824082|2019-11-30 00:00:00|2019-11-30 00:00:00|         730|     18| Southeast|              1802|       997|     TRAFFIC COLLISION|                0605|        23|         M|             H|         101|             STREET|88TH             ...|MAIN             ...|\"{'longitude': '-...| \"\"city\"\": \"\"\"\"| \"\"state\"\": \"\"\"\"|   \"\"zip\"\": \"\"\"\"}'| 'latitude': '33....|            22352|                   800|\n",
            "|    191616980|2019-11-30 00:00:00|2019-11-30 00:00:00|         720|     16|  Foothill|              1689|       997|     TRAFFIC COLLISION|                null|      null|         M|             H|         101|             STREET|            CROCKETT|             SUNLAND|\"{'longitude': '-...| \"\"city\"\": \"\"\"\"| \"\"state\"\": \"\"\"\"|   \"\"zip\"\": \"\"\"\"}'| 'latitude': '34....|            19335|                   166|\n",
            "|    191824078|2019-11-30 00:00:00|2019-11-30 00:00:00|        1050|     18| Southeast|              1836|       997|     TRAFFIC COLLISION|4025 3037 3004 30...|        54|         F|             B|         101|             STREET|COMPTON          ...|109TH            ...|\"{'longitude': '-...| \"\"city\"\": \"\"\"\"| \"\"state\"\": \"\"\"\"|   \"\"zip\"\": \"\"\"\"}'| 'latitude': '33....|            24354|                   817|\n",
            "|    190417458|2019-11-30 00:00:00|2019-11-30 00:00:00|         130|      4|Hollenbeck|               411|       997|     TRAFFIC COLLISION|                0605|        33|         F|             B|         101|             STREET|            BROADWAY|PASADENA         ...|\"{'longitude': '-...| \"\"city\"\": \"\"\"\"| \"\"state\"\": \"\"\"\"|   \"\"zip\"\": \"\"\"\"}'| 'latitude': '34....|            23448|                   492|\n",
            "|    191616985|2019-11-30 00:00:00|2019-11-30 00:00:00|         700|     16|  Foothill|              1687|       997|     TRAFFIC COLLISION|                null|        35|         M|             H|         101|             STREET|TUJUNGA          ...|PENROSE          ...|\"{'longitude': '-...| \"\"city\"\": \"\"\"\"| \"\"state\"\": \"\"\"\"|   \"\"zip\"\": \"\"\"\"}'| 'latitude': '34....|            19335|                   162|\n",
            "|    191718751|2019-11-30 00:00:00|2019-11-30 00:00:00|        1230|     17|Devonshire|              1775|       997|     TRAFFIC COLLISION|                null|        51|         M|             O|         101|             STREET|                WISH|           VINCENNES|\"{'longitude': '-...| \"\"city\"\": \"\"\"\"| \"\"state\"\": \"\"\"\"|   \"\"zip\"\": \"\"\"\"}'| 'latitude': '34....|            18514|                   104|\n",
            "|    191718743|2019-11-30 00:00:00|2019-11-30 00:00:00|          10|     17|Devonshire|              1737|       997|     TRAFFIC COLLISION|                null|        23|         F|             H|         101|             STREET|         HAYVENHURST|SAN FERNANDO MISSION|\"{'longitude': '-...| \"\"city\"\": \"\"\"\"| \"\"state\"\": \"\"\"\"|   \"\"zip\"\": \"\"\"\"}'| 'latitude': '34....|            19329|                    78|\n",
            "+-------------+-------------------+-------------------+------------+-------+----------+------------------+----------+----------------------+--------------------+----------+----------+--------------+------------+-------------------+--------------------+--------------------+--------------------+---------------+----------------+------------------+--------------------+-----------------+----------------------+\n",
            "only showing top 10 rows\n",
            "\n",
            "None\n"
          ],
          "name": "stdout"
        }
      ]
    },
    {
      "cell_type": "markdown",
      "metadata": {
        "id": "l9uxBKvSOjNj"
      },
      "source": [
        "#### **2.4.1. Seleccion y Eliminacion de Columnas**\n",
        "\n",
        "En esta sección se encuentra el código empleado para la limpieza de los datos. Aquí, se eliminarán columnas cuyo contenido no aporte informacion relevante al registro de los datos, tales como códigos de identificación, numeración, etc."
      ]
    },
    {
      "cell_type": "markdown",
      "metadata": {
        "id": "XO_qLu58O1eU"
      },
      "source": [
        "#### `RECORD_NUMBER`\n",
        "\n",
        "Esta columna se eliminará puesto que en ella únicamente se almacena el código de identificación único que se tomó para cada evento, por ende no muestra información relevante."
      ]
    },
    {
      "cell_type": "code",
      "metadata": {
        "id": "HC4knFTmO7Hb"
      },
      "source": [
        "# Drop RECORD_NUMBER Column\n",
        "\n",
        "df = df.drop(columns = ['RECORD_NUMBER'])\n",
        "df_s = df_s.drop(df_s.RECORD_NUMBER)"
      ],
      "execution_count": 63,
      "outputs": []
    },
    {
      "cell_type": "markdown",
      "metadata": {
        "id": "erjUETFZPWyT"
      },
      "source": [
        "#### `DATE_REPORTED`\n",
        "\n",
        "La fecha de reporte de cada evento no es de tanto interés en este caso, puesto que se desea conocer patrones que permitan establecer por ejemplo el mes en el cual se presenta el mayor número de accidentes, razón por la cual es más relevante la fecha en que ocurre el accidente en sí, ya que al conservar ambas columnas se observarían desfases entre tiempos de accidente y reporte."
      ]
    },
    {
      "cell_type": "code",
      "metadata": {
        "id": "lxj8yVAEPNIk"
      },
      "source": [
        "# Drop DATE_REPORTED Column\n",
        "\n",
        "df = df.drop(columns = ['DATE_REPORTED'])\n",
        "df_s=df_s.drop(df_s.DATE_REPORTED)"
      ],
      "execution_count": 64,
      "outputs": []
    },
    {
      "cell_type": "markdown",
      "metadata": {
        "id": "y6cgT05GP6cG"
      },
      "source": [
        "#### `AREA_ID`\n",
        "\n",
        "Esta columna se puede eliminar ya que el nombre del área en que ocurre cada evento se tiene en otra columna, y por ende conservar ambas sería redundante. "
      ]
    },
    {
      "cell_type": "code",
      "metadata": {
        "id": "8o5ZxfdpQCIu"
      },
      "source": [
        "# Drop AREA_ID Column\n",
        "\n",
        "df = df.drop(columns = ['AREA_ID'])\n",
        "df_s = df_s.drop(df_s.AREA_ID)"
      ],
      "execution_count": 65,
      "outputs": []
    },
    {
      "cell_type": "markdown",
      "metadata": {
        "id": "otCUU58uQQG9"
      },
      "source": [
        "#### `MO_CODES`\n",
        "Esta columna contiene códigos o identificadores relacionados al área en que ocurre el evento, por lo que al igual que en el caso de la columna `AREA ID`su información es reduntante y no aporta signficativamente al estudio. "
      ]
    },
    {
      "cell_type": "code",
      "metadata": {
        "id": "PkMyKxhfSDJW"
      },
      "source": [
        "# Drop MO_CODES Column\n",
        "\n",
        "df = df.drop(columns = ['MO_CODES'])\n",
        "df_s = df_s.drop(df_s.MO_CODES)"
      ],
      "execution_count": 66,
      "outputs": []
    },
    {
      "cell_type": "markdown",
      "metadata": {
        "id": "PCuVZyO4sWfT"
      },
      "source": [
        "#### `CRIME_CODE`\n",
        "Esta columna se relaciona directamente con el tipo de crimen, y como el dataset contiene únicamente eventos relacionados con accidentes de tránsito este valor será el mismo para todos los registros, por lo cual no aporta información alguna y puede eliminarse."
      ]
    },
    {
      "cell_type": "code",
      "metadata": {
        "id": "_t9R2vIcsYSd"
      },
      "source": [
        "# Drop CRIME_CODE Column\n",
        "\n",
        "df = df.drop(columns = ['CRIME_CODE'])\n",
        "df_s = df_s.drop(df_s.CRIME_CODE)"
      ],
      "execution_count": 67,
      "outputs": []
    },
    {
      "cell_type": "markdown",
      "metadata": {
        "id": "YDn2T7TnSuVf"
      },
      "source": [
        "#### `PREMISE_CODE`\n",
        "\n",
        "Esta columna contiene la descripción de la premisa, por lo cual no aporta información relevante.\n"
      ]
    },
    {
      "cell_type": "code",
      "metadata": {
        "id": "YMg3nhohTtBa"
      },
      "source": [
        "# Drop PREMISE_CODE Column\n",
        "\n",
        "df = df.drop(columns = ['PREMISE_CODE'])\n",
        "df_s = df_s.drop(df_s.PREMISE_CODE)"
      ],
      "execution_count": 68,
      "outputs": []
    },
    {
      "cell_type": "markdown",
      "metadata": {
        "id": "hUQw80IDswU2"
      },
      "source": [
        "#### `REPORTING_DISTRICT`\n",
        "\n",
        "Esta columna evalúa el número del reporte del accidente, lo cual en sí da como resultado el número total, pero no representa un número de interes, ya que este cambia reporte a reporte."
      ]
    },
    {
      "cell_type": "code",
      "metadata": {
        "id": "91_GrzgXsvX7"
      },
      "source": [
        "# Drop REPORTING_DISTRICT Column\n",
        "\n",
        "df = df.drop(columns = ['REPORTING_DISTRICT'])\n",
        "df_s = df_s.drop(df_s.REPORTING_DISTRICT)"
      ],
      "execution_count": 69,
      "outputs": []
    },
    {
      "cell_type": "markdown",
      "metadata": {
        "id": "f-1PHOq9T-HJ"
      },
      "source": [
        "#### `LOCATION`\n",
        "\n",
        "Este valor no aporta información relevante ya que contiene las coordenadas geográficas de la dirección en que se presentó el accidente, lo cual se escapa del alcance de este estudio. Por ello, se procederá a eliminar esta columna."
      ]
    },
    {
      "cell_type": "code",
      "metadata": {
        "id": "70nvkcxfUYuU"
      },
      "source": [
        "# Drop LOCATION Column\n",
        "\n",
        "df = df.drop(columns = ['LOCATION'])\n",
        "df_s = df_s.drop(df_s.LOCATION)"
      ],
      "execution_count": 70,
      "outputs": []
    },
    {
      "cell_type": "markdown",
      "metadata": {
        "id": "qWrzWIV8UvUh"
      },
      "source": [
        "#### `ZIP CODE, CENSUS TRACT, PRECIENT BOUNDARIES, LA SPECIFIC PLANS, COUNCIL DISTRICTS, NEITGBOURHOOD COUNCILS, CRIME_CODE_DECRIPTCION`\n",
        "\n",
        "Estas columnas contienen información sobre códigos en general, tales como el código postal, lo cual resta de importancia en nuestro estudio."
      ]
    },
    {
      "cell_type": "code",
      "metadata": {
        "id": "9_6Zl_CEUthR"
      },
      "source": [
        "# Drop ZIP_CODES, NEIGHBOURHOOD_COUNCILS, CENSUS_TRACTS, PRECINT_BOUNDARIES, LA_SPECIFIC_PLANS, COUNCIL_DISTRICTS Columns\n",
        "\n",
        "df = df.drop(columns = ['ZIP_CODES','NEIGHBOURHOOD_COUNCILS','CENSUS_TRACTS','PRECINT_BOUNDARIES','LA_SPECIFIC_PLANS','COUNCIL_DISTRICTS','CRIME_CODE_DESCRIPTION','TIME_OCCURED'])\n",
        "\n",
        "df_s = df_s.drop(df_s.ZIP_CODES)\n",
        "df_s = df_s.drop(df_s.NEIGHBOURHOOD_COUNCILS)\n",
        "df_s = df_s.drop(df_s.CENSUS_TRACTS)\n",
        "df_s = df_s.drop(df_s.PRECINT_BOUNDARIES)\n",
        "df_s = df_s.drop(df_s.LA_SPECIFIC_PLANS)\n",
        "df_s = df_s.drop(df_s.COUNCIL_DISTRICTS)\n",
        "df_s = df_s.drop(df_s.CRIME_CODE_DESCRIPTION)\n",
        "df_s = df_s.drop(df_s.TIME_OCCURED)"
      ],
      "execution_count": 71,
      "outputs": []
    },
    {
      "cell_type": "code",
      "metadata": {
        "colab": {
          "base_uri": "https://localhost:8080/",
          "height": 359
        },
        "id": "9knj1ABOjBD1",
        "outputId": "f3393c55-6a8f-49b7-b2a4-10b3a60bbbe0"
      },
      "source": [
        "# Visualise Pandas DataFrame after Deleting Unnecessary Columns\n",
        "\n",
        "df.head(10)"
      ],
      "execution_count": 72,
      "outputs": [
        {
          "output_type": "execute_result",
          "data": {
            "text/html": [
              "<div>\n",
              "<style scoped>\n",
              "    .dataframe tbody tr th:only-of-type {\n",
              "        vertical-align: middle;\n",
              "    }\n",
              "\n",
              "    .dataframe tbody tr th {\n",
              "        vertical-align: top;\n",
              "    }\n",
              "\n",
              "    .dataframe thead th {\n",
              "        text-align: right;\n",
              "    }\n",
              "</style>\n",
              "<table border=\"1\" class=\"dataframe\">\n",
              "  <thead>\n",
              "    <tr style=\"text-align: right;\">\n",
              "      <th></th>\n",
              "      <th>DATE_OCCURED</th>\n",
              "      <th>AREA_NAME</th>\n",
              "      <th>VICTIM_AGE</th>\n",
              "      <th>VICTIM_SEX</th>\n",
              "      <th>VICTIM_DESCENT</th>\n",
              "      <th>PREMISE_DESCRIPTION</th>\n",
              "      <th>ADDRESS</th>\n",
              "      <th>CROSS_STREET</th>\n",
              "    </tr>\n",
              "  </thead>\n",
              "  <tbody>\n",
              "    <tr>\n",
              "      <th>0</th>\n",
              "      <td>2019-11-30T00:00:00.000</td>\n",
              "      <td>Newton</td>\n",
              "      <td>NaN</td>\n",
              "      <td>F</td>\n",
              "      <td>H</td>\n",
              "      <td>STREET</td>\n",
              "      <td>SAN PEDRO                    ST</td>\n",
              "      <td>SLAUSON                      AV</td>\n",
              "    </tr>\n",
              "    <tr>\n",
              "      <th>1</th>\n",
              "      <td>2019-11-30T00:00:00.000</td>\n",
              "      <td>Olympic</td>\n",
              "      <td>40.0</td>\n",
              "      <td>M</td>\n",
              "      <td>W</td>\n",
              "      <td>STREET</td>\n",
              "      <td>OLYMPIC                      BL</td>\n",
              "      <td>KINGSLEY                     AV</td>\n",
              "    </tr>\n",
              "    <tr>\n",
              "      <th>2</th>\n",
              "      <td>2019-11-30T00:00:00.000</td>\n",
              "      <td>Foothill</td>\n",
              "      <td>18.0</td>\n",
              "      <td>M</td>\n",
              "      <td>W</td>\n",
              "      <td>STREET</td>\n",
              "      <td>TUJUNGA CANYON               BL</td>\n",
              "      <td>LA TUNA CANYON               RD</td>\n",
              "    </tr>\n",
              "    <tr>\n",
              "      <th>3</th>\n",
              "      <td>2019-11-30T00:00:00.000</td>\n",
              "      <td>Southeast</td>\n",
              "      <td>23.0</td>\n",
              "      <td>M</td>\n",
              "      <td>H</td>\n",
              "      <td>STREET</td>\n",
              "      <td>88TH                         ST</td>\n",
              "      <td>MAIN                         ST</td>\n",
              "    </tr>\n",
              "    <tr>\n",
              "      <th>4</th>\n",
              "      <td>2019-11-30T00:00:00.000</td>\n",
              "      <td>Foothill</td>\n",
              "      <td>NaN</td>\n",
              "      <td>M</td>\n",
              "      <td>H</td>\n",
              "      <td>STREET</td>\n",
              "      <td>CROCKETT</td>\n",
              "      <td>SUNLAND</td>\n",
              "    </tr>\n",
              "    <tr>\n",
              "      <th>5</th>\n",
              "      <td>2019-11-30T00:00:00.000</td>\n",
              "      <td>Southeast</td>\n",
              "      <td>54.0</td>\n",
              "      <td>F</td>\n",
              "      <td>B</td>\n",
              "      <td>STREET</td>\n",
              "      <td>COMPTON                      AV</td>\n",
              "      <td>109TH                        ST</td>\n",
              "    </tr>\n",
              "    <tr>\n",
              "      <th>6</th>\n",
              "      <td>2019-11-30T00:00:00.000</td>\n",
              "      <td>Hollenbeck</td>\n",
              "      <td>33.0</td>\n",
              "      <td>F</td>\n",
              "      <td>B</td>\n",
              "      <td>STREET</td>\n",
              "      <td>BROADWAY</td>\n",
              "      <td>PASADENA                     AV</td>\n",
              "    </tr>\n",
              "    <tr>\n",
              "      <th>7</th>\n",
              "      <td>2019-11-30T00:00:00.000</td>\n",
              "      <td>Foothill</td>\n",
              "      <td>35.0</td>\n",
              "      <td>M</td>\n",
              "      <td>H</td>\n",
              "      <td>STREET</td>\n",
              "      <td>TUJUNGA                      AV</td>\n",
              "      <td>PENROSE                      ST</td>\n",
              "    </tr>\n",
              "    <tr>\n",
              "      <th>8</th>\n",
              "      <td>2019-11-30T00:00:00.000</td>\n",
              "      <td>Devonshire</td>\n",
              "      <td>51.0</td>\n",
              "      <td>M</td>\n",
              "      <td>O</td>\n",
              "      <td>STREET</td>\n",
              "      <td>WISH</td>\n",
              "      <td>VINCENNES</td>\n",
              "    </tr>\n",
              "    <tr>\n",
              "      <th>9</th>\n",
              "      <td>2019-11-30T00:00:00.000</td>\n",
              "      <td>Devonshire</td>\n",
              "      <td>23.0</td>\n",
              "      <td>F</td>\n",
              "      <td>H</td>\n",
              "      <td>STREET</td>\n",
              "      <td>HAYVENHURST</td>\n",
              "      <td>SAN FERNANDO MISSION</td>\n",
              "    </tr>\n",
              "  </tbody>\n",
              "</table>\n",
              "</div>"
            ],
            "text/plain": [
              "              DATE_OCCURED  ...                     CROSS_STREET\n",
              "0  2019-11-30T00:00:00.000  ...  SLAUSON                      AV\n",
              "1  2019-11-30T00:00:00.000  ...  KINGSLEY                     AV\n",
              "2  2019-11-30T00:00:00.000  ...  LA TUNA CANYON               RD\n",
              "3  2019-11-30T00:00:00.000  ...  MAIN                         ST\n",
              "4  2019-11-30T00:00:00.000  ...                          SUNLAND\n",
              "5  2019-11-30T00:00:00.000  ...  109TH                        ST\n",
              "6  2019-11-30T00:00:00.000  ...  PASADENA                     AV\n",
              "7  2019-11-30T00:00:00.000  ...  PENROSE                      ST\n",
              "8  2019-11-30T00:00:00.000  ...                        VINCENNES\n",
              "9  2019-11-30T00:00:00.000  ...             SAN FERNANDO MISSION\n",
              "\n",
              "[10 rows x 8 columns]"
            ]
          },
          "metadata": {
            "tags": []
          },
          "execution_count": 72
        }
      ]
    },
    {
      "cell_type": "code",
      "metadata": {
        "colab": {
          "base_uri": "https://localhost:8080/"
        },
        "id": "ntmD0M-JDLKq",
        "outputId": "8b2dac4c-9099-46fc-924b-365e4d9b2397"
      },
      "source": [
        "# Visualise Spark DataFrame after Deleting Unnecessary Columns\n",
        "\n",
        "print(df_s.show(10))"
      ],
      "execution_count": 73,
      "outputs": [
        {
          "output_type": "stream",
          "text": [
            "+-------------------+----------+----------+----------+--------------+-------------------+--------------------+--------------------+\n",
            "|       DATE_OCCURED| AREA_NAME|VICTIM_AGE|VICTIM_SEX|VICTIM_DESCENT|PREMISE_DESCRIPTION|             ADDRESS|        CROSS_STREET|\n",
            "+-------------------+----------+----------+----------+--------------+-------------------+--------------------+--------------------+\n",
            "|2019-11-30 00:00:00|    Newton|      null|         F|             H|             STREET|SAN PEDRO        ...|SLAUSON          ...|\n",
            "|2019-11-30 00:00:00|   Olympic|        40|         M|             W|             STREET|OLYMPIC          ...|KINGSLEY         ...|\n",
            "|2019-11-30 00:00:00|  Foothill|        18|         M|             W|             STREET|TUJUNGA CANYON   ...|LA TUNA CANYON   ...|\n",
            "|2019-11-30 00:00:00| Southeast|        23|         M|             H|             STREET|88TH             ...|MAIN             ...|\n",
            "|2019-11-30 00:00:00|  Foothill|      null|         M|             H|             STREET|            CROCKETT|             SUNLAND|\n",
            "|2019-11-30 00:00:00| Southeast|        54|         F|             B|             STREET|COMPTON          ...|109TH            ...|\n",
            "|2019-11-30 00:00:00|Hollenbeck|        33|         F|             B|             STREET|            BROADWAY|PASADENA         ...|\n",
            "|2019-11-30 00:00:00|  Foothill|        35|         M|             H|             STREET|TUJUNGA          ...|PENROSE          ...|\n",
            "|2019-11-30 00:00:00|Devonshire|        51|         M|             O|             STREET|                WISH|           VINCENNES|\n",
            "|2019-11-30 00:00:00|Devonshire|        23|         F|             H|             STREET|         HAYVENHURST|SAN FERNANDO MISSION|\n",
            "+-------------------+----------+----------+----------+--------------+-------------------+--------------------+--------------------+\n",
            "only showing top 10 rows\n",
            "\n",
            "None\n"
          ],
          "name": "stdout"
        }
      ]
    },
    {
      "cell_type": "markdown",
      "metadata": {
        "id": "ug45ubfHOFlL"
      },
      "source": [
        "#### **2.4.2. Eliminación o Reemplazo de Datos Faltantes**\n",
        "\n",
        "En las siguientes celdas se encuentra el código mediante el cual se buscarán los datos más relevantes del estudio para así poder disminuir el peso del DataFrame y tener mayor facilidad para asociaciones y busqueda de datos de interés."
      ]
    },
    {
      "cell_type": "code",
      "metadata": {
        "colab": {
          "base_uri": "https://localhost:8080/"
        },
        "id": "D8lK6OKnN5J0",
        "outputId": "edfd2482-c3c9-4fd0-a7ec-97ac5016b8c3"
      },
      "source": [
        "# Visualise Ammount of Missing Values\n",
        "\n",
        "print(df.isnull().sum())"
      ],
      "execution_count": 74,
      "outputs": [
        {
          "output_type": "stream",
          "text": [
            "DATE_OCCURED               0\n",
            "AREA_NAME                  0\n",
            "VICTIM_AGE             78714\n",
            "VICTIM_SEX              7615\n",
            "VICTIM_DESCENT          8407\n",
            "PREMISE_DESCRIPTION       26\n",
            "ADDRESS                    0\n",
            "CROSS_STREET           22962\n",
            "dtype: int64\n"
          ],
          "name": "stdout"
        }
      ]
    },
    {
      "cell_type": "markdown",
      "metadata": {
        "id": "kQJtBT0BW3OT"
      },
      "source": [
        "#### `VICTIM_AGE`\n",
        "\n",
        "Los valores faltantes se reemplazarán por la mediana de la muestra de edades del DataFrame. "
      ]
    },
    {
      "cell_type": "code",
      "metadata": {
        "id": "sGVU1mVCOiac"
      },
      "source": [
        "# Fill Missing Values from VICTIM_AGE Column with the Median\n",
        "\n",
        "victim_age_median = np.median(df['VICTIM_AGE'])\n",
        "\n",
        "df['VICTIM_AGE'].fillna(np.mean(victim_age_median), inplace = True)\n",
        "df_s = df_s.na.fill(value = victim_age_median, subset = ['VICTIM_AGE'])"
      ],
      "execution_count": 75,
      "outputs": []
    },
    {
      "cell_type": "code",
      "metadata": {
        "colab": {
          "base_uri": "https://localhost:8080/"
        },
        "id": "wm02YeBEN_cr",
        "outputId": "e8e0f961-67ee-4d31-c5f4-6bcae7cd305c"
      },
      "source": [
        "df.isnull().sum()"
      ],
      "execution_count": 76,
      "outputs": [
        {
          "output_type": "execute_result",
          "data": {
            "text/plain": [
              "DATE_OCCURED               0\n",
              "AREA_NAME                  0\n",
              "VICTIM_AGE             78714\n",
              "VICTIM_SEX              7615\n",
              "VICTIM_DESCENT          8407\n",
              "PREMISE_DESCRIPTION       26\n",
              "ADDRESS                    0\n",
              "CROSS_STREET           22962\n",
              "dtype: int64"
            ]
          },
          "metadata": {
            "tags": []
          },
          "execution_count": 76
        }
      ]
    },
    {
      "cell_type": "markdown",
      "metadata": {
        "id": "OGfCMNJyjs_s"
      },
      "source": [
        "#### `VICTIM_SEX`\n",
        "\n",
        "En primer lugar, se estimará el porcentaje de los datos faltantes en total para la columna `VICTIM SEX`."
      ]
    },
    {
      "cell_type": "code",
      "metadata": {
        "colab": {
          "base_uri": "https://localhost:8080/"
        },
        "id": "_az6eYeeN_PL",
        "outputId": "0aae22fa-fb56-4a37-c3a7-b197f00360fb"
      },
      "source": [
        "porcentajes_datos = (df.isnull().sum()[3]/df.shape[0]) * 100\n",
        "print(f'Porcentaje de Datos Faltantes (VICTIM_SEX): {porcentajes_datos:.3f}%')"
      ],
      "execution_count": 77,
      "outputs": [
        {
          "output_type": "stream",
          "text": [
            "Porcentaje de Datos Faltantes (VICTIM_SEX): 1.514%\n"
          ],
          "name": "stdout"
        }
      ]
    },
    {
      "cell_type": "markdown",
      "metadata": {
        "id": "0qhz-1MGkVZ1"
      },
      "source": [
        "Como se puede observar, los datos ocsilan alrededor del 1.5 % por lo cual se procedera a eliminarlos."
      ]
    },
    {
      "cell_type": "code",
      "metadata": {
        "id": "5GsZuW-HN_JT"
      },
      "source": [
        "df_s = df_s.na.drop(subset = [\"VICTIM_SEX\"])"
      ],
      "execution_count": 78,
      "outputs": []
    },
    {
      "cell_type": "markdown",
      "metadata": {
        "id": "SwzE6EKWlsdu"
      },
      "source": [
        "#### `CROSS_STREET`\n",
        "\n",
        "Se procede a evaluar el número de registros faltantes en la columna `CROSS_STREET` en porcentaje para evaluar su relevancia y si se puede proceder a eliminarlos."
      ]
    },
    {
      "cell_type": "code",
      "metadata": {
        "colab": {
          "base_uri": "https://localhost:8080/"
        },
        "id": "B-c6im7zN_GT",
        "outputId": "d44719ba-d359-4686-f868-ad72a8179293"
      },
      "source": [
        "porcentajes_datos1 = (df.isnull().sum()[-1]/df.shape[0]) * 100\n",
        "print(f'Porcentaje de Datos Faltantes (CROSS_STREET): {porcentajes_datos1:.3f}%')"
      ],
      "execution_count": 79,
      "outputs": [
        {
          "output_type": "stream",
          "text": [
            "Porcentaje de Datos Faltantes (CROSS_STREET): 4.566%\n"
          ],
          "name": "stdout"
        }
      ]
    },
    {
      "cell_type": "markdown",
      "metadata": {
        "id": "4E7MgjBHmLX9"
      },
      "source": [
        "Debido a que el porcentaje de datos faltantes en esta columna es bajo (menor al 5%), se procederá a eliminar las filas con datos faltantes en esta columna."
      ]
    },
    {
      "cell_type": "code",
      "metadata": {
        "id": "LqSvdp3pmJf3"
      },
      "source": [
        "df_s = df_s.na.drop(subset = [\"CROSS_STREET\"])"
      ],
      "execution_count": 80,
      "outputs": []
    },
    {
      "cell_type": "markdown",
      "metadata": {
        "id": "ROedfY9sn696"
      },
      "source": [
        "#### **2.4.3. Separación de la Columna `DATE_OCCURED`**"
      ]
    },
    {
      "cell_type": "code",
      "metadata": {
        "id": "gr-WOtrbn9Cb"
      },
      "source": [
        "df_s = df_s.withColumn('year', split(df_s['DATE_OCCURED'], '-').getItem(0)).withColumn('month', split(df_s['DATE_OCCURED'], '-').getItem(1))\n",
        "df_s = df_s.drop(df_s.DATE_OCCURED)"
      ],
      "execution_count": 81,
      "outputs": []
    },
    {
      "cell_type": "markdown",
      "metadata": {
        "id": "C7iPnmLkQ3r4"
      },
      "source": [
        "#### **2.4.4. Creacion de Categorias por Edad**"
      ]
    },
    {
      "cell_type": "code",
      "metadata": {
        "id": "NozjEF9WRFWg"
      },
      "source": [
        "import pyspark.sql.functions as F\n",
        "from pyspark.sql.types import *\n",
        "\n",
        "def edad(a):\n",
        "  if   0 <= a < 12: \n",
        "      return 'Niño'\n",
        "  elif 12 < a <= 18:\n",
        "      return 'Adolecente'\n",
        "  elif 18 < a <= 30:\n",
        "      return 'Joven'\n",
        "  elif 30 < a <= 60:\n",
        "      return 'Adulto'\n",
        "  elif 60 < a:\n",
        "      return 'Anciano'\n",
        "\n",
        "# Convert to a UDF Function by passing in the function and return type of function\n",
        "edadfun = F.udf(edad, StringType())\n",
        "df_s = df_s.withColumn(\"AGE\", edadfun(\"VICTIM_AGE\"))"
      ],
      "execution_count": 82,
      "outputs": []
    },
    {
      "cell_type": "markdown",
      "metadata": {
        "id": "CxarcmqFmfPn"
      },
      "source": [
        "#### **2.4.5. DataFrame luego del Procesamiento**"
      ]
    },
    {
      "cell_type": "code",
      "metadata": {
        "colab": {
          "base_uri": "https://localhost:8080/"
        },
        "id": "uGQBlGPgFlMg",
        "outputId": "a8537819-b7ff-43a9-83c9-2f2083c2d84c"
      },
      "source": [
        "df_s.show(10)"
      ],
      "execution_count": 83,
      "outputs": [
        {
          "output_type": "stream",
          "text": [
            "+----------+----------+----------+--------------+-------------------+--------------------+--------------------+----+-----+----------+\n",
            "| AREA_NAME|VICTIM_AGE|VICTIM_SEX|VICTIM_DESCENT|PREMISE_DESCRIPTION|             ADDRESS|        CROSS_STREET|year|month|       AGE|\n",
            "+----------+----------+----------+--------------+-------------------+--------------------+--------------------+----+-----+----------+\n",
            "|    Newton|         0|         F|             H|             STREET|SAN PEDRO        ...|SLAUSON          ...|2019|   11|      Niño|\n",
            "|   Olympic|        40|         M|             W|             STREET|OLYMPIC          ...|KINGSLEY         ...|2019|   11|    Adulto|\n",
            "|  Foothill|        18|         M|             W|             STREET|TUJUNGA CANYON   ...|LA TUNA CANYON   ...|2019|   11|Adolecente|\n",
            "| Southeast|        23|         M|             H|             STREET|88TH             ...|MAIN             ...|2019|   11|     Joven|\n",
            "|  Foothill|         0|         M|             H|             STREET|            CROCKETT|             SUNLAND|2019|   11|      Niño|\n",
            "| Southeast|        54|         F|             B|             STREET|COMPTON          ...|109TH            ...|2019|   11|    Adulto|\n",
            "|Hollenbeck|        33|         F|             B|             STREET|            BROADWAY|PASADENA         ...|2019|   11|    Adulto|\n",
            "|  Foothill|        35|         M|             H|             STREET|TUJUNGA          ...|PENROSE          ...|2019|   11|    Adulto|\n",
            "|Devonshire|        51|         M|             O|             STREET|                WISH|           VINCENNES|2019|   11|    Adulto|\n",
            "|Devonshire|        23|         F|             H|             STREET|         HAYVENHURST|SAN FERNANDO MISSION|2019|   11|     Joven|\n",
            "+----------+----------+----------+--------------+-------------------+--------------------+--------------------+----+-----+----------+\n",
            "only showing top 10 rows\n",
            "\n"
          ],
          "name": "stdout"
        }
      ]
    },
    {
      "cell_type": "code",
      "metadata": {
        "colab": {
          "base_uri": "https://localhost:8080/"
        },
        "id": "rXZuWMAgzUCB",
        "outputId": "a373e272-1d50-44ed-bd62-13f8dce4db5a"
      },
      "source": [
        "type(df_s)"
      ],
      "execution_count": 84,
      "outputs": [
        {
          "output_type": "execute_result",
          "data": {
            "text/plain": [
              "pyspark.sql.dataframe.DataFrame"
            ]
          },
          "metadata": {
            "tags": []
          },
          "execution_count": 84
        }
      ]
    },
    {
      "cell_type": "markdown",
      "metadata": {
        "id": "hgUVCGiEyVR4"
      },
      "source": [
        "## **3. Visualización de los Datos**\n",
        "---"
      ]
    },
    {
      "cell_type": "markdown",
      "metadata": {
        "id": "X053r6aQeq2f"
      },
      "source": [
        "Se realizó un analisis estadístico general de los datos para encontrar patrones que nos permitan designar comportamientos caracteristicos en los accidentes.\n",
        "\n",
        "Se puede observar claramente que el sexo predominante en accidentes es el genero masculino, donde en los diferentes años presenta casi el doble de accidentes que el genero femenino y el resto de generos. Indicando que en movilidad, los hombres tienden a ser mas riegosos que los demás generos."
      ]
    },
    {
      "cell_type": "code",
      "metadata": {
        "colab": {
          "base_uri": "https://localhost:8080/",
          "height": 605
        },
        "id": "OKBgCoKIyYQw",
        "outputId": "c1670c04-215a-4633-fd7c-16616566e159"
      },
      "source": [
        "fig1, ax1 = plt.subplots(figsize= (16, 10))\n",
        "ax1 = sns.countplot(x = \"year\", hue =  \"VICTIM_SEX\", data = df_s.toPandas())"
      ],
      "execution_count": 85,
      "outputs": [
        {
          "output_type": "display_data",
          "data": {
            "image/png": "[encoded data removed]",
            "text/plain": [
              "<Figure size 1152x720 with 1 Axes>"
            ]
          },
          "metadata": {
            "tags": [],
            "image/png": {
              "width": 959,
              "height": 588
            },
            "needs_background": "light"
          }
        }
      ]
    },
    {
      "cell_type": "markdown",
      "metadata": {
        "id": "DBe1OF0Ls2hI"
      },
      "source": [
        "#### **3.1. Total de Accidentes por Año**\n",
        "\n",
        "La gráfica que se presenta a continuación muestra la totalidad de accidentes durante los 10 años que se encuentran presentes en el DataFrame `df_s`."
      ]
    },
    {
      "cell_type": "code",
      "metadata": {
        "colab": {
          "base_uri": "https://localhost:8080/",
          "height": 767
        },
        "id": "KgEAvd2QLYup",
        "outputId": "90b2243f-97e4-46e7-9c67-048802401706"
      },
      "source": [
        "# Bar Plot: Total Accidents per Year\n",
        "\n",
        "yearly_accidents = (df_s.groupBy(\"year\")).count().toPandas()\n",
        "yearly_accidents_xticks = np.linspace(start = 2010, stop = 2019, num = 10)\n",
        "yearly_accidents.year = yearly_accidents_xticks\n",
        "\n",
        "yearly_accidents_fig = px.bar(yearly_accidents, \n",
        "                        x = \"year\", \n",
        "                        y = \"count\", \n",
        "                        color = 'year',\n",
        "                        labels = {'year' : 'Year', 'count' : 'Total of Accidents'}, \n",
        "                        width = 1600 * 0.75,\n",
        "                        height = 1000 * 0.75)\n",
        "yearly_accidents_fig.update_layout(title_text = 'Total Accidents per Year', title_x = 0.5)\n",
        "yearly_accidents_fig.update_layout(xaxis = dict(tickmode = 'array', tickvals = yearly_accidents_xticks, ticktext = yearly_accidents_xticks))\n",
        "yearly_accidents_fig.show()"
      ],
      "execution_count": 86,
      "outputs": [
        {
          "output_type": "display_data",
          "data": {
            "text/html": [
              "<html>\n",
              "<head><meta charset=\"utf-8\" /></head>\n",
              "<body>\n",
              "    <div>\n",
              "            <script src=\"https://cdnjs.cloudflare.com/ajax/libs/mathjax/2.7.5/MathJax.js?config=TeX-AMS-MML_SVG\"></script><script type=\"text/javascript\">if (window.MathJax) {MathJax.Hub.Config({SVG: {font: \"STIX-Web\"}});}</script>\n",
              "                <script type=\"text/javascript\">window.PlotlyConfig = {MathJaxConfig: 'local'};</script>\n",
              "        <script src=\"https://cdn.plot.ly/plotly-latest.min.js\"></script>    \n",
              "            <div id=\"38d6ed37-d2c0-438e-84e9-bac96ff84487\" class=\"plotly-graph-div\" style=\"height:750.0px; width:1200.0px;\"></div>\n",
              "            <script type=\"text/javascript\">\n",
              "                \n",
              "                    window.PLOTLYENV=window.PLOTLYENV || {};\n",
              "                    \n",
              "                if (document.getElementById(\"38d6ed37-d2c0-438e-84e9-bac96ff84487\")) {\n",
              "                    Plotly.newPlot(\n",
              "                        '38d6ed37-d2c0-438e-84e9-bac96ff84487',\n",
              "                        [{\"alignmentgroup\": \"True\", \"hoverlabel\": {\"namelength\": 0}, \"hovertemplate\": \"Year=%{marker.color}<br>Total of Accidents=%{y}\", \"legendgroup\": \"\", \"marker\": {\"color\": [2010.0, 2011.0, 2012.0, 2013.0, 2014.0, 2015.0, 2016.0, 2017.0, 2018.0, 2019.0], \"coloraxis\": \"coloraxis\"}, \"name\": \"\", \"offsetgroup\": \"\", \"orientation\": \"v\", \"showlegend\": false, \"textposition\": \"auto\", \"type\": \"bar\", \"x\": [2010.0, 2011.0, 2012.0, 2013.0, 2014.0, 2015.0, 2016.0, 2017.0, 2018.0, 2019.0], \"xaxis\": \"x\", \"y\": [53590, 43115, 46915, 53644, 44182, 42406, 53414, 43044, 49343, 43033], \"yaxis\": \"y\"}],\n",
              "                        {\"barmode\": \"relative\", \"coloraxis\": {\"colorbar\": {\"title\": {\"text\": \"Year\"}}, \"colorscale\": [[0.0, \"#0d0887\"], [0.1111111111111111, \"#46039f\"], [0.2222222222222222, \"#7201a8\"], [0.3333333333333333, \"#9c179e\"], [0.4444444444444444, \"#bd3786\"], [0.5555555555555556, \"#d8576b\"], [0.6666666666666666, \"#ed7953\"], [0.7777777777777778, \"#fb9f3a\"], [0.8888888888888888, \"#fdca26\"], [1.0, \"#f0f921\"]]}, \"height\": 750.0, \"legend\": {\"tracegroupgap\": 0}, \"margin\": {\"t\": 60}, \"template\": {\"data\": {\"bar\": [{\"error_x\": {\"color\": \"#2a3f5f\"}, \"error_y\": {\"color\": \"#2a3f5f\"}, \"marker\": {\"line\": {\"color\": \"#E5ECF6\", \"width\": 0.5}}, \"type\": \"bar\"}], \"barpolar\": [{\"marker\": {\"line\": {\"color\": \"#E5ECF6\", \"width\": 0.5}}, \"type\": \"barpolar\"}], \"carpet\": [{\"aaxis\": {\"endlinecolor\": \"#2a3f5f\", \"gridcolor\": \"white\", \"linecolor\": \"white\", \"minorgridcolor\": \"white\", \"startlinecolor\": \"#2a3f5f\"}, \"baxis\": {\"endlinecolor\": \"#2a3f5f\", \"gridcolor\": \"white\", \"linecolor\": \"white\", \"minorgridcolor\": \"white\", \"startlinecolor\": \"#2a3f5f\"}, \"type\": \"carpet\"}], \"choropleth\": [{\"colorbar\": {\"outlinewidth\": 0, \"ticks\": \"\"}, \"type\": \"choropleth\"}], \"contour\": [{\"colorbar\": {\"outlinewidth\": 0, \"ticks\": \"\"}, \"colorscale\": [[0.0, \"#0d0887\"], [0.1111111111111111, \"#46039f\"], [0.2222222222222222, \"#7201a8\"], [0.3333333333333333, \"#9c179e\"], [0.4444444444444444, \"#bd3786\"], [0.5555555555555556, \"#d8576b\"], [0.6666666666666666, \"#ed7953\"], [0.7777777777777778, \"#fb9f3a\"], [0.8888888888888888, \"#fdca26\"], [1.0, \"#f0f921\"]], \"type\": \"contour\"}], \"contourcarpet\": [{\"colorbar\": {\"outlinewidth\": 0, \"ticks\": \"\"}, \"type\": \"contourcarpet\"}], \"heatmap\": [{\"colorbar\": {\"outlinewidth\": 0, \"ticks\": \"\"}, \"colorscale\": [[0.0, \"#0d0887\"], [0.1111111111111111, \"#46039f\"], [0.2222222222222222, \"#7201a8\"], [0.3333333333333333, \"#9c179e\"], [0.4444444444444444, \"#bd3786\"], [0.5555555555555556, \"#d8576b\"], [0.6666666666666666, \"#ed7953\"], [0.7777777777777778, \"#fb9f3a\"], [0.8888888888888888, \"#fdca26\"], [1.0, \"#f0f921\"]], \"type\": \"heatmap\"}], \"heatmapgl\": [{\"colorbar\": {\"outlinewidth\": 0, \"ticks\": \"\"}, \"colorscale\": [[0.0, \"#0d0887\"], [0.1111111111111111, \"#46039f\"], [0.2222222222222222, \"#7201a8\"], [0.3333333333333333, \"#9c179e\"], [0.4444444444444444, \"#bd3786\"], [0.5555555555555556, \"#d8576b\"], [0.6666666666666666, \"#ed7953\"], [0.7777777777777778, \"#fb9f3a\"], [0.8888888888888888, \"#fdca26\"], [1.0, \"#f0f921\"]], \"type\": \"heatmapgl\"}], \"histogram\": [{\"marker\": {\"colorbar\": {\"outlinewidth\": 0, \"ticks\": \"\"}}, \"type\": \"histogram\"}], \"histogram2d\": [{\"colorbar\": {\"outlinewidth\": 0, \"ticks\": \"\"}, \"colorscale\": [[0.0, \"#0d0887\"], [0.1111111111111111, \"#46039f\"], [0.2222222222222222, \"#7201a8\"], [0.3333333333333333, \"#9c179e\"], [0.4444444444444444, \"#bd3786\"], [0.5555555555555556, \"#d8576b\"], [0.6666666666666666, \"#ed7953\"], [0.7777777777777778, \"#fb9f3a\"], [0.8888888888888888, \"#fdca26\"], [1.0, \"#f0f921\"]], \"type\": \"histogram2d\"}], \"histogram2dcontour\": [{\"colorbar\": {\"outlinewidth\": 0, \"ticks\": \"\"}, \"colorscale\": [[0.0, \"#0d0887\"], [0.1111111111111111, \"#46039f\"], [0.2222222222222222, \"#7201a8\"], [0.3333333333333333, \"#9c179e\"], [0.4444444444444444, \"#bd3786\"], [0.5555555555555556, \"#d8576b\"], [0.6666666666666666, \"#ed7953\"], [0.7777777777777778, \"#fb9f3a\"], [0.8888888888888888, \"#fdca26\"], [1.0, \"#f0f921\"]], \"type\": \"histogram2dcontour\"}], \"mesh3d\": [{\"colorbar\": {\"outlinewidth\": 0, \"ticks\": \"\"}, \"type\": \"mesh3d\"}], \"parcoords\": [{\"line\": {\"colorbar\": {\"outlinewidth\": 0, \"ticks\": \"\"}}, \"type\": \"parcoords\"}], \"pie\": [{\"automargin\": true, \"type\": \"pie\"}], \"scatter\": [{\"marker\": {\"colorbar\": {\"outlinewidth\": 0, \"ticks\": \"\"}}, \"type\": \"scatter\"}], \"scatter3d\": [{\"line\": {\"colorbar\": {\"outlinewidth\": 0, \"ticks\": \"\"}}, \"marker\": {\"colorbar\": {\"outlinewidth\": 0, \"ticks\": \"\"}}, \"type\": \"scatter3d\"}], \"scattercarpet\": [{\"marker\": {\"colorbar\": {\"outlinewidth\": 0, \"ticks\": \"\"}}, \"type\": \"scattercarpet\"}], \"scattergeo\": [{\"marker\": {\"colorbar\": {\"outlinewidth\": 0, \"ticks\": \"\"}}, \"type\": \"scattergeo\"}], \"scattergl\": [{\"marker\": {\"colorbar\": {\"outlinewidth\": 0, \"ticks\": \"\"}}, \"type\": \"scattergl\"}], \"scattermapbox\": [{\"marker\": {\"colorbar\": {\"outlinewidth\": 0, \"ticks\": \"\"}}, \"type\": \"scattermapbox\"}], \"scatterpolar\": [{\"marker\": {\"colorbar\": {\"outlinewidth\": 0, \"ticks\": \"\"}}, \"type\": \"scatterpolar\"}], \"scatterpolargl\": [{\"marker\": {\"colorbar\": {\"outlinewidth\": 0, \"ticks\": \"\"}}, \"type\": \"scatterpolargl\"}], \"scatterternary\": [{\"marker\": {\"colorbar\": {\"outlinewidth\": 0, \"ticks\": \"\"}}, \"type\": \"scatterternary\"}], \"surface\": [{\"colorbar\": {\"outlinewidth\": 0, \"ticks\": \"\"}, \"colorscale\": [[0.0, \"#0d0887\"], [0.1111111111111111, \"#46039f\"], [0.2222222222222222, \"#7201a8\"], [0.3333333333333333, \"#9c179e\"], [0.4444444444444444, \"#bd3786\"], [0.5555555555555556, \"#d8576b\"], [0.6666666666666666, \"#ed7953\"], [0.7777777777777778, \"#fb9f3a\"], [0.8888888888888888, \"#fdca26\"], [1.0, \"#f0f921\"]], \"type\": \"surface\"}], \"table\": [{\"cells\": {\"fill\": {\"color\": \"#EBF0F8\"}, \"line\": {\"color\": \"white\"}}, \"header\": {\"fill\": {\"color\": \"#C8D4E3\"}, \"line\": {\"color\": \"white\"}}, \"type\": \"table\"}]}, \"layout\": {\"annotationdefaults\": {\"arrowcolor\": \"#2a3f5f\", \"arrowhead\": 0, \"arrowwidth\": 1}, \"coloraxis\": {\"colorbar\": {\"outlinewidth\": 0, \"ticks\": \"\"}}, \"colorscale\": {\"diverging\": [[0, \"#8e0152\"], [0.1, \"#c51b7d\"], [0.2, \"#de77ae\"], [0.3, \"#f1b6da\"], [0.4, \"#fde0ef\"], [0.5, \"#f7f7f7\"], [0.6, \"#e6f5d0\"], [0.7, \"#b8e186\"], [0.8, \"#7fbc41\"], [0.9, \"#4d9221\"], [1, \"#276419\"]], \"sequential\": [[0.0, \"#0d0887\"], [0.1111111111111111, \"#46039f\"], [0.2222222222222222, \"#7201a8\"], [0.3333333333333333, \"#9c179e\"], [0.4444444444444444, \"#bd3786\"], [0.5555555555555556, \"#d8576b\"], [0.6666666666666666, \"#ed7953\"], [0.7777777777777778, \"#fb9f3a\"], [0.8888888888888888, \"#fdca26\"], [1.0, \"#f0f921\"]], \"sequentialminus\": [[0.0, \"#0d0887\"], [0.1111111111111111, \"#46039f\"], [0.2222222222222222, \"#7201a8\"], [0.3333333333333333, \"#9c179e\"], [0.4444444444444444, \"#bd3786\"], [0.5555555555555556, \"#d8576b\"], [0.6666666666666666, \"#ed7953\"], [0.7777777777777778, \"#fb9f3a\"], [0.8888888888888888, \"#fdca26\"], [1.0, \"#f0f921\"]]}, \"colorway\": [\"#636efa\", \"#EF553B\", \"#00cc96\", \"#ab63fa\", \"#FFA15A\", \"#19d3f3\", \"#FF6692\", \"#B6E880\", \"#FF97FF\", \"#FECB52\"], \"font\": {\"color\": \"#2a3f5f\"}, \"geo\": {\"bgcolor\": \"white\", \"lakecolor\": \"white\", \"landcolor\": \"#E5ECF6\", \"showlakes\": true, \"showland\": true, \"subunitcolor\": \"white\"}, \"hoverlabel\": {\"align\": \"left\"}, \"hovermode\": \"closest\", \"mapbox\": {\"style\": \"light\"}, \"paper_bgcolor\": \"white\", \"plot_bgcolor\": \"#E5ECF6\", \"polar\": {\"angularaxis\": {\"gridcolor\": \"white\", \"linecolor\": \"white\", \"ticks\": \"\"}, \"bgcolor\": \"#E5ECF6\", \"radialaxis\": {\"gridcolor\": \"white\", \"linecolor\": \"white\", \"ticks\": \"\"}}, \"scene\": {\"xaxis\": {\"backgroundcolor\": \"#E5ECF6\", \"gridcolor\": \"white\", \"gridwidth\": 2, \"linecolor\": \"white\", \"showbackground\": true, \"ticks\": \"\", \"zerolinecolor\": \"white\"}, \"yaxis\": {\"backgroundcolor\": \"#E5ECF6\", \"gridcolor\": \"white\", \"gridwidth\": 2, \"linecolor\": \"white\", \"showbackground\": true, \"ticks\": \"\", \"zerolinecolor\": \"white\"}, \"zaxis\": {\"backgroundcolor\": \"#E5ECF6\", \"gridcolor\": \"white\", \"gridwidth\": 2, \"linecolor\": \"white\", \"showbackground\": true, \"ticks\": \"\", \"zerolinecolor\": \"white\"}}, \"shapedefaults\": {\"line\": {\"color\": \"#2a3f5f\"}}, \"ternary\": {\"aaxis\": {\"gridcolor\": \"white\", \"linecolor\": \"white\", \"ticks\": \"\"}, \"baxis\": {\"gridcolor\": \"white\", \"linecolor\": \"white\", \"ticks\": \"\"}, \"bgcolor\": \"#E5ECF6\", \"caxis\": {\"gridcolor\": \"white\", \"linecolor\": \"white\", \"ticks\": \"\"}}, \"title\": {\"x\": 0.05}, \"xaxis\": {\"automargin\": true, \"gridcolor\": \"white\", \"linecolor\": \"white\", \"ticks\": \"\", \"title\": {\"standoff\": 15}, \"zerolinecolor\": \"white\", \"zerolinewidth\": 2}, \"yaxis\": {\"automargin\": true, \"gridcolor\": \"white\", \"linecolor\": \"white\", \"ticks\": \"\", \"title\": {\"standoff\": 15}, \"zerolinecolor\": \"white\", \"zerolinewidth\": 2}}}, \"title\": {\"text\": \"Total Accidents per Year\", \"x\": 0.5}, \"width\": 1200.0, \"xaxis\": {\"anchor\": \"y\", \"domain\": [0.0, 1.0], \"tickmode\": \"array\", \"ticktext\": [2010.0, 2011.0, 2012.0, 2013.0, 2014.0, 2015.0, 2016.0, 2017.0, 2018.0, 2019.0], \"tickvals\": [2010.0, 2011.0, 2012.0, 2013.0, 2014.0, 2015.0, 2016.0, 2017.0, 2018.0, 2019.0], \"title\": {\"text\": \"Year\"}}, \"yaxis\": {\"anchor\": \"x\", \"domain\": [0.0, 1.0], \"title\": {\"text\": \"Total of Accidents\"}}},\n",
              "                        {\"responsive\": true}\n",
              "                    ).then(function(){\n",
              "                            \n",
              "var gd = document.getElementById('38d6ed37-d2c0-438e-84e9-bac96ff84487');\n",
              "var x = new MutationObserver(function (mutations, observer) {{\n",
              "        var display = window.getComputedStyle(gd).display;\n",
              "        if (!display || display === 'none') {{\n",
              "            console.log([gd, 'removed!']);\n",
              "            Plotly.purge(gd);\n",
              "            observer.disconnect();\n",
              "        }}\n",
              "}});\n",
              "\n",
              "// Listen for the removal of the full notebook cells\n",
              "var notebookContainer = gd.closest('#notebook-container');\n",
              "if (notebookContainer) {{\n",
              "    x.observe(notebookContainer, {childList: true});\n",
              "}}\n",
              "\n",
              "// Listen for the clearing of the current output cell\n",
              "var outputEl = gd.closest('.output');\n",
              "if (outputEl) {{\n",
              "    x.observe(outputEl, {childList: true});\n",
              "}}\n",
              "\n",
              "                        })\n",
              "                };\n",
              "                \n",
              "            </script>\n",
              "        </div>\n",
              "</body>\n",
              "</html>"
            ]
          },
          "metadata": {
            "tags": []
          }
        }
      ]
    },
    {
      "cell_type": "markdown",
      "metadata": {
        "id": "nvhzf23ttfvr"
      },
      "source": [
        "#### **3.2. Total de Accidentes por Mes**\n",
        "\n",
        "La gráfica que se presenta a continuación muestra la  totalidad de accidentes durante los 10 años que se encuentran presentes en el DataFrame `df_s` en función del mes."
      ]
    },
    {
      "cell_type": "code",
      "metadata": {
        "colab": {
          "base_uri": "https://localhost:8080/",
          "height": 767
        },
        "id": "2rnqL5CnbgAZ",
        "outputId": "0932ee78-f9e0-4cfb-d0a7-e7326050233a"
      },
      "source": [
        "# Bar Plot: Total Accidents per Montn\n",
        "\n",
        "monthly_accidents = (df_s.groupBy(\"month\")).count().toPandas()\n",
        "monthly_accidents.month = ['January', 'February', 'March', 'April', 'May', 'June', 'July', 'August', 'September', 'October', 'November', 'December']\n",
        "monthly_accidents_fig = px.bar(monthly_accidents, \n",
        "                        x = \"month\", \n",
        "                        y = \"count\",\n",
        "                        color = 'month',  \n",
        "                        labels = {'month':'Month', 'count':'Total of Accidents'}, \n",
        "                        width = 1600 * 0.75,\n",
        "                        height = 1000 * 0.75)\n",
        "monthly_accidents_fig.update_layout(title_text = 'Total Accidents per Month', title_x = 0.5)\n",
        "monthly_accidents_fig.show()"
      ],
      "execution_count": 87,
      "outputs": [
        {
          "output_type": "display_data",
          "data": {
            "text/html": [
              "<html>\n",
              "<head><meta charset=\"utf-8\" /></head>\n",
              "<body>\n",
              "    <div>\n",
              "            <script src=\"https://cdnjs.cloudflare.com/ajax/libs/mathjax/2.7.5/MathJax.js?config=TeX-AMS-MML_SVG\"></script><script type=\"text/javascript\">if (window.MathJax) {MathJax.Hub.Config({SVG: {font: \"STIX-Web\"}});}</script>\n",
              "                <script type=\"text/javascript\">window.PlotlyConfig = {MathJaxConfig: 'local'};</script>\n",
              "        <script src=\"https://cdn.plot.ly/plotly-latest.min.js\"></script>    \n",
              "            <div id=\"3edb3168-a848-489e-ba7f-fc1c91b8aef4\" class=\"plotly-graph-div\" style=\"height:750.0px; width:1200.0px;\"></div>\n",
              "            <script type=\"text/javascript\">\n",
              "                \n",
              "                    window.PLOTLYENV=window.PLOTLYENV || {};\n",
              "                    \n",
              "                if (document.getElementById(\"3edb3168-a848-489e-ba7f-fc1c91b8aef4\")) {\n",
              "                    Plotly.newPlot(\n",
              "                        '3edb3168-a848-489e-ba7f-fc1c91b8aef4',\n",
              "                        [{\"alignmentgroup\": \"True\", \"hoverlabel\": {\"namelength\": 0}, \"hovertemplate\": \"Month=%{x}<br>Total of Accidents=%{y}\", \"legendgroup\": \"Month=January\", \"marker\": {\"color\": \"#636efa\"}, \"name\": \"Month=January\", \"offsetgroup\": \"Month=January\", \"orientation\": \"v\", \"showlegend\": true, \"textposition\": \"auto\", \"type\": \"bar\", \"x\": [\"January\"], \"xaxis\": \"x\", \"y\": [39905], \"yaxis\": \"y\"}, {\"alignmentgroup\": \"True\", \"hoverlabel\": {\"namelength\": 0}, \"hovertemplate\": \"Month=%{x}<br>Total of Accidents=%{y}\", \"legendgroup\": \"Month=February\", \"marker\": {\"color\": \"#EF553B\"}, \"name\": \"Month=February\", \"offsetgroup\": \"Month=February\", \"orientation\": \"v\", \"showlegend\": true, \"textposition\": \"auto\", \"type\": \"bar\", \"x\": [\"February\"], \"xaxis\": \"x\", \"y\": [38749], \"yaxis\": \"y\"}, {\"alignmentgroup\": \"True\", \"hoverlabel\": {\"namelength\": 0}, \"hovertemplate\": \"Month=%{x}<br>Total of Accidents=%{y}\", \"legendgroup\": \"Month=March\", \"marker\": {\"color\": \"#00cc96\"}, \"name\": \"Month=March\", \"offsetgroup\": \"Month=March\", \"orientation\": \"v\", \"showlegend\": true, \"textposition\": \"auto\", \"type\": \"bar\", \"x\": [\"March\"], \"xaxis\": \"x\", \"y\": [37874], \"yaxis\": \"y\"}, {\"alignmentgroup\": \"True\", \"hoverlabel\": {\"namelength\": 0}, \"hovertemplate\": \"Month=%{x}<br>Total of Accidents=%{y}\", \"legendgroup\": \"Month=April\", \"marker\": {\"color\": \"#ab63fa\"}, \"name\": \"Month=April\", \"offsetgroup\": \"Month=April\", \"orientation\": \"v\", \"showlegend\": true, \"textposition\": \"auto\", \"type\": \"bar\", \"x\": [\"April\"], \"xaxis\": \"x\", \"y\": [40040], \"yaxis\": \"y\"}, {\"alignmentgroup\": \"True\", \"hoverlabel\": {\"namelength\": 0}, \"hovertemplate\": \"Month=%{x}<br>Total of Accidents=%{y}\", \"legendgroup\": \"Month=May\", \"marker\": {\"color\": \"#FFA15A\"}, \"name\": \"Month=May\", \"offsetgroup\": \"Month=May\", \"orientation\": \"v\", \"showlegend\": true, \"textposition\": \"auto\", \"type\": \"bar\", \"x\": [\"May\"], \"xaxis\": \"x\", \"y\": [39746], \"yaxis\": \"y\"}, {\"alignmentgroup\": \"True\", \"hoverlabel\": {\"namelength\": 0}, \"hovertemplate\": \"Month=%{x}<br>Total of Accidents=%{y}\", \"legendgroup\": \"Month=June\", \"marker\": {\"color\": \"#19d3f3\"}, \"name\": \"Month=June\", \"offsetgroup\": \"Month=June\", \"orientation\": \"v\", \"showlegend\": true, \"textposition\": \"auto\", \"type\": \"bar\", \"x\": [\"June\"], \"xaxis\": \"x\", \"y\": [41745], \"yaxis\": \"y\"}, {\"alignmentgroup\": \"True\", \"hoverlabel\": {\"namelength\": 0}, \"hovertemplate\": \"Month=%{x}<br>Total of Accidents=%{y}\", \"legendgroup\": \"Month=July\", \"marker\": {\"color\": \"#FF6692\"}, \"name\": \"Month=July\", \"offsetgroup\": \"Month=July\", \"orientation\": \"v\", \"showlegend\": true, \"textposition\": \"auto\", \"type\": \"bar\", \"x\": [\"July\"], \"xaxis\": \"x\", \"y\": [40954], \"yaxis\": \"y\"}, {\"alignmentgroup\": \"True\", \"hoverlabel\": {\"namelength\": 0}, \"hovertemplate\": \"Month=%{x}<br>Total of Accidents=%{y}\", \"legendgroup\": \"Month=August\", \"marker\": {\"color\": \"#B6E880\"}, \"name\": \"Month=August\", \"offsetgroup\": \"Month=August\", \"orientation\": \"v\", \"showlegend\": true, \"textposition\": \"auto\", \"type\": \"bar\", \"x\": [\"August\"], \"xaxis\": \"x\", \"y\": [36763], \"yaxis\": \"y\"}, {\"alignmentgroup\": \"True\", \"hoverlabel\": {\"namelength\": 0}, \"hovertemplate\": \"Month=%{x}<br>Total of Accidents=%{y}\", \"legendgroup\": \"Month=September\", \"marker\": {\"color\": \"#FF97FF\"}, \"name\": \"Month=September\", \"offsetgroup\": \"Month=September\", \"orientation\": \"v\", \"showlegend\": true, \"textposition\": \"auto\", \"type\": \"bar\", \"x\": [\"September\"], \"xaxis\": \"x\", \"y\": [38794], \"yaxis\": \"y\"}, {\"alignmentgroup\": \"True\", \"hoverlabel\": {\"namelength\": 0}, \"hovertemplate\": \"Month=%{x}<br>Total of Accidents=%{y}\", \"legendgroup\": \"Month=October\", \"marker\": {\"color\": \"#FECB52\"}, \"name\": \"Month=October\", \"offsetgroup\": \"Month=October\", \"orientation\": \"v\", \"showlegend\": true, \"textposition\": \"auto\", \"type\": \"bar\", \"x\": [\"October\"], \"xaxis\": \"x\", \"y\": [42801], \"yaxis\": \"y\"}, {\"alignmentgroup\": \"True\", \"hoverlabel\": {\"namelength\": 0}, \"hovertemplate\": \"Month=%{x}<br>Total of Accidents=%{y}\", \"legendgroup\": \"Month=November\", \"marker\": {\"color\": \"#636efa\"}, \"name\": \"Month=November\", \"offsetgroup\": \"Month=November\", \"orientation\": \"v\", \"showlegend\": true, \"textposition\": \"auto\", \"type\": \"bar\", \"x\": [\"November\"], \"xaxis\": \"x\", \"y\": [36379], \"yaxis\": \"y\"}, {\"alignmentgroup\": \"True\", \"hoverlabel\": {\"namelength\": 0}, \"hovertemplate\": \"Month=%{x}<br>Total of Accidents=%{y}\", \"legendgroup\": \"Month=December\", \"marker\": {\"color\": \"#EF553B\"}, \"name\": \"Month=December\", \"offsetgroup\": \"Month=December\", \"orientation\": \"v\", \"showlegend\": true, \"textposition\": \"auto\", \"type\": \"bar\", \"x\": [\"December\"], \"xaxis\": \"x\", \"y\": [38936], \"yaxis\": \"y\"}],\n",
              "                        {\"barmode\": \"relative\", \"height\": 750.0, \"legend\": {\"tracegroupgap\": 0}, \"margin\": {\"t\": 60}, \"template\": {\"data\": {\"bar\": [{\"error_x\": {\"color\": \"#2a3f5f\"}, \"error_y\": {\"color\": \"#2a3f5f\"}, \"marker\": {\"line\": {\"color\": \"#E5ECF6\", \"width\": 0.5}}, \"type\": \"bar\"}], \"barpolar\": [{\"marker\": {\"line\": {\"color\": \"#E5ECF6\", \"width\": 0.5}}, \"type\": \"barpolar\"}], \"carpet\": [{\"aaxis\": {\"endlinecolor\": \"#2a3f5f\", \"gridcolor\": \"white\", \"linecolor\": \"white\", \"minorgridcolor\": \"white\", \"startlinecolor\": \"#2a3f5f\"}, \"baxis\": {\"endlinecolor\": \"#2a3f5f\", \"gridcolor\": \"white\", \"linecolor\": \"white\", \"minorgridcolor\": \"white\", \"startlinecolor\": \"#2a3f5f\"}, \"type\": \"carpet\"}], \"choropleth\": [{\"colorbar\": {\"outlinewidth\": 0, \"ticks\": \"\"}, \"type\": \"choropleth\"}], \"contour\": [{\"colorbar\": {\"outlinewidth\": 0, \"ticks\": \"\"}, \"colorscale\": [[0.0, \"#0d0887\"], [0.1111111111111111, \"#46039f\"], [0.2222222222222222, \"#7201a8\"], [0.3333333333333333, \"#9c179e\"], [0.4444444444444444, \"#bd3786\"], [0.5555555555555556, \"#d8576b\"], [0.6666666666666666, \"#ed7953\"], [0.7777777777777778, \"#fb9f3a\"], [0.8888888888888888, \"#fdca26\"], [1.0, \"#f0f921\"]], \"type\": \"contour\"}], \"contourcarpet\": [{\"colorbar\": {\"outlinewidth\": 0, \"ticks\": \"\"}, \"type\": \"contourcarpet\"}], \"heatmap\": [{\"colorbar\": {\"outlinewidth\": 0, \"ticks\": \"\"}, \"colorscale\": [[0.0, \"#0d0887\"], [0.1111111111111111, \"#46039f\"], [0.2222222222222222, \"#7201a8\"], [0.3333333333333333, \"#9c179e\"], [0.4444444444444444, \"#bd3786\"], [0.5555555555555556, \"#d8576b\"], [0.6666666666666666, \"#ed7953\"], [0.7777777777777778, \"#fb9f3a\"], [0.8888888888888888, \"#fdca26\"], [1.0, \"#f0f921\"]], \"type\": \"heatmap\"}], \"heatmapgl\": [{\"colorbar\": {\"outlinewidth\": 0, \"ticks\": \"\"}, \"colorscale\": [[0.0, \"#0d0887\"], [0.1111111111111111, \"#46039f\"], [0.2222222222222222, \"#7201a8\"], [0.3333333333333333, \"#9c179e\"], [0.4444444444444444, \"#bd3786\"], [0.5555555555555556, \"#d8576b\"], [0.6666666666666666, \"#ed7953\"], [0.7777777777777778, \"#fb9f3a\"], [0.8888888888888888, \"#fdca26\"], [1.0, \"#f0f921\"]], \"type\": \"heatmapgl\"}], \"histogram\": [{\"marker\": {\"colorbar\": {\"outlinewidth\": 0, \"ticks\": \"\"}}, \"type\": \"histogram\"}], \"histogram2d\": [{\"colorbar\": {\"outlinewidth\": 0, \"ticks\": \"\"}, \"colorscale\": [[0.0, \"#0d0887\"], [0.1111111111111111, \"#46039f\"], [0.2222222222222222, \"#7201a8\"], [0.3333333333333333, \"#9c179e\"], [0.4444444444444444, \"#bd3786\"], [0.5555555555555556, \"#d8576b\"], [0.6666666666666666, \"#ed7953\"], [0.7777777777777778, \"#fb9f3a\"], [0.8888888888888888, \"#fdca26\"], [1.0, \"#f0f921\"]], \"type\": \"histogram2d\"}], \"histogram2dcontour\": [{\"colorbar\": {\"outlinewidth\": 0, \"ticks\": \"\"}, \"colorscale\": [[0.0, \"#0d0887\"], [0.1111111111111111, \"#46039f\"], [0.2222222222222222, \"#7201a8\"], [0.3333333333333333, \"#9c179e\"], [0.4444444444444444, \"#bd3786\"], [0.5555555555555556, \"#d8576b\"], [0.6666666666666666, \"#ed7953\"], [0.7777777777777778, \"#fb9f3a\"], [0.8888888888888888, \"#fdca26\"], [1.0, \"#f0f921\"]], \"type\": \"histogram2dcontour\"}], \"mesh3d\": [{\"colorbar\": {\"outlinewidth\": 0, \"ticks\": \"\"}, \"type\": \"mesh3d\"}], \"parcoords\": [{\"line\": {\"colorbar\": {\"outlinewidth\": 0, \"ticks\": \"\"}}, \"type\": \"parcoords\"}], \"pie\": [{\"automargin\": true, \"type\": \"pie\"}], \"scatter\": [{\"marker\": {\"colorbar\": {\"outlinewidth\": 0, \"ticks\": \"\"}}, \"type\": \"scatter\"}], \"scatter3d\": [{\"line\": {\"colorbar\": {\"outlinewidth\": 0, \"ticks\": \"\"}}, \"marker\": {\"colorbar\": {\"outlinewidth\": 0, \"ticks\": \"\"}}, \"type\": \"scatter3d\"}], \"scattercarpet\": [{\"marker\": {\"colorbar\": {\"outlinewidth\": 0, \"ticks\": \"\"}}, \"type\": \"scattercarpet\"}], \"scattergeo\": [{\"marker\": {\"colorbar\": {\"outlinewidth\": 0, \"ticks\": \"\"}}, \"type\": \"scattergeo\"}], \"scattergl\": [{\"marker\": {\"colorbar\": {\"outlinewidth\": 0, \"ticks\": \"\"}}, \"type\": \"scattergl\"}], \"scattermapbox\": [{\"marker\": {\"colorbar\": {\"outlinewidth\": 0, \"ticks\": \"\"}}, \"type\": \"scattermapbox\"}], \"scatterpolar\": [{\"marker\": {\"colorbar\": {\"outlinewidth\": 0, \"ticks\": \"\"}}, \"type\": \"scatterpolar\"}], \"scatterpolargl\": [{\"marker\": {\"colorbar\": {\"outlinewidth\": 0, \"ticks\": \"\"}}, \"type\": \"scatterpolargl\"}], \"scatterternary\": [{\"marker\": {\"colorbar\": {\"outlinewidth\": 0, \"ticks\": \"\"}}, \"type\": \"scatterternary\"}], \"surface\": [{\"colorbar\": {\"outlinewidth\": 0, \"ticks\": \"\"}, \"colorscale\": [[0.0, \"#0d0887\"], [0.1111111111111111, \"#46039f\"], [0.2222222222222222, \"#7201a8\"], [0.3333333333333333, \"#9c179e\"], [0.4444444444444444, \"#bd3786\"], [0.5555555555555556, \"#d8576b\"], [0.6666666666666666, \"#ed7953\"], [0.7777777777777778, \"#fb9f3a\"], [0.8888888888888888, \"#fdca26\"], [1.0, \"#f0f921\"]], \"type\": \"surface\"}], \"table\": [{\"cells\": {\"fill\": {\"color\": \"#EBF0F8\"}, \"line\": {\"color\": \"white\"}}, \"header\": {\"fill\": {\"color\": \"#C8D4E3\"}, \"line\": {\"color\": \"white\"}}, \"type\": \"table\"}]}, \"layout\": {\"annotationdefaults\": {\"arrowcolor\": \"#2a3f5f\", \"arrowhead\": 0, \"arrowwidth\": 1}, \"coloraxis\": {\"colorbar\": {\"outlinewidth\": 0, \"ticks\": \"\"}}, \"colorscale\": {\"diverging\": [[0, \"#8e0152\"], [0.1, \"#c51b7d\"], [0.2, \"#de77ae\"], [0.3, \"#f1b6da\"], [0.4, \"#fde0ef\"], [0.5, \"#f7f7f7\"], [0.6, \"#e6f5d0\"], [0.7, \"#b8e186\"], [0.8, \"#7fbc41\"], [0.9, \"#4d9221\"], [1, \"#276419\"]], \"sequential\": [[0.0, \"#0d0887\"], [0.1111111111111111, \"#46039f\"], [0.2222222222222222, \"#7201a8\"], [0.3333333333333333, \"#9c179e\"], [0.4444444444444444, \"#bd3786\"], [0.5555555555555556, \"#d8576b\"], [0.6666666666666666, \"#ed7953\"], [0.7777777777777778, \"#fb9f3a\"], [0.8888888888888888, \"#fdca26\"], [1.0, \"#f0f921\"]], \"sequentialminus\": [[0.0, \"#0d0887\"], [0.1111111111111111, \"#46039f\"], [0.2222222222222222, \"#7201a8\"], [0.3333333333333333, \"#9c179e\"], [0.4444444444444444, \"#bd3786\"], [0.5555555555555556, \"#d8576b\"], [0.6666666666666666, \"#ed7953\"], [0.7777777777777778, \"#fb9f3a\"], [0.8888888888888888, \"#fdca26\"], [1.0, \"#f0f921\"]]}, \"colorway\": [\"#636efa\", \"#EF553B\", \"#00cc96\", \"#ab63fa\", \"#FFA15A\", \"#19d3f3\", \"#FF6692\", \"#B6E880\", \"#FF97FF\", \"#FECB52\"], \"font\": {\"color\": \"#2a3f5f\"}, \"geo\": {\"bgcolor\": \"white\", \"lakecolor\": \"white\", \"landcolor\": \"#E5ECF6\", \"showlakes\": true, \"showland\": true, \"subunitcolor\": \"white\"}, \"hoverlabel\": {\"align\": \"left\"}, \"hovermode\": \"closest\", \"mapbox\": {\"style\": \"light\"}, \"paper_bgcolor\": \"white\", \"plot_bgcolor\": \"#E5ECF6\", \"polar\": {\"angularaxis\": {\"gridcolor\": \"white\", \"linecolor\": \"white\", \"ticks\": \"\"}, \"bgcolor\": \"#E5ECF6\", \"radialaxis\": {\"gridcolor\": \"white\", \"linecolor\": \"white\", \"ticks\": \"\"}}, \"scene\": {\"xaxis\": {\"backgroundcolor\": \"#E5ECF6\", \"gridcolor\": \"white\", \"gridwidth\": 2, \"linecolor\": \"white\", \"showbackground\": true, \"ticks\": \"\", \"zerolinecolor\": \"white\"}, \"yaxis\": {\"backgroundcolor\": \"#E5ECF6\", \"gridcolor\": \"white\", \"gridwidth\": 2, \"linecolor\": \"white\", \"showbackground\": true, \"ticks\": \"\", \"zerolinecolor\": \"white\"}, \"zaxis\": {\"backgroundcolor\": \"#E5ECF6\", \"gridcolor\": \"white\", \"gridwidth\": 2, \"linecolor\": \"white\", \"showbackground\": true, \"ticks\": \"\", \"zerolinecolor\": \"white\"}}, \"shapedefaults\": {\"line\": {\"color\": \"#2a3f5f\"}}, \"ternary\": {\"aaxis\": {\"gridcolor\": \"white\", \"linecolor\": \"white\", \"ticks\": \"\"}, \"baxis\": {\"gridcolor\": \"white\", \"linecolor\": \"white\", \"ticks\": \"\"}, \"bgcolor\": \"#E5ECF6\", \"caxis\": {\"gridcolor\": \"white\", \"linecolor\": \"white\", \"ticks\": \"\"}}, \"title\": {\"x\": 0.05}, \"xaxis\": {\"automargin\": true, \"gridcolor\": \"white\", \"linecolor\": \"white\", \"ticks\": \"\", \"title\": {\"standoff\": 15}, \"zerolinecolor\": \"white\", \"zerolinewidth\": 2}, \"yaxis\": {\"automargin\": true, \"gridcolor\": \"white\", \"linecolor\": \"white\", \"ticks\": \"\", \"title\": {\"standoff\": 15}, \"zerolinecolor\": \"white\", \"zerolinewidth\": 2}}}, \"title\": {\"text\": \"Total Accidents per Month\", \"x\": 0.5}, \"width\": 1200.0, \"xaxis\": {\"anchor\": \"y\", \"categoryarray\": [\"January\", \"February\", \"March\", \"April\", \"May\", \"June\", \"July\", \"August\", \"September\", \"October\", \"November\", \"December\"], \"categoryorder\": \"array\", \"domain\": [0.0, 1.0], \"title\": {\"text\": \"Month\"}}, \"yaxis\": {\"anchor\": \"x\", \"domain\": [0.0, 1.0], \"title\": {\"text\": \"Total of Accidents\"}}},\n",
              "                        {\"responsive\": true}\n",
              "                    ).then(function(){\n",
              "                            \n",
              "var gd = document.getElementById('3edb3168-a848-489e-ba7f-fc1c91b8aef4');\n",
              "var x = new MutationObserver(function (mutations, observer) {{\n",
              "        var display = window.getComputedStyle(gd).display;\n",
              "        if (!display || display === 'none') {{\n",
              "            console.log([gd, 'removed!']);\n",
              "            Plotly.purge(gd);\n",
              "            observer.disconnect();\n",
              "        }}\n",
              "}});\n",
              "\n",
              "// Listen for the removal of the full notebook cells\n",
              "var notebookContainer = gd.closest('#notebook-container');\n",
              "if (notebookContainer) {{\n",
              "    x.observe(notebookContainer, {childList: true});\n",
              "}}\n",
              "\n",
              "// Listen for the clearing of the current output cell\n",
              "var outputEl = gd.closest('.output');\n",
              "if (outputEl) {{\n",
              "    x.observe(outputEl, {childList: true});\n",
              "}}\n",
              "\n",
              "                        })\n",
              "                };\n",
              "                \n",
              "            </script>\n",
              "        </div>\n",
              "</body>\n",
              "</html>"
            ]
          },
          "metadata": {
            "tags": []
          }
        }
      ]
    },
    {
      "cell_type": "markdown",
      "metadata": {
        "id": "59Zfxo3gtyEf"
      },
      "source": [
        "#### **3.3. Total de Accidentes por Mes (2)**\n",
        "\n",
        "La gráfica que se presenta a continuación muestra la totalidad de accidentes ocurridos durante los cinco años con mayor accidentalidad (2015-2019) en función del mes."
      ]
    },
    {
      "cell_type": "code",
      "metadata": {
        "colab": {
          "base_uri": "https://localhost:8080/",
          "height": 767
        },
        "id": "nqwzhO1B8XkY",
        "outputId": "ecda865c-f3cf-4d1a-e349-1943ccde0be3"
      },
      "source": [
        "# Bar Plot: Monthly Accidents in the years with the most ammount of accidents\n",
        "\n",
        "monthly_accidents_2015 = df_s[df_s.year == 2015].groupBy(\"month\").count().toPandas()\n",
        "monthly_accidents_2016 = df_s[df_s.year == 2016].groupBy(\"month\").count().toPandas()\n",
        "monthly_accidents_2017 = df_s[df_s.year == 2017].groupBy(\"month\").count().toPandas()\n",
        "monthly_accidents_2018 = df_s[df_s.year == 2018].groupBy(\"month\").count().toPandas()\n",
        "monthly_accidents_2019 = df_s[df_s.year == 2019].groupBy(\"month\").count().toPandas()\n",
        "\n",
        "months_names = ['January', 'February', 'March', 'April', 'May', 'June', 'July', 'August', 'September', 'October', 'November', 'December']\n",
        "\n",
        "monthly_accidents_top5 = go.Figure(data = [\n",
        "    go.Bar(name = '2015', x = months_names, y = monthly_accidents_2015['count'], marker_color ='#00D2BE'),\n",
        "    go.Bar(name = '2016', x = months_names, y = monthly_accidents_2016['count'], marker_color ='#DC0000'),\n",
        "    go.Bar(name = '2017', x = months_names, y = monthly_accidents_2017['count'], marker_color ='#0600EF'),\n",
        "    go.Bar(name = '2018', x = months_names, y = monthly_accidents_2018['count'], marker_color ='#FF8700'),\n",
        "    go.Bar(name = '2019', x = months_names, y = monthly_accidents_2019['count'], marker_color ='#006F62')\n",
        "    ])\n",
        "monthly_accidents_top5.update_layout(barmode = 'group', width = 1600 * 0.75, height = 1000 * 0.75)\n",
        "monthly_accidents_top5.update_layout(title_text = \"Monthly Accident Count from 2015 to 2019\", title_x = 0.5)\n",
        "monthly_accidents_top5.show()"
      ],
      "execution_count": 88,
      "outputs": [
        {
          "output_type": "display_data",
          "data": {
            "text/html": [
              "<html>\n",
              "<head><meta charset=\"utf-8\" /></head>\n",
              "<body>\n",
              "    <div>\n",
              "            <script src=\"https://cdnjs.cloudflare.com/ajax/libs/mathjax/2.7.5/MathJax.js?config=TeX-AMS-MML_SVG\"></script><script type=\"text/javascript\">if (window.MathJax) {MathJax.Hub.Config({SVG: {font: \"STIX-Web\"}});}</script>\n",
              "                <script type=\"text/javascript\">window.PlotlyConfig = {MathJaxConfig: 'local'};</script>\n",
              "        <script src=\"https://cdn.plot.ly/plotly-latest.min.js\"></script>    \n",
              "            <div id=\"2a28ae3b-afc0-4a46-b250-128c7f5cff1c\" class=\"plotly-graph-div\" style=\"height:750.0px; width:1200.0px;\"></div>\n",
              "            <script type=\"text/javascript\">\n",
              "                \n",
              "                    window.PLOTLYENV=window.PLOTLYENV || {};\n",
              "                    \n",
              "                if (document.getElementById(\"2a28ae3b-afc0-4a46-b250-128c7f5cff1c\")) {\n",
              "                    Plotly.newPlot(\n",
              "                        '2a28ae3b-afc0-4a46-b250-128c7f5cff1c',\n",
              "                        [{\"marker\": {\"color\": \"#00D2BE\"}, \"name\": \"2015\", \"type\": \"bar\", \"x\": [\"January\", \"February\", \"March\", \"April\", \"May\", \"June\", \"July\", \"August\", \"September\", \"October\", \"November\", \"December\"], \"y\": [4127, 4310, 3865, 4284, 4077, 4513, 3786, 3320, 4019, 4607, 4413, 4022]}, {\"marker\": {\"color\": \"#DC0000\"}, \"name\": \"2016\", \"type\": \"bar\", \"x\": [\"January\", \"February\", \"March\", \"April\", \"May\", \"June\", \"July\", \"August\", \"September\", \"October\", \"November\", \"December\"], \"y\": [4432, 4291, 4002, 4609, 4417, 4718, 4453, 4318, 4524, 4643, 4686, 4497]}, {\"marker\": {\"color\": \"#0600EF\"}, \"name\": \"2017\", \"type\": \"bar\", \"x\": [\"January\", \"February\", \"March\", \"April\", \"May\", \"June\", \"July\", \"August\", \"September\", \"October\", \"November\", \"December\"], \"y\": [4499, 4472, 4300, 4307, 4496, 4614, 4770, 4156, 4356, 4782, 4596, 4296]}, {\"marker\": {\"color\": \"#FF8700\"}, \"name\": \"2018\", \"type\": \"bar\", \"x\": [\"January\", \"February\", \"March\", \"April\", \"May\", \"June\", \"July\", \"August\", \"September\", \"October\", \"November\", \"December\"], \"y\": [4615, 4402, 4328, 4431, 4307, 4666, 4614, 4222, 4318, 4841, 4283, 4387]}, {\"marker\": {\"color\": \"#006F62\"}, \"name\": \"2019\", \"type\": \"bar\", \"x\": [\"January\", \"February\", \"March\", \"April\", \"May\", \"June\", \"July\", \"August\", \"September\", \"October\", \"November\", \"December\"], \"y\": [4465, 3537, 4167, 4437, 4307, 4524, 4577, 4128, 4103, 4470, 4200]}],\n",
              "                        {\"barmode\": \"group\", \"height\": 750.0, \"template\": {\"data\": {\"bar\": [{\"error_x\": {\"color\": \"#2a3f5f\"}, \"error_y\": {\"color\": \"#2a3f5f\"}, \"marker\": {\"line\": {\"color\": \"#E5ECF6\", \"width\": 0.5}}, \"type\": \"bar\"}], \"barpolar\": [{\"marker\": {\"line\": {\"color\": \"#E5ECF6\", \"width\": 0.5}}, \"type\": \"barpolar\"}], \"carpet\": [{\"aaxis\": {\"endlinecolor\": \"#2a3f5f\", \"gridcolor\": \"white\", \"linecolor\": \"white\", \"minorgridcolor\": \"white\", \"startlinecolor\": \"#2a3f5f\"}, \"baxis\": {\"endlinecolor\": \"#2a3f5f\", \"gridcolor\": \"white\", \"linecolor\": \"white\", \"minorgridcolor\": \"white\", \"startlinecolor\": \"#2a3f5f\"}, \"type\": \"carpet\"}], \"choropleth\": [{\"colorbar\": {\"outlinewidth\": 0, \"ticks\": \"\"}, \"type\": \"choropleth\"}], \"contour\": [{\"colorbar\": {\"outlinewidth\": 0, \"ticks\": \"\"}, \"colorscale\": [[0.0, \"#0d0887\"], [0.1111111111111111, \"#46039f\"], [0.2222222222222222, \"#7201a8\"], [0.3333333333333333, \"#9c179e\"], [0.4444444444444444, \"#bd3786\"], [0.5555555555555556, \"#d8576b\"], [0.6666666666666666, \"#ed7953\"], [0.7777777777777778, \"#fb9f3a\"], [0.8888888888888888, \"#fdca26\"], [1.0, \"#f0f921\"]], \"type\": \"contour\"}], \"contourcarpet\": [{\"colorbar\": {\"outlinewidth\": 0, \"ticks\": \"\"}, \"type\": \"contourcarpet\"}], \"heatmap\": [{\"colorbar\": {\"outlinewidth\": 0, \"ticks\": \"\"}, \"colorscale\": [[0.0, \"#0d0887\"], [0.1111111111111111, \"#46039f\"], [0.2222222222222222, \"#7201a8\"], [0.3333333333333333, \"#9c179e\"], [0.4444444444444444, \"#bd3786\"], [0.5555555555555556, \"#d8576b\"], [0.6666666666666666, \"#ed7953\"], [0.7777777777777778, \"#fb9f3a\"], [0.8888888888888888, \"#fdca26\"], [1.0, \"#f0f921\"]], \"type\": \"heatmap\"}], \"heatmapgl\": [{\"colorbar\": {\"outlinewidth\": 0, \"ticks\": \"\"}, \"colorscale\": [[0.0, \"#0d0887\"], [0.1111111111111111, \"#46039f\"], [0.2222222222222222, \"#7201a8\"], [0.3333333333333333, \"#9c179e\"], [0.4444444444444444, \"#bd3786\"], [0.5555555555555556, \"#d8576b\"], [0.6666666666666666, \"#ed7953\"], [0.7777777777777778, \"#fb9f3a\"], [0.8888888888888888, \"#fdca26\"], [1.0, \"#f0f921\"]], \"type\": \"heatmapgl\"}], \"histogram\": [{\"marker\": {\"colorbar\": {\"outlinewidth\": 0, \"ticks\": \"\"}}, \"type\": \"histogram\"}], \"histogram2d\": [{\"colorbar\": {\"outlinewidth\": 0, \"ticks\": \"\"}, \"colorscale\": [[0.0, \"#0d0887\"], [0.1111111111111111, \"#46039f\"], [0.2222222222222222, \"#7201a8\"], [0.3333333333333333, \"#9c179e\"], [0.4444444444444444, \"#bd3786\"], [0.5555555555555556, \"#d8576b\"], [0.6666666666666666, \"#ed7953\"], [0.7777777777777778, \"#fb9f3a\"], [0.8888888888888888, \"#fdca26\"], [1.0, \"#f0f921\"]], \"type\": \"histogram2d\"}], \"histogram2dcontour\": [{\"colorbar\": {\"outlinewidth\": 0, \"ticks\": \"\"}, \"colorscale\": [[0.0, \"#0d0887\"], [0.1111111111111111, \"#46039f\"], [0.2222222222222222, \"#7201a8\"], [0.3333333333333333, \"#9c179e\"], [0.4444444444444444, \"#bd3786\"], [0.5555555555555556, \"#d8576b\"], [0.6666666666666666, \"#ed7953\"], [0.7777777777777778, \"#fb9f3a\"], [0.8888888888888888, \"#fdca26\"], [1.0, \"#f0f921\"]], \"type\": \"histogram2dcontour\"}], \"mesh3d\": [{\"colorbar\": {\"outlinewidth\": 0, \"ticks\": \"\"}, \"type\": \"mesh3d\"}], \"parcoords\": [{\"line\": {\"colorbar\": {\"outlinewidth\": 0, \"ticks\": \"\"}}, \"type\": \"parcoords\"}], \"pie\": [{\"automargin\": true, \"type\": \"pie\"}], \"scatter\": [{\"marker\": {\"colorbar\": {\"outlinewidth\": 0, \"ticks\": \"\"}}, \"type\": \"scatter\"}], \"scatter3d\": [{\"line\": {\"colorbar\": {\"outlinewidth\": 0, \"ticks\": \"\"}}, \"marker\": {\"colorbar\": {\"outlinewidth\": 0, \"ticks\": \"\"}}, \"type\": \"scatter3d\"}], \"scattercarpet\": [{\"marker\": {\"colorbar\": {\"outlinewidth\": 0, \"ticks\": \"\"}}, \"type\": \"scattercarpet\"}], \"scattergeo\": [{\"marker\": {\"colorbar\": {\"outlinewidth\": 0, \"ticks\": \"\"}}, \"type\": \"scattergeo\"}], \"scattergl\": [{\"marker\": {\"colorbar\": {\"outlinewidth\": 0, \"ticks\": \"\"}}, \"type\": \"scattergl\"}], \"scattermapbox\": [{\"marker\": {\"colorbar\": {\"outlinewidth\": 0, \"ticks\": \"\"}}, \"type\": \"scattermapbox\"}], \"scatterpolar\": [{\"marker\": {\"colorbar\": {\"outlinewidth\": 0, \"ticks\": \"\"}}, \"type\": \"scatterpolar\"}], \"scatterpolargl\": [{\"marker\": {\"colorbar\": {\"outlinewidth\": 0, \"ticks\": \"\"}}, \"type\": \"scatterpolargl\"}], \"scatterternary\": [{\"marker\": {\"colorbar\": {\"outlinewidth\": 0, \"ticks\": \"\"}}, \"type\": \"scatterternary\"}], \"surface\": [{\"colorbar\": {\"outlinewidth\": 0, \"ticks\": \"\"}, \"colorscale\": [[0.0, \"#0d0887\"], [0.1111111111111111, \"#46039f\"], [0.2222222222222222, \"#7201a8\"], [0.3333333333333333, \"#9c179e\"], [0.4444444444444444, \"#bd3786\"], [0.5555555555555556, \"#d8576b\"], [0.6666666666666666, \"#ed7953\"], [0.7777777777777778, \"#fb9f3a\"], [0.8888888888888888, \"#fdca26\"], [1.0, \"#f0f921\"]], \"type\": \"surface\"}], \"table\": [{\"cells\": {\"fill\": {\"color\": \"#EBF0F8\"}, \"line\": {\"color\": \"white\"}}, \"header\": {\"fill\": {\"color\": \"#C8D4E3\"}, \"line\": {\"color\": \"white\"}}, \"type\": \"table\"}]}, \"layout\": {\"annotationdefaults\": {\"arrowcolor\": \"#2a3f5f\", \"arrowhead\": 0, \"arrowwidth\": 1}, \"coloraxis\": {\"colorbar\": {\"outlinewidth\": 0, \"ticks\": \"\"}}, \"colorscale\": {\"diverging\": [[0, \"#8e0152\"], [0.1, \"#c51b7d\"], [0.2, \"#de77ae\"], [0.3, \"#f1b6da\"], [0.4, \"#fde0ef\"], [0.5, \"#f7f7f7\"], [0.6, \"#e6f5d0\"], [0.7, \"#b8e186\"], [0.8, \"#7fbc41\"], [0.9, \"#4d9221\"], [1, \"#276419\"]], \"sequential\": [[0.0, \"#0d0887\"], [0.1111111111111111, \"#46039f\"], [0.2222222222222222, \"#7201a8\"], [0.3333333333333333, \"#9c179e\"], [0.4444444444444444, \"#bd3786\"], [0.5555555555555556, \"#d8576b\"], [0.6666666666666666, \"#ed7953\"], [0.7777777777777778, \"#fb9f3a\"], [0.8888888888888888, \"#fdca26\"], [1.0, \"#f0f921\"]], \"sequentialminus\": [[0.0, \"#0d0887\"], [0.1111111111111111, \"#46039f\"], [0.2222222222222222, \"#7201a8\"], [0.3333333333333333, \"#9c179e\"], [0.4444444444444444, \"#bd3786\"], [0.5555555555555556, \"#d8576b\"], [0.6666666666666666, \"#ed7953\"], [0.7777777777777778, \"#fb9f3a\"], [0.8888888888888888, \"#fdca26\"], [1.0, \"#f0f921\"]]}, \"colorway\": [\"#636efa\", \"#EF553B\", \"#00cc96\", \"#ab63fa\", \"#FFA15A\", \"#19d3f3\", \"#FF6692\", \"#B6E880\", \"#FF97FF\", \"#FECB52\"], \"font\": {\"color\": \"#2a3f5f\"}, \"geo\": {\"bgcolor\": \"white\", \"lakecolor\": \"white\", \"landcolor\": \"#E5ECF6\", \"showlakes\": true, \"showland\": true, \"subunitcolor\": \"white\"}, \"hoverlabel\": {\"align\": \"left\"}, \"hovermode\": \"closest\", \"mapbox\": {\"style\": \"light\"}, \"paper_bgcolor\": \"white\", \"plot_bgcolor\": \"#E5ECF6\", \"polar\": {\"angularaxis\": {\"gridcolor\": \"white\", \"linecolor\": \"white\", \"ticks\": \"\"}, \"bgcolor\": \"#E5ECF6\", \"radialaxis\": {\"gridcolor\": \"white\", \"linecolor\": \"white\", \"ticks\": \"\"}}, \"scene\": {\"xaxis\": {\"backgroundcolor\": \"#E5ECF6\", \"gridcolor\": \"white\", \"gridwidth\": 2, \"linecolor\": \"white\", \"showbackground\": true, \"ticks\": \"\", \"zerolinecolor\": \"white\"}, \"yaxis\": {\"backgroundcolor\": \"#E5ECF6\", \"gridcolor\": \"white\", \"gridwidth\": 2, \"linecolor\": \"white\", \"showbackground\": true, \"ticks\": \"\", \"zerolinecolor\": \"white\"}, \"zaxis\": {\"backgroundcolor\": \"#E5ECF6\", \"gridcolor\": \"white\", \"gridwidth\": 2, \"linecolor\": \"white\", \"showbackground\": true, \"ticks\": \"\", \"zerolinecolor\": \"white\"}}, \"shapedefaults\": {\"line\": {\"color\": \"#2a3f5f\"}}, \"ternary\": {\"aaxis\": {\"gridcolor\": \"white\", \"linecolor\": \"white\", \"ticks\": \"\"}, \"baxis\": {\"gridcolor\": \"white\", \"linecolor\": \"white\", \"ticks\": \"\"}, \"bgcolor\": \"#E5ECF6\", \"caxis\": {\"gridcolor\": \"white\", \"linecolor\": \"white\", \"ticks\": \"\"}}, \"title\": {\"x\": 0.05}, \"xaxis\": {\"automargin\": true, \"gridcolor\": \"white\", \"linecolor\": \"white\", \"ticks\": \"\", \"title\": {\"standoff\": 15}, \"zerolinecolor\": \"white\", \"zerolinewidth\": 2}, \"yaxis\": {\"automargin\": true, \"gridcolor\": \"white\", \"linecolor\": \"white\", \"ticks\": \"\", \"title\": {\"standoff\": 15}, \"zerolinecolor\": \"white\", \"zerolinewidth\": 2}}}, \"title\": {\"text\": \"Monthly Accident Count from 2015 to 2019\", \"x\": 0.5}, \"width\": 1200.0},\n",
              "                        {\"responsive\": true}\n",
              "                    ).then(function(){\n",
              "                            \n",
              "var gd = document.getElementById('2a28ae3b-afc0-4a46-b250-128c7f5cff1c');\n",
              "var x = new MutationObserver(function (mutations, observer) {{\n",
              "        var display = window.getComputedStyle(gd).display;\n",
              "        if (!display || display === 'none') {{\n",
              "            console.log([gd, 'removed!']);\n",
              "            Plotly.purge(gd);\n",
              "            observer.disconnect();\n",
              "        }}\n",
              "}});\n",
              "\n",
              "// Listen for the removal of the full notebook cells\n",
              "var notebookContainer = gd.closest('#notebook-container');\n",
              "if (notebookContainer) {{\n",
              "    x.observe(notebookContainer, {childList: true});\n",
              "}}\n",
              "\n",
              "// Listen for the clearing of the current output cell\n",
              "var outputEl = gd.closest('.output');\n",
              "if (outputEl) {{\n",
              "    x.observe(outputEl, {childList: true});\n",
              "}}\n",
              "\n",
              "                        })\n",
              "                };\n",
              "                \n",
              "            </script>\n",
              "        </div>\n",
              "</body>\n",
              "</html>"
            ]
          },
          "metadata": {
            "tags": []
          }
        }
      ]
    },
    {
      "cell_type": "markdown",
      "metadata": {
        "id": "i2noN5UruktG"
      },
      "source": [
        "#### **3.4. Total de Accidentes por Área**\n",
        "\n",
        "La gráfica que se presenta a continuación muestra la totalidad de accidentes ocurridos durante los tres años con mayor accidentalidad (2016-2018) en función del área en que ocurrió el incidente."
      ]
    },
    {
      "cell_type": "code",
      "metadata": {
        "colab": {
          "base_uri": "https://localhost:8080/",
          "height": 767
        },
        "id": "Xpj3u3Aua8HG",
        "outputId": "b85a29a5-c295-4540-d58b-cafa402376f3"
      },
      "source": [
        "# Bar Plot: Overall accidents in the top 3 years with the most ammount of accidents ordered by Area Name\n",
        "\n",
        "accidents_by_area_2016 = df_s[df_s.year == 2016].groupBy(\"AREA_NAME\").count().toPandas()\n",
        "accidents_by_area_2017 = df_s[df_s.year == 2017].groupBy(\"AREA_NAME\").count().toPandas()\n",
        "accidents_by_area_2018 = df_s[df_s.year == 2018].groupBy(\"AREA_NAME\").count().toPandas()\n",
        "\n",
        "accidents_by_area_fig = go.Figure(data = [\n",
        "    go.Bar(name = '2016', x = accidents_by_area_2016[\"AREA_NAME\"], y = accidents_by_area_2016['count'], marker_color ='#00D2BE'),\n",
        "    go.Bar(name = '2017', x = accidents_by_area_2017[\"AREA_NAME\"], y = accidents_by_area_2017['count'], marker_color ='#DC0000'),\n",
        "    go.Bar(name = '2018', x = accidents_by_area_2018[\"AREA_NAME\"], y = accidents_by_area_2018['count'], marker_color ='#0600EF')\n",
        "    ])\n",
        "accidents_by_area_fig.update_layout(barmode = 'group', width = 1600 * 0.75, height = 1000 * 0.75)\n",
        "accidents_by_area_fig.update_layout(title_text = \"Accident Count from 2016 to 2018 by Area\", title_x = 0.5)\n",
        "accidents_by_area_fig.show()"
      ],
      "execution_count": 89,
      "outputs": [
        {
          "output_type": "display_data",
          "data": {
            "text/html": [
              "<html>\n",
              "<head><meta charset=\"utf-8\" /></head>\n",
              "<body>\n",
              "    <div>\n",
              "            <script src=\"https://cdnjs.cloudflare.com/ajax/libs/mathjax/2.7.5/MathJax.js?config=TeX-AMS-MML_SVG\"></script><script type=\"text/javascript\">if (window.MathJax) {MathJax.Hub.Config({SVG: {font: \"STIX-Web\"}});}</script>\n",
              "                <script type=\"text/javascript\">window.PlotlyConfig = {MathJaxConfig: 'local'};</script>\n",
              "        <script src=\"https://cdn.plot.ly/plotly-latest.min.js\"></script>    \n",
              "            <div id=\"794e655e-ecf1-4820-9bfd-8f536ce6b0bf\" class=\"plotly-graph-div\" style=\"height:750.0px; width:1200.0px;\"></div>\n",
              "            <script type=\"text/javascript\">\n",
              "                \n",
              "                    window.PLOTLYENV=window.PLOTLYENV || {};\n",
              "                    \n",
              "                if (document.getElementById(\"794e655e-ecf1-4820-9bfd-8f536ce6b0bf\")) {\n",
              "                    Plotly.newPlot(\n",
              "                        '794e655e-ecf1-4820-9bfd-8f536ce6b0bf',\n",
              "                        [{\"marker\": {\"color\": \"#00D2BE\"}, \"name\": \"2016\", \"type\": \"bar\", \"x\": [\"Hollywood\", \"Harbor\", \"Devonshire\", \"N Hollywood\", \"Newton\", \"Van Nuys\", \"West Valley\", \"Mission\", \"Southeast\", \"Wilshire\", \"Topanga\", \"Central\", \"Pacific\", \"Hollenbeck\", \"Olympic\", \"Southwest\", \"Foothill\", \"Rampart\", \"West LA\", \"77th Street\", \"Northeast\"], \"y\": [2419, 1892, 2700, 2792, 2773, 2889, 2566, 2549, 2217, 3072, 2363, 2319, 2684, 1913, 2706, 3305, 1908, 1971, 2614, 3673, 2265]}, {\"marker\": {\"color\": \"#DC0000\"}, \"name\": \"2017\", \"type\": \"bar\", \"x\": [\"Hollywood\", \"Harbor\", \"Devonshire\", \"N Hollywood\", \"Newton\", \"Van Nuys\", \"West Valley\", \"Mission\", \"Southeast\", \"Wilshire\", \"Topanga\", \"Central\", \"Pacific\", \"Hollenbeck\", \"Olympic\", \"Southwest\", \"Foothill\", \"Rampart\", \"West LA\", \"77th Street\", \"Northeast\"], \"y\": [2490, 1883, 2747, 2776, 3046, 2680, 2497, 2404, 2419, 2996, 2256, 2285, 2581, 2061, 2811, 3216, 1837, 2091, 2504, 3788, 2276]}, {\"marker\": {\"color\": \"#0600EF\"}, \"name\": \"2018\", \"type\": \"bar\", \"x\": [\"Hollywood\", \"Harbor\", \"Devonshire\", \"N Hollywood\", \"Newton\", \"Van Nuys\", \"West Valley\", \"Mission\", \"Southeast\", \"Wilshire\", \"Topanga\", \"Central\", \"Pacific\", \"Hollenbeck\", \"Olympic\", \"Southwest\", \"Foothill\", \"Rampart\", \"West LA\", \"77th Street\", \"Northeast\"], \"y\": [2330, 1895, 2761, 2828, 2861, 2752, 2784, 2439, 2461, 2974, 2294, 2269, 2686, 1889, 2711, 3197, 1986, 2044, 2411, 3745, 2097]}],\n",
              "                        {\"barmode\": \"group\", \"height\": 750.0, \"template\": {\"data\": {\"bar\": [{\"error_x\": {\"color\": \"#2a3f5f\"}, \"error_y\": {\"color\": \"#2a3f5f\"}, \"marker\": {\"line\": {\"color\": \"#E5ECF6\", \"width\": 0.5}}, \"type\": \"bar\"}], \"barpolar\": [{\"marker\": {\"line\": {\"color\": \"#E5ECF6\", \"width\": 0.5}}, \"type\": \"barpolar\"}], \"carpet\": [{\"aaxis\": {\"endlinecolor\": \"#2a3f5f\", \"gridcolor\": \"white\", \"linecolor\": \"white\", \"minorgridcolor\": \"white\", \"startlinecolor\": \"#2a3f5f\"}, \"baxis\": {\"endlinecolor\": \"#2a3f5f\", \"gridcolor\": \"white\", \"linecolor\": \"white\", \"minorgridcolor\": \"white\", \"startlinecolor\": \"#2a3f5f\"}, \"type\": \"carpet\"}], \"choropleth\": [{\"colorbar\": {\"outlinewidth\": 0, \"ticks\": \"\"}, \"type\": \"choropleth\"}], \"contour\": [{\"colorbar\": {\"outlinewidth\": 0, \"ticks\": \"\"}, \"colorscale\": [[0.0, \"#0d0887\"], [0.1111111111111111, \"#46039f\"], [0.2222222222222222, \"#7201a8\"], [0.3333333333333333, \"#9c179e\"], [0.4444444444444444, \"#bd3786\"], [0.5555555555555556, \"#d8576b\"], [0.6666666666666666, \"#ed7953\"], [0.7777777777777778, \"#fb9f3a\"], [0.8888888888888888, \"#fdca26\"], [1.0, \"#f0f921\"]], \"type\": \"contour\"}], \"contourcarpet\": [{\"colorbar\": {\"outlinewidth\": 0, \"ticks\": \"\"}, \"type\": \"contourcarpet\"}], \"heatmap\": [{\"colorbar\": {\"outlinewidth\": 0, \"ticks\": \"\"}, \"colorscale\": [[0.0, \"#0d0887\"], [0.1111111111111111, \"#46039f\"], [0.2222222222222222, \"#7201a8\"], [0.3333333333333333, \"#9c179e\"], [0.4444444444444444, \"#bd3786\"], [0.5555555555555556, \"#d8576b\"], [0.6666666666666666, \"#ed7953\"], [0.7777777777777778, \"#fb9f3a\"], [0.8888888888888888, \"#fdca26\"], [1.0, \"#f0f921\"]], \"type\": \"heatmap\"}], \"heatmapgl\": [{\"colorbar\": {\"outlinewidth\": 0, \"ticks\": \"\"}, \"colorscale\": [[0.0, \"#0d0887\"], [0.1111111111111111, \"#46039f\"], [0.2222222222222222, \"#7201a8\"], [0.3333333333333333, \"#9c179e\"], [0.4444444444444444, \"#bd3786\"], [0.5555555555555556, \"#d8576b\"], [0.6666666666666666, \"#ed7953\"], [0.7777777777777778, \"#fb9f3a\"], [0.8888888888888888, \"#fdca26\"], [1.0, \"#f0f921\"]], \"type\": \"heatmapgl\"}], \"histogram\": [{\"marker\": {\"colorbar\": {\"outlinewidth\": 0, \"ticks\": \"\"}}, \"type\": \"histogram\"}], \"histogram2d\": [{\"colorbar\": {\"outlinewidth\": 0, \"ticks\": \"\"}, \"colorscale\": [[0.0, \"#0d0887\"], [0.1111111111111111, \"#46039f\"], [0.2222222222222222, \"#7201a8\"], [0.3333333333333333, \"#9c179e\"], [0.4444444444444444, \"#bd3786\"], [0.5555555555555556, \"#d8576b\"], [0.6666666666666666, \"#ed7953\"], [0.7777777777777778, \"#fb9f3a\"], [0.8888888888888888, \"#fdca26\"], [1.0, \"#f0f921\"]], \"type\": \"histogram2d\"}], \"histogram2dcontour\": [{\"colorbar\": {\"outlinewidth\": 0, \"ticks\": \"\"}, \"colorscale\": [[0.0, \"#0d0887\"], [0.1111111111111111, \"#46039f\"], [0.2222222222222222, \"#7201a8\"], [0.3333333333333333, \"#9c179e\"], [0.4444444444444444, \"#bd3786\"], [0.5555555555555556, \"#d8576b\"], [0.6666666666666666, \"#ed7953\"], [0.7777777777777778, \"#fb9f3a\"], [0.8888888888888888, \"#fdca26\"], [1.0, \"#f0f921\"]], \"type\": \"histogram2dcontour\"}], \"mesh3d\": [{\"colorbar\": {\"outlinewidth\": 0, \"ticks\": \"\"}, \"type\": \"mesh3d\"}], \"parcoords\": [{\"line\": {\"colorbar\": {\"outlinewidth\": 0, \"ticks\": \"\"}}, \"type\": \"parcoords\"}], \"pie\": [{\"automargin\": true, \"type\": \"pie\"}], \"scatter\": [{\"marker\": {\"colorbar\": {\"outlinewidth\": 0, \"ticks\": \"\"}}, \"type\": \"scatter\"}], \"scatter3d\": [{\"line\": {\"colorbar\": {\"outlinewidth\": 0, \"ticks\": \"\"}}, \"marker\": {\"colorbar\": {\"outlinewidth\": 0, \"ticks\": \"\"}}, \"type\": \"scatter3d\"}], \"scattercarpet\": [{\"marker\": {\"colorbar\": {\"outlinewidth\": 0, \"ticks\": \"\"}}, \"type\": \"scattercarpet\"}], \"scattergeo\": [{\"marker\": {\"colorbar\": {\"outlinewidth\": 0, \"ticks\": \"\"}}, \"type\": \"scattergeo\"}], \"scattergl\": [{\"marker\": {\"colorbar\": {\"outlinewidth\": 0, \"ticks\": \"\"}}, \"type\": \"scattergl\"}], \"scattermapbox\": [{\"marker\": {\"colorbar\": {\"outlinewidth\": 0, \"ticks\": \"\"}}, \"type\": \"scattermapbox\"}], \"scatterpolar\": [{\"marker\": {\"colorbar\": {\"outlinewidth\": 0, \"ticks\": \"\"}}, \"type\": \"scatterpolar\"}], \"scatterpolargl\": [{\"marker\": {\"colorbar\": {\"outlinewidth\": 0, \"ticks\": \"\"}}, \"type\": \"scatterpolargl\"}], \"scatterternary\": [{\"marker\": {\"colorbar\": {\"outlinewidth\": 0, \"ticks\": \"\"}}, \"type\": \"scatterternary\"}], \"surface\": [{\"colorbar\": {\"outlinewidth\": 0, \"ticks\": \"\"}, \"colorscale\": [[0.0, \"#0d0887\"], [0.1111111111111111, \"#46039f\"], [0.2222222222222222, \"#7201a8\"], [0.3333333333333333, \"#9c179e\"], [0.4444444444444444, \"#bd3786\"], [0.5555555555555556, \"#d8576b\"], [0.6666666666666666, \"#ed7953\"], [0.7777777777777778, \"#fb9f3a\"], [0.8888888888888888, \"#fdca26\"], [1.0, \"#f0f921\"]], \"type\": \"surface\"}], \"table\": [{\"cells\": {\"fill\": {\"color\": \"#EBF0F8\"}, \"line\": {\"color\": \"white\"}}, \"header\": {\"fill\": {\"color\": \"#C8D4E3\"}, \"line\": {\"color\": \"white\"}}, \"type\": \"table\"}]}, \"layout\": {\"annotationdefaults\": {\"arrowcolor\": \"#2a3f5f\", \"arrowhead\": 0, \"arrowwidth\": 1}, \"coloraxis\": {\"colorbar\": {\"outlinewidth\": 0, \"ticks\": \"\"}}, \"colorscale\": {\"diverging\": [[0, \"#8e0152\"], [0.1, \"#c51b7d\"], [0.2, \"#de77ae\"], [0.3, \"#f1b6da\"], [0.4, \"#fde0ef\"], [0.5, \"#f7f7f7\"], [0.6, \"#e6f5d0\"], [0.7, \"#b8e186\"], [0.8, \"#7fbc41\"], [0.9, \"#4d9221\"], [1, \"#276419\"]], \"sequential\": [[0.0, \"#0d0887\"], [0.1111111111111111, \"#46039f\"], [0.2222222222222222, \"#7201a8\"], [0.3333333333333333, \"#9c179e\"], [0.4444444444444444, \"#bd3786\"], [0.5555555555555556, \"#d8576b\"], [0.6666666666666666, \"#ed7953\"], [0.7777777777777778, \"#fb9f3a\"], [0.8888888888888888, \"#fdca26\"], [1.0, \"#f0f921\"]], \"sequentialminus\": [[0.0, \"#0d0887\"], [0.1111111111111111, \"#46039f\"], [0.2222222222222222, \"#7201a8\"], [0.3333333333333333, \"#9c179e\"], [0.4444444444444444, \"#bd3786\"], [0.5555555555555556, \"#d8576b\"], [0.6666666666666666, \"#ed7953\"], [0.7777777777777778, \"#fb9f3a\"], [0.8888888888888888, \"#fdca26\"], [1.0, \"#f0f921\"]]}, \"colorway\": [\"#636efa\", \"#EF553B\", \"#00cc96\", \"#ab63fa\", \"#FFA15A\", \"#19d3f3\", \"#FF6692\", \"#B6E880\", \"#FF97FF\", \"#FECB52\"], \"font\": {\"color\": \"#2a3f5f\"}, \"geo\": {\"bgcolor\": \"white\", \"lakecolor\": \"white\", \"landcolor\": \"#E5ECF6\", \"showlakes\": true, \"showland\": true, \"subunitcolor\": \"white\"}, \"hoverlabel\": {\"align\": \"left\"}, \"hovermode\": \"closest\", \"mapbox\": {\"style\": \"light\"}, \"paper_bgcolor\": \"white\", \"plot_bgcolor\": \"#E5ECF6\", \"polar\": {\"angularaxis\": {\"gridcolor\": \"white\", \"linecolor\": \"white\", \"ticks\": \"\"}, \"bgcolor\": \"#E5ECF6\", \"radialaxis\": {\"gridcolor\": \"white\", \"linecolor\": \"white\", \"ticks\": \"\"}}, \"scene\": {\"xaxis\": {\"backgroundcolor\": \"#E5ECF6\", \"gridcolor\": \"white\", \"gridwidth\": 2, \"linecolor\": \"white\", \"showbackground\": true, \"ticks\": \"\", \"zerolinecolor\": \"white\"}, \"yaxis\": {\"backgroundcolor\": \"#E5ECF6\", \"gridcolor\": \"white\", \"gridwidth\": 2, \"linecolor\": \"white\", \"showbackground\": true, \"ticks\": \"\", \"zerolinecolor\": \"white\"}, \"zaxis\": {\"backgroundcolor\": \"#E5ECF6\", \"gridcolor\": \"white\", \"gridwidth\": 2, \"linecolor\": \"white\", \"showbackground\": true, \"ticks\": \"\", \"zerolinecolor\": \"white\"}}, \"shapedefaults\": {\"line\": {\"color\": \"#2a3f5f\"}}, \"ternary\": {\"aaxis\": {\"gridcolor\": \"white\", \"linecolor\": \"white\", \"ticks\": \"\"}, \"baxis\": {\"gridcolor\": \"white\", \"linecolor\": \"white\", \"ticks\": \"\"}, \"bgcolor\": \"#E5ECF6\", \"caxis\": {\"gridcolor\": \"white\", \"linecolor\": \"white\", \"ticks\": \"\"}}, \"title\": {\"x\": 0.05}, \"xaxis\": {\"automargin\": true, \"gridcolor\": \"white\", \"linecolor\": \"white\", \"ticks\": \"\", \"title\": {\"standoff\": 15}, \"zerolinecolor\": \"white\", \"zerolinewidth\": 2}, \"yaxis\": {\"automargin\": true, \"gridcolor\": \"white\", \"linecolor\": \"white\", \"ticks\": \"\", \"title\": {\"standoff\": 15}, \"zerolinecolor\": \"white\", \"zerolinewidth\": 2}}}, \"title\": {\"text\": \"Accident Count from 2016 to 2018 by Area\", \"x\": 0.5}, \"width\": 1200.0},\n",
              "                        {\"responsive\": true}\n",
              "                    ).then(function(){\n",
              "                            \n",
              "var gd = document.getElementById('794e655e-ecf1-4820-9bfd-8f536ce6b0bf');\n",
              "var x = new MutationObserver(function (mutations, observer) {{\n",
              "        var display = window.getComputedStyle(gd).display;\n",
              "        if (!display || display === 'none') {{\n",
              "            console.log([gd, 'removed!']);\n",
              "            Plotly.purge(gd);\n",
              "            observer.disconnect();\n",
              "        }}\n",
              "}});\n",
              "\n",
              "// Listen for the removal of the full notebook cells\n",
              "var notebookContainer = gd.closest('#notebook-container');\n",
              "if (notebookContainer) {{\n",
              "    x.observe(notebookContainer, {childList: true});\n",
              "}}\n",
              "\n",
              "// Listen for the clearing of the current output cell\n",
              "var outputEl = gd.closest('.output');\n",
              "if (outputEl) {{\n",
              "    x.observe(outputEl, {childList: true});\n",
              "}}\n",
              "\n",
              "                        })\n",
              "                };\n",
              "                \n",
              "            </script>\n",
              "        </div>\n",
              "</body>\n",
              "</html>"
            ]
          },
          "metadata": {
            "tags": []
          }
        }
      ]
    },
    {
      "cell_type": "markdown",
      "metadata": {
        "id": "Buq142Vbg7QU"
      },
      "source": [
        "Estudiando en específico la dirección en que se presentaron los eventos, se puede ver que existe una gran cantidad de accidentes en las avenidas Sherman, Western, Ventura, Sepulveda, Victory, Figueroa, Vermont y Vanwomen, Roscoe y Van Nuys, donde los accidentes superan la cifra de 1000 en cada caso."
      ]
    },
    {
      "cell_type": "code",
      "metadata": {
        "colab": {
          "base_uri": "https://localhost:8080/"
        },
        "id": "oC1Dek1qg1mR",
        "outputId": "7e5a3ca9-7e14-4c15-917c-8b54a4eeeba4"
      },
      "source": [
        "# Data Inspection: Avenues with the most number of accidents\n",
        "\n",
        "from pyspark.sql.functions import desc\n",
        "df_s.groupBy('ADDRESS').count().orderBy(desc('count')).show()"
      ],
      "execution_count": 90,
      "outputs": [
        {
          "output_type": "stream",
          "text": [
            "+--------------------+-----+\n",
            "|             ADDRESS|count|\n",
            "+--------------------+-----+\n",
            "|WESTERN          ...| 6499|\n",
            "|VENTURA          ...| 6089|\n",
            "|SHERMAN          ...| 5957|\n",
            "|SEPULVEDA        ...| 5586|\n",
            "|VERMONT          ...| 5438|\n",
            "|VICTORY          ...| 5280|\n",
            "|SUNSET           ...| 5052|\n",
            "|FIGUEROA         ...| 4843|\n",
            "|ROSCOE           ...| 4532|\n",
            "|OLYMPIC          ...| 4295|\n",
            "|VAN NUYS         ...| 4278|\n",
            "|VANOWEN          ...| 4257|\n",
            "|PICO             ...| 3771|\n",
            "|WILSHIRE         ...| 3495|\n",
            "|LAUREL CANYON    ...| 3393|\n",
            "|NORMANDIE        ...| 3315|\n",
            "|VENICE           ...| 3314|\n",
            "|            BROADWAY| 3236|\n",
            "|3RD              ...| 3067|\n",
            "|LA BREA          ...| 2925|\n",
            "+--------------------+-----+\n",
            "only showing top 20 rows\n",
            "\n"
          ],
          "name": "stdout"
        }
      ]
    },
    {
      "cell_type": "markdown",
      "metadata": {
        "id": "pncZX2F7hdfW"
      },
      "source": [
        "Analizando los datos de los diferentes años del dataset, se pueden estimar las calles o direcciones con un mayor grado de accidentalidad en Los Angeles."
      ]
    },
    {
      "cell_type": "code",
      "metadata": {
        "id": "k9iCHPEdhjxc"
      },
      "source": [
        "# Data Inspection: Avenues with the most number of accidents by year\n",
        "\n",
        "df_2017 = df_s.filter((df_s[\"year\"] == '2017'))\n",
        "df_2018 = df_s.filter((df_s[\"year\"] == '2018'))\n",
        "df_2019 = df_s.filter((df_s[\"year\"] == '2019'))"
      ],
      "execution_count": 91,
      "outputs": []
    },
    {
      "cell_type": "code",
      "metadata": {
        "colab": {
          "base_uri": "https://localhost:8080/"
        },
        "id": "L2JXuSmViOVQ",
        "outputId": "4ba9e0d3-f179-4340-9f8f-a3056fd83dce"
      },
      "source": [
        "df_2017.groupBy('ADDRESS').count().orderBy(desc('count')).show(5)"
      ],
      "execution_count": 92,
      "outputs": [
        {
          "output_type": "stream",
          "text": [
            "+--------------------+-----+\n",
            "|             ADDRESS|count|\n",
            "+--------------------+-----+\n",
            "|WESTERN          ...|  741|\n",
            "|SHERMAN          ...|  667|\n",
            "|VENTURA          ...|  660|\n",
            "|VERMONT          ...|  659|\n",
            "|FIGUEROA         ...|  644|\n",
            "+--------------------+-----+\n",
            "only showing top 5 rows\n",
            "\n"
          ],
          "name": "stdout"
        }
      ]
    },
    {
      "cell_type": "code",
      "metadata": {
        "colab": {
          "base_uri": "https://localhost:8080/"
        },
        "id": "RgZoJKaliOL-",
        "outputId": "a2304b57-52a1-41bb-a648-7b21c8a951c3"
      },
      "source": [
        "df_2018.groupBy('ADDRESS').count().orderBy(desc('count')).show(5)"
      ],
      "execution_count": 93,
      "outputs": [
        {
          "output_type": "stream",
          "text": [
            "+--------------------+-----+\n",
            "|             ADDRESS|count|\n",
            "+--------------------+-----+\n",
            "|WESTERN          ...|  762|\n",
            "|SHERMAN          ...|  751|\n",
            "|VENTURA          ...|  728|\n",
            "|VICTORY          ...|  694|\n",
            "|SEPULVEDA        ...|  653|\n",
            "+--------------------+-----+\n",
            "only showing top 5 rows\n",
            "\n"
          ],
          "name": "stdout"
        }
      ]
    },
    {
      "cell_type": "code",
      "metadata": {
        "colab": {
          "base_uri": "https://localhost:8080/"
        },
        "id": "71JmjzWhiOBu",
        "outputId": "33e673e5-4eff-4b88-dd50-ad85fecf6de8"
      },
      "source": [
        "df_2019.groupBy('ADDRESS').count().orderBy(desc('count')).show(5)"
      ],
      "execution_count": 94,
      "outputs": [
        {
          "output_type": "stream",
          "text": [
            "+--------------------+-----+\n",
            "|             ADDRESS|count|\n",
            "+--------------------+-----+\n",
            "|SHERMAN          ...|  651|\n",
            "|VENTURA          ...|  619|\n",
            "|WESTERN          ...|  609|\n",
            "|SEPULVEDA        ...|  607|\n",
            "|VICTORY          ...|  549|\n",
            "+--------------------+-----+\n",
            "only showing top 5 rows\n",
            "\n"
          ],
          "name": "stdout"
        }
      ]
    },
    {
      "cell_type": "markdown",
      "metadata": {
        "id": "ObdfzApRy-qq"
      },
      "source": [
        "#### **3.5. Total de Accidentes por Género**\n",
        "\n",
        "La gráfica que se presenta a continuación muestra la totalidad de accidentes ocurridos en función del género."
      ]
    },
    {
      "cell_type": "code",
      "metadata": {
        "colab": {
          "base_uri": "https://localhost:8080/",
          "height": 767
        },
        "id": "qAxLVr5AeyZI",
        "outputId": "1eb631d2-77e9-4356-f1e6-da6024680134"
      },
      "source": [
        "# Pie Chart: Accidents by Gender\n",
        "\n",
        "accidents_by_gender = (df_s.groupBy(\"VICTIM_SEX\")).count().toPandas()\n",
        "accidents_by_gender.VICTIM_SEX = ['Female', 'Male', 'Neutral', 'Non-Binary', 'Hybrid']\n",
        "\n",
        "premsise_desc_fig = go.Figure(data = [go.Pie(labels = accidents_by_gender['VICTIM_SEX'], values = accidents_by_gender['count'], pull=[0.05, 0.05, 0.05, 0])])\n",
        "premsise_desc_fig.update_layout(title_text = \"Accident Count by Gender\", title_x = 0.5, width = 1600 * 0.75, height = 1000 * 0.75)\n",
        "premsise_desc_fig.show()"
      ],
      "execution_count": 95,
      "outputs": [
        {
          "output_type": "display_data",
          "data": {
            "text/html": [
              "<html>\n",
              "<head><meta charset=\"utf-8\" /></head>\n",
              "<body>\n",
              "    <div>\n",
              "            <script src=\"https://cdnjs.cloudflare.com/ajax/libs/mathjax/2.7.5/MathJax.js?config=TeX-AMS-MML_SVG\"></script><script type=\"text/javascript\">if (window.MathJax) {MathJax.Hub.Config({SVG: {font: \"STIX-Web\"}});}</script>\n",
              "                <script type=\"text/javascript\">window.PlotlyConfig = {MathJaxConfig: 'local'};</script>\n",
              "        <script src=\"https://cdn.plot.ly/plotly-latest.min.js\"></script>    \n",
              "            <div id=\"b6a6fa98-acc5-459e-96ed-639378836890\" class=\"plotly-graph-div\" style=\"height:750.0px; width:1200.0px;\"></div>\n",
              "            <script type=\"text/javascript\">\n",
              "                \n",
              "                    window.PLOTLYENV=window.PLOTLYENV || {};\n",
              "                    \n",
              "                if (document.getElementById(\"b6a6fa98-acc5-459e-96ed-639378836890\")) {\n",
              "                    Plotly.newPlot(\n",
              "                        'b6a6fa98-acc5-459e-96ed-639378836890',\n",
              "                        [{\"labels\": [\"Female\", \"Male\", \"Neutral\", \"Non-Binary\", \"Hybrid\"], \"pull\": [0.05, 0.05, 0.05, 0], \"type\": \"pie\", \"values\": [181834, 280101, 11, 10608, 132]}],\n",
              "                        {\"height\": 750.0, \"template\": {\"data\": {\"bar\": [{\"error_x\": {\"color\": \"#2a3f5f\"}, \"error_y\": {\"color\": \"#2a3f5f\"}, \"marker\": {\"line\": {\"color\": \"#E5ECF6\", \"width\": 0.5}}, \"type\": \"bar\"}], \"barpolar\": [{\"marker\": {\"line\": {\"color\": \"#E5ECF6\", \"width\": 0.5}}, \"type\": \"barpolar\"}], \"carpet\": [{\"aaxis\": {\"endlinecolor\": \"#2a3f5f\", \"gridcolor\": \"white\", \"linecolor\": \"white\", \"minorgridcolor\": \"white\", \"startlinecolor\": \"#2a3f5f\"}, \"baxis\": {\"endlinecolor\": \"#2a3f5f\", \"gridcolor\": \"white\", \"linecolor\": \"white\", \"minorgridcolor\": \"white\", \"startlinecolor\": \"#2a3f5f\"}, \"type\": \"carpet\"}], \"choropleth\": [{\"colorbar\": {\"outlinewidth\": 0, \"ticks\": \"\"}, \"type\": \"choropleth\"}], \"contour\": [{\"colorbar\": {\"outlinewidth\": 0, \"ticks\": \"\"}, \"colorscale\": [[0.0, \"#0d0887\"], [0.1111111111111111, \"#46039f\"], [0.2222222222222222, \"#7201a8\"], [0.3333333333333333, \"#9c179e\"], [0.4444444444444444, \"#bd3786\"], [0.5555555555555556, \"#d8576b\"], [0.6666666666666666, \"#ed7953\"], [0.7777777777777778, \"#fb9f3a\"], [0.8888888888888888, \"#fdca26\"], [1.0, \"#f0f921\"]], \"type\": \"contour\"}], \"contourcarpet\": [{\"colorbar\": {\"outlinewidth\": 0, \"ticks\": \"\"}, \"type\": \"contourcarpet\"}], \"heatmap\": [{\"colorbar\": {\"outlinewidth\": 0, \"ticks\": \"\"}, \"colorscale\": [[0.0, \"#0d0887\"], [0.1111111111111111, \"#46039f\"], [0.2222222222222222, \"#7201a8\"], [0.3333333333333333, \"#9c179e\"], [0.4444444444444444, \"#bd3786\"], [0.5555555555555556, \"#d8576b\"], [0.6666666666666666, \"#ed7953\"], [0.7777777777777778, \"#fb9f3a\"], [0.8888888888888888, \"#fdca26\"], [1.0, \"#f0f921\"]], \"type\": \"heatmap\"}], \"heatmapgl\": [{\"colorbar\": {\"outlinewidth\": 0, \"ticks\": \"\"}, \"colorscale\": [[0.0, \"#0d0887\"], [0.1111111111111111, \"#46039f\"], [0.2222222222222222, \"#7201a8\"], [0.3333333333333333, \"#9c179e\"], [0.4444444444444444, \"#bd3786\"], [0.5555555555555556, \"#d8576b\"], [0.6666666666666666, \"#ed7953\"], [0.7777777777777778, \"#fb9f3a\"], [0.8888888888888888, \"#fdca26\"], [1.0, \"#f0f921\"]], \"type\": \"heatmapgl\"}], \"histogram\": [{\"marker\": {\"colorbar\": {\"outlinewidth\": 0, \"ticks\": \"\"}}, \"type\": \"histogram\"}], \"histogram2d\": [{\"colorbar\": {\"outlinewidth\": 0, \"ticks\": \"\"}, \"colorscale\": [[0.0, \"#0d0887\"], [0.1111111111111111, \"#46039f\"], [0.2222222222222222, \"#7201a8\"], [0.3333333333333333, \"#9c179e\"], [0.4444444444444444, \"#bd3786\"], [0.5555555555555556, \"#d8576b\"], [0.6666666666666666, \"#ed7953\"], [0.7777777777777778, \"#fb9f3a\"], [0.8888888888888888, \"#fdca26\"], [1.0, \"#f0f921\"]], \"type\": \"histogram2d\"}], \"histogram2dcontour\": [{\"colorbar\": {\"outlinewidth\": 0, \"ticks\": \"\"}, \"colorscale\": [[0.0, \"#0d0887\"], [0.1111111111111111, \"#46039f\"], [0.2222222222222222, \"#7201a8\"], [0.3333333333333333, \"#9c179e\"], [0.4444444444444444, \"#bd3786\"], [0.5555555555555556, \"#d8576b\"], [0.6666666666666666, \"#ed7953\"], [0.7777777777777778, \"#fb9f3a\"], [0.8888888888888888, \"#fdca26\"], [1.0, \"#f0f921\"]], \"type\": \"histogram2dcontour\"}], \"mesh3d\": [{\"colorbar\": {\"outlinewidth\": 0, \"ticks\": \"\"}, \"type\": \"mesh3d\"}], \"parcoords\": [{\"line\": {\"colorbar\": {\"outlinewidth\": 0, \"ticks\": \"\"}}, \"type\": \"parcoords\"}], \"pie\": [{\"automargin\": true, \"type\": \"pie\"}], \"scatter\": [{\"marker\": {\"colorbar\": {\"outlinewidth\": 0, \"ticks\": \"\"}}, \"type\": \"scatter\"}], \"scatter3d\": [{\"line\": {\"colorbar\": {\"outlinewidth\": 0, \"ticks\": \"\"}}, \"marker\": {\"colorbar\": {\"outlinewidth\": 0, \"ticks\": \"\"}}, \"type\": \"scatter3d\"}], \"scattercarpet\": [{\"marker\": {\"colorbar\": {\"outlinewidth\": 0, \"ticks\": \"\"}}, \"type\": \"scattercarpet\"}], \"scattergeo\": [{\"marker\": {\"colorbar\": {\"outlinewidth\": 0, \"ticks\": \"\"}}, \"type\": \"scattergeo\"}], \"scattergl\": [{\"marker\": {\"colorbar\": {\"outlinewidth\": 0, \"ticks\": \"\"}}, \"type\": \"scattergl\"}], \"scattermapbox\": [{\"marker\": {\"colorbar\": {\"outlinewidth\": 0, \"ticks\": \"\"}}, \"type\": \"scattermapbox\"}], \"scatterpolar\": [{\"marker\": {\"colorbar\": {\"outlinewidth\": 0, \"ticks\": \"\"}}, \"type\": \"scatterpolar\"}], \"scatterpolargl\": [{\"marker\": {\"colorbar\": {\"outlinewidth\": 0, \"ticks\": \"\"}}, \"type\": \"scatterpolargl\"}], \"scatterternary\": [{\"marker\": {\"colorbar\": {\"outlinewidth\": 0, \"ticks\": \"\"}}, \"type\": \"scatterternary\"}], \"surface\": [{\"colorbar\": {\"outlinewidth\": 0, \"ticks\": \"\"}, \"colorscale\": [[0.0, \"#0d0887\"], [0.1111111111111111, \"#46039f\"], [0.2222222222222222, \"#7201a8\"], [0.3333333333333333, \"#9c179e\"], [0.4444444444444444, \"#bd3786\"], [0.5555555555555556, \"#d8576b\"], [0.6666666666666666, \"#ed7953\"], [0.7777777777777778, \"#fb9f3a\"], [0.8888888888888888, \"#fdca26\"], [1.0, \"#f0f921\"]], \"type\": \"surface\"}], \"table\": [{\"cells\": {\"fill\": {\"color\": \"#EBF0F8\"}, \"line\": {\"color\": \"white\"}}, \"header\": {\"fill\": {\"color\": \"#C8D4E3\"}, \"line\": {\"color\": \"white\"}}, \"type\": \"table\"}]}, \"layout\": {\"annotationdefaults\": {\"arrowcolor\": \"#2a3f5f\", \"arrowhead\": 0, \"arrowwidth\": 1}, \"coloraxis\": {\"colorbar\": {\"outlinewidth\": 0, \"ticks\": \"\"}}, \"colorscale\": {\"diverging\": [[0, \"#8e0152\"], [0.1, \"#c51b7d\"], [0.2, \"#de77ae\"], [0.3, \"#f1b6da\"], [0.4, \"#fde0ef\"], [0.5, \"#f7f7f7\"], [0.6, \"#e6f5d0\"], [0.7, \"#b8e186\"], [0.8, \"#7fbc41\"], [0.9, \"#4d9221\"], [1, \"#276419\"]], \"sequential\": [[0.0, \"#0d0887\"], [0.1111111111111111, \"#46039f\"], [0.2222222222222222, \"#7201a8\"], [0.3333333333333333, \"#9c179e\"], [0.4444444444444444, \"#bd3786\"], [0.5555555555555556, \"#d8576b\"], [0.6666666666666666, \"#ed7953\"], [0.7777777777777778, \"#fb9f3a\"], [0.8888888888888888, \"#fdca26\"], [1.0, \"#f0f921\"]], \"sequentialminus\": [[0.0, \"#0d0887\"], [0.1111111111111111, \"#46039f\"], [0.2222222222222222, \"#7201a8\"], [0.3333333333333333, \"#9c179e\"], [0.4444444444444444, \"#bd3786\"], [0.5555555555555556, \"#d8576b\"], [0.6666666666666666, \"#ed7953\"], [0.7777777777777778, \"#fb9f3a\"], [0.8888888888888888, \"#fdca26\"], [1.0, \"#f0f921\"]]}, \"colorway\": [\"#636efa\", \"#EF553B\", \"#00cc96\", \"#ab63fa\", \"#FFA15A\", \"#19d3f3\", \"#FF6692\", \"#B6E880\", \"#FF97FF\", \"#FECB52\"], \"font\": {\"color\": \"#2a3f5f\"}, \"geo\": {\"bgcolor\": \"white\", \"lakecolor\": \"white\", \"landcolor\": \"#E5ECF6\", \"showlakes\": true, \"showland\": true, \"subunitcolor\": \"white\"}, \"hoverlabel\": {\"align\": \"left\"}, \"hovermode\": \"closest\", \"mapbox\": {\"style\": \"light\"}, \"paper_bgcolor\": \"white\", \"plot_bgcolor\": \"#E5ECF6\", \"polar\": {\"angularaxis\": {\"gridcolor\": \"white\", \"linecolor\": \"white\", \"ticks\": \"\"}, \"bgcolor\": \"#E5ECF6\", \"radialaxis\": {\"gridcolor\": \"white\", \"linecolor\": \"white\", \"ticks\": \"\"}}, \"scene\": {\"xaxis\": {\"backgroundcolor\": \"#E5ECF6\", \"gridcolor\": \"white\", \"gridwidth\": 2, \"linecolor\": \"white\", \"showbackground\": true, \"ticks\": \"\", \"zerolinecolor\": \"white\"}, \"yaxis\": {\"backgroundcolor\": \"#E5ECF6\", \"gridcolor\": \"white\", \"gridwidth\": 2, \"linecolor\": \"white\", \"showbackground\": true, \"ticks\": \"\", \"zerolinecolor\": \"white\"}, \"zaxis\": {\"backgroundcolor\": \"#E5ECF6\", \"gridcolor\": \"white\", \"gridwidth\": 2, \"linecolor\": \"white\", \"showbackground\": true, \"ticks\": \"\", \"zerolinecolor\": \"white\"}}, \"shapedefaults\": {\"line\": {\"color\": \"#2a3f5f\"}}, \"ternary\": {\"aaxis\": {\"gridcolor\": \"white\", \"linecolor\": \"white\", \"ticks\": \"\"}, \"baxis\": {\"gridcolor\": \"white\", \"linecolor\": \"white\", \"ticks\": \"\"}, \"bgcolor\": \"#E5ECF6\", \"caxis\": {\"gridcolor\": \"white\", \"linecolor\": \"white\", \"ticks\": \"\"}}, \"title\": {\"x\": 0.05}, \"xaxis\": {\"automargin\": true, \"gridcolor\": \"white\", \"linecolor\": \"white\", \"ticks\": \"\", \"title\": {\"standoff\": 15}, \"zerolinecolor\": \"white\", \"zerolinewidth\": 2}, \"yaxis\": {\"automargin\": true, \"gridcolor\": \"white\", \"linecolor\": \"white\", \"ticks\": \"\", \"title\": {\"standoff\": 15}, \"zerolinecolor\": \"white\", \"zerolinewidth\": 2}}}, \"title\": {\"text\": \"Accident Count by Gender\", \"x\": 0.5}, \"width\": 1200.0},\n",
              "                        {\"responsive\": true}\n",
              "                    ).then(function(){\n",
              "                            \n",
              "var gd = document.getElementById('b6a6fa98-acc5-459e-96ed-639378836890');\n",
              "var x = new MutationObserver(function (mutations, observer) {{\n",
              "        var display = window.getComputedStyle(gd).display;\n",
              "        if (!display || display === 'none') {{\n",
              "            console.log([gd, 'removed!']);\n",
              "            Plotly.purge(gd);\n",
              "            observer.disconnect();\n",
              "        }}\n",
              "}});\n",
              "\n",
              "// Listen for the removal of the full notebook cells\n",
              "var notebookContainer = gd.closest('#notebook-container');\n",
              "if (notebookContainer) {{\n",
              "    x.observe(notebookContainer, {childList: true});\n",
              "}}\n",
              "\n",
              "// Listen for the clearing of the current output cell\n",
              "var outputEl = gd.closest('.output');\n",
              "if (outputEl) {{\n",
              "    x.observe(outputEl, {childList: true});\n",
              "}}\n",
              "\n",
              "                        })\n",
              "                };\n",
              "                \n",
              "            </script>\n",
              "        </div>\n",
              "</body>\n",
              "</html>"
            ]
          },
          "metadata": {
            "tags": []
          }
        }
      ]
    },
    {
      "cell_type": "markdown",
      "metadata": {
        "id": "g7G4psYTi-4v"
      },
      "source": [
        "Realizando un análisis más detallado del tipo de accidente que sufrieron los géneros femenino y masculino se observa que:"
      ]
    },
    {
      "cell_type": "code",
      "metadata": {
        "id": "9JKBP4GGjFdZ"
      },
      "source": [
        "# Data Inspection: Accident Location (Generic) by Gender\n",
        "\n",
        "df_f = df_s.filter((df_s[\"VICTIM_SEX\"] == 'F'))\n",
        "df_m = df_s.filter((df_s[\"VICTIM_SEX\"] == 'M'))"
      ],
      "execution_count": 96,
      "outputs": []
    },
    {
      "cell_type": "code",
      "metadata": {
        "colab": {
          "base_uri": "https://localhost:8080/"
        },
        "id": "GjIGXIEKjVOQ",
        "outputId": "bb2c3605-3fd0-4694-9abe-d3edeec604f2"
      },
      "source": [
        "df_f.groupBy('PREMISE_DESCRIPTION').count().orderBy(desc('count')).show(5)"
      ],
      "execution_count": 97,
      "outputs": [
        {
          "output_type": "stream",
          "text": [
            "+-------------------+------+\n",
            "|PREMISE_DESCRIPTION| count|\n",
            "+-------------------+------+\n",
            "|             STREET|174358|\n",
            "|        PARKING LOT|  5873|\n",
            "|           SIDEWALK|   526|\n",
            "|           DRIVEWAY|   260|\n",
            "|              ALLEY|   243|\n",
            "+-------------------+------+\n",
            "only showing top 5 rows\n",
            "\n"
          ],
          "name": "stdout"
        }
      ]
    },
    {
      "cell_type": "code",
      "metadata": {
        "colab": {
          "base_uri": "https://localhost:8080/"
        },
        "id": "USPSU3oUjWMc",
        "outputId": "75d95835-cf5b-4fb6-d04e-6ece3d408995"
      },
      "source": [
        "df_m.groupBy('PREMISE_DESCRIPTION').count().orderBy(desc('count')).show(5)"
      ],
      "execution_count": 98,
      "outputs": [
        {
          "output_type": "stream",
          "text": [
            "+-------------------+------+\n",
            "|PREMISE_DESCRIPTION| count|\n",
            "+-------------------+------+\n",
            "|             STREET|268092|\n",
            "|        PARKING LOT|  7982|\n",
            "|           SIDEWALK|  1744|\n",
            "|              ALLEY|   515|\n",
            "|           DRIVEWAY|   438|\n",
            "+-------------------+------+\n",
            "only showing top 5 rows\n",
            "\n"
          ],
          "name": "stdout"
        }
      ]
    },
    {
      "cell_type": "markdown",
      "metadata": {
        "id": "l6ZK2iw7zMNQ"
      },
      "source": [
        "#### **3.6. Total de Accidentes por Edad**\n",
        "\n",
        "La gráfica que se presenta a continuación muestra la totalidad de accidentes ocurridos en función de la edad exacta."
      ]
    },
    {
      "cell_type": "code",
      "metadata": {
        "colab": {
          "base_uri": "https://localhost:8080/",
          "height": 767
        },
        "id": "iCK92hzTgIRT",
        "outputId": "a6462d35-3865-4f7b-8aa8-5a71cce36639"
      },
      "source": [
        "# Bar Plot: Accident Count by Age\n",
        "\n",
        "accidents_by_age = df_s.groupBy(\"VICTIM_AGE\").count().toPandas()\n",
        "\n",
        "accidents_by_age_fig = px.bar(accidents_by_age, \n",
        "                        x = \"VICTIM_AGE\", \n",
        "                        y = \"count\", \n",
        "                        color = 'VICTIM_AGE',\n",
        "                        labels = {'VICTIM_AGE' : 'Age', 'count' : 'Total of Accidents'}, \n",
        "                        width = 1600 * 0.75,\n",
        "                        height = 1000 * 0.75)\n",
        "accidents_by_age_fig.update_layout(title_text = 'Total Accidents by Age', title_x = 0.5)\n",
        "accidents_by_age_fig.update_layout(xaxis = dict(tickmode = 'array', tickvals = yearly_accidents_xticks, ticktext = yearly_accidents_xticks))\n",
        "accidents_by_age_fig.show()"
      ],
      "execution_count": 99,
      "outputs": [
        {
          "output_type": "display_data",
          "data": {
            "text/html": [
              "<html>\n",
              "<head><meta charset=\"utf-8\" /></head>\n",
              "<body>\n",
              "    <div>\n",
              "            <script src=\"https://cdnjs.cloudflare.com/ajax/libs/mathjax/2.7.5/MathJax.js?config=TeX-AMS-MML_SVG\"></script><script type=\"text/javascript\">if (window.MathJax) {MathJax.Hub.Config({SVG: {font: \"STIX-Web\"}});}</script>\n",
              "                <script type=\"text/javascript\">window.PlotlyConfig = {MathJaxConfig: 'local'};</script>\n",
              "        <script src=\"https://cdn.plot.ly/plotly-latest.min.js\"></script>    \n",
              "            <div id=\"5a602eda-4141-43d1-b880-a5dd621de6d6\" class=\"plotly-graph-div\" style=\"height:750.0px; width:1200.0px;\"></div>\n",
              "            <script type=\"text/javascript\">\n",
              "                \n",
              "                    window.PLOTLYENV=window.PLOTLYENV || {};\n",
              "                    \n",
              "                if (document.getElementById(\"5a602eda-4141-43d1-b880-a5dd621de6d6\")) {\n",
              "                    Plotly.newPlot(\n",
              "                        '5a602eda-4141-43d1-b880-a5dd621de6d6',\n",
              "                        [{\"alignmentgroup\": \"True\", \"hoverlabel\": {\"namelength\": 0}, \"hovertemplate\": \"Age=%{marker.color}<br>Total of Accidents=%{y}\", \"legendgroup\": \"\", \"marker\": {\"color\": [31, 85, 65, 53, 78, 34, 81, 28, 76, 26, 27, 44, 12, 91, 22, 93, 47, 52, 13, 16, 86, 40, 20, 94, 57, 54, 96, 48, 19, 92, 64, 41, 43, 15, 37, 61, 88, 17, 72, 35, 59, 55, 23, 39, 49, 84, 87, 51, 69, 97, 63, 77, 10, 50, 45, 38, 82, 80, 25, 73, 24, 70, 62, 95, 29, 21, 98, 60, 32, 90, 75, 56, 58, 33, 11, 83, 71, 68, 14, 42, 79, 99, 30, 66, 46, 67, 0, 18, 74, 36, 89], \"coloraxis\": \"coloraxis\"}, \"name\": \"\", \"offsetgroup\": \"\", \"orientation\": \"v\", \"showlegend\": false, \"textposition\": \"auto\", \"type\": \"bar\", \"x\": [31, 85, 65, 53, 78, 34, 81, 28, 76, 26, 27, 44, 12, 91, 22, 93, 47, 52, 13, 16, 86, 40, 20, 94, 57, 54, 96, 48, 19, 92, 64, 41, 43, 15, 37, 61, 88, 17, 72, 35, 59, 55, 23, 39, 49, 84, 87, 51, 69, 97, 63, 77, 10, 50, 45, 38, 82, 80, 25, 73, 24, 70, 62, 95, 29, 21, 98, 60, 32, 90, 75, 56, 58, 33, 11, 83, 71, 68, 14, 42, 79, 99, 30, 66, 46, 67, 0, 18, 74, 36, 89], \"xaxis\": \"x\", \"y\": [10150, 327, 3222, 6289, 735, 9012, 577, 11418, 944, 11353, 11605, 7269, 27, 96, 10759, 47, 7143, 6536, 25, 97, 262, 11282, 8776, 48, 5279, 6197, 39, 7055, 475, 81, 3300, 7761, 7403, 57, 8254, 4114, 174, 200, 1413, 11255, 4765, 6786, 11246, 7852, 7241, 378, 235, 6668, 1946, 30, 3488, 806, 10, 10790, 9038, 8172, 448, 635, 13150, 1285, 11613, 1917, 3833, 45, 10769, 9485, 32, 5194, 9906, 152, 1059, 5629, 5039, 9342, 15, 473, 1514, 2184, 37, 7588, 622, 5787, 14050, 2609, 7281, 2374, 66363, 1877, 1115, 8579, 178], \"yaxis\": \"y\"}],\n",
              "                        {\"barmode\": \"relative\", \"coloraxis\": {\"colorbar\": {\"title\": {\"text\": \"Age\"}}, \"colorscale\": [[0.0, \"#0d0887\"], [0.1111111111111111, \"#46039f\"], [0.2222222222222222, \"#7201a8\"], [0.3333333333333333, \"#9c179e\"], [0.4444444444444444, \"#bd3786\"], [0.5555555555555556, \"#d8576b\"], [0.6666666666666666, \"#ed7953\"], [0.7777777777777778, \"#fb9f3a\"], [0.8888888888888888, \"#fdca26\"], [1.0, \"#f0f921\"]]}, \"height\": 750.0, \"legend\": {\"tracegroupgap\": 0}, \"margin\": {\"t\": 60}, \"template\": {\"data\": {\"bar\": [{\"error_x\": {\"color\": \"#2a3f5f\"}, \"error_y\": {\"color\": \"#2a3f5f\"}, \"marker\": {\"line\": {\"color\": \"#E5ECF6\", \"width\": 0.5}}, \"type\": \"bar\"}], \"barpolar\": [{\"marker\": {\"line\": {\"color\": \"#E5ECF6\", \"width\": 0.5}}, \"type\": \"barpolar\"}], \"carpet\": [{\"aaxis\": {\"endlinecolor\": \"#2a3f5f\", \"gridcolor\": \"white\", \"linecolor\": \"white\", \"minorgridcolor\": \"white\", \"startlinecolor\": \"#2a3f5f\"}, \"baxis\": {\"endlinecolor\": \"#2a3f5f\", \"gridcolor\": \"white\", \"linecolor\": \"white\", \"minorgridcolor\": \"white\", \"startlinecolor\": \"#2a3f5f\"}, \"type\": \"carpet\"}], \"choropleth\": [{\"colorbar\": {\"outlinewidth\": 0, \"ticks\": \"\"}, \"type\": \"choropleth\"}], \"contour\": [{\"colorbar\": {\"outlinewidth\": 0, \"ticks\": \"\"}, \"colorscale\": [[0.0, \"#0d0887\"], [0.1111111111111111, \"#46039f\"], [0.2222222222222222, \"#7201a8\"], [0.3333333333333333, \"#9c179e\"], [0.4444444444444444, \"#bd3786\"], [0.5555555555555556, \"#d8576b\"], [0.6666666666666666, \"#ed7953\"], [0.7777777777777778, \"#fb9f3a\"], [0.8888888888888888, \"#fdca26\"], [1.0, \"#f0f921\"]], \"type\": \"contour\"}], \"contourcarpet\": [{\"colorbar\": {\"outlinewidth\": 0, \"ticks\": \"\"}, \"type\": \"contourcarpet\"}], \"heatmap\": [{\"colorbar\": {\"outlinewidth\": 0, \"ticks\": \"\"}, \"colorscale\": [[0.0, \"#0d0887\"], [0.1111111111111111, \"#46039f\"], [0.2222222222222222, \"#7201a8\"], [0.3333333333333333, \"#9c179e\"], [0.4444444444444444, \"#bd3786\"], [0.5555555555555556, \"#d8576b\"], [0.6666666666666666, \"#ed7953\"], [0.7777777777777778, \"#fb9f3a\"], [0.8888888888888888, \"#fdca26\"], [1.0, \"#f0f921\"]], \"type\": \"heatmap\"}], \"heatmapgl\": [{\"colorbar\": {\"outlinewidth\": 0, \"ticks\": \"\"}, \"colorscale\": [[0.0, \"#0d0887\"], [0.1111111111111111, \"#46039f\"], [0.2222222222222222, \"#7201a8\"], [0.3333333333333333, \"#9c179e\"], [0.4444444444444444, \"#bd3786\"], [0.5555555555555556, \"#d8576b\"], [0.6666666666666666, \"#ed7953\"], [0.7777777777777778, \"#fb9f3a\"], [0.8888888888888888, \"#fdca26\"], [1.0, \"#f0f921\"]], \"type\": \"heatmapgl\"}], \"histogram\": [{\"marker\": {\"colorbar\": {\"outlinewidth\": 0, \"ticks\": \"\"}}, \"type\": \"histogram\"}], \"histogram2d\": [{\"colorbar\": {\"outlinewidth\": 0, \"ticks\": \"\"}, \"colorscale\": [[0.0, \"#0d0887\"], [0.1111111111111111, \"#46039f\"], [0.2222222222222222, \"#7201a8\"], [0.3333333333333333, \"#9c179e\"], [0.4444444444444444, \"#bd3786\"], [0.5555555555555556, \"#d8576b\"], [0.6666666666666666, \"#ed7953\"], [0.7777777777777778, \"#fb9f3a\"], [0.8888888888888888, \"#fdca26\"], [1.0, \"#f0f921\"]], \"type\": \"histogram2d\"}], \"histogram2dcontour\": [{\"colorbar\": {\"outlinewidth\": 0, \"ticks\": \"\"}, \"colorscale\": [[0.0, \"#0d0887\"], [0.1111111111111111, \"#46039f\"], [0.2222222222222222, \"#7201a8\"], [0.3333333333333333, \"#9c179e\"], [0.4444444444444444, \"#bd3786\"], [0.5555555555555556, \"#d8576b\"], [0.6666666666666666, \"#ed7953\"], [0.7777777777777778, \"#fb9f3a\"], [0.8888888888888888, \"#fdca26\"], [1.0, \"#f0f921\"]], \"type\": \"histogram2dcontour\"}], \"mesh3d\": [{\"colorbar\": {\"outlinewidth\": 0, \"ticks\": \"\"}, \"type\": \"mesh3d\"}], \"parcoords\": [{\"line\": {\"colorbar\": {\"outlinewidth\": 0, \"ticks\": \"\"}}, \"type\": \"parcoords\"}], \"pie\": [{\"automargin\": true, \"type\": \"pie\"}], \"scatter\": [{\"marker\": {\"colorbar\": {\"outlinewidth\": 0, \"ticks\": \"\"}}, \"type\": \"scatter\"}], \"scatter3d\": [{\"line\": {\"colorbar\": {\"outlinewidth\": 0, \"ticks\": \"\"}}, \"marker\": {\"colorbar\": {\"outlinewidth\": 0, \"ticks\": \"\"}}, \"type\": \"scatter3d\"}], \"scattercarpet\": [{\"marker\": {\"colorbar\": {\"outlinewidth\": 0, \"ticks\": \"\"}}, \"type\": \"scattercarpet\"}], \"scattergeo\": [{\"marker\": {\"colorbar\": {\"outlinewidth\": 0, \"ticks\": \"\"}}, \"type\": \"scattergeo\"}], \"scattergl\": [{\"marker\": {\"colorbar\": {\"outlinewidth\": 0, \"ticks\": \"\"}}, \"type\": \"scattergl\"}], \"scattermapbox\": [{\"marker\": {\"colorbar\": {\"outlinewidth\": 0, \"ticks\": \"\"}}, \"type\": \"scattermapbox\"}], \"scatterpolar\": [{\"marker\": {\"colorbar\": {\"outlinewidth\": 0, \"ticks\": \"\"}}, \"type\": \"scatterpolar\"}], \"scatterpolargl\": [{\"marker\": {\"colorbar\": {\"outlinewidth\": 0, \"ticks\": \"\"}}, \"type\": \"scatterpolargl\"}], \"scatterternary\": [{\"marker\": {\"colorbar\": {\"outlinewidth\": 0, \"ticks\": \"\"}}, \"type\": \"scatterternary\"}], \"surface\": [{\"colorbar\": {\"outlinewidth\": 0, \"ticks\": \"\"}, \"colorscale\": [[0.0, \"#0d0887\"], [0.1111111111111111, \"#46039f\"], [0.2222222222222222, \"#7201a8\"], [0.3333333333333333, \"#9c179e\"], [0.4444444444444444, \"#bd3786\"], [0.5555555555555556, \"#d8576b\"], [0.6666666666666666, \"#ed7953\"], [0.7777777777777778, \"#fb9f3a\"], [0.8888888888888888, \"#fdca26\"], [1.0, \"#f0f921\"]], \"type\": \"surface\"}], \"table\": [{\"cells\": {\"fill\": {\"color\": \"#EBF0F8\"}, \"line\": {\"color\": \"white\"}}, \"header\": {\"fill\": {\"color\": \"#C8D4E3\"}, \"line\": {\"color\": \"white\"}}, \"type\": \"table\"}]}, \"layout\": {\"annotationdefaults\": {\"arrowcolor\": \"#2a3f5f\", \"arrowhead\": 0, \"arrowwidth\": 1}, \"coloraxis\": {\"colorbar\": {\"outlinewidth\": 0, \"ticks\": \"\"}}, \"colorscale\": {\"diverging\": [[0, \"#8e0152\"], [0.1, \"#c51b7d\"], [0.2, \"#de77ae\"], [0.3, \"#f1b6da\"], [0.4, \"#fde0ef\"], [0.5, \"#f7f7f7\"], [0.6, \"#e6f5d0\"], [0.7, \"#b8e186\"], [0.8, \"#7fbc41\"], [0.9, \"#4d9221\"], [1, \"#276419\"]], \"sequential\": [[0.0, \"#0d0887\"], [0.1111111111111111, \"#46039f\"], [0.2222222222222222, \"#7201a8\"], [0.3333333333333333, \"#9c179e\"], [0.4444444444444444, \"#bd3786\"], [0.5555555555555556, \"#d8576b\"], [0.6666666666666666, \"#ed7953\"], [0.7777777777777778, \"#fb9f3a\"], [0.8888888888888888, \"#fdca26\"], [1.0, \"#f0f921\"]], \"sequentialminus\": [[0.0, \"#0d0887\"], [0.1111111111111111, \"#46039f\"], [0.2222222222222222, \"#7201a8\"], [0.3333333333333333, \"#9c179e\"], [0.4444444444444444, \"#bd3786\"], [0.5555555555555556, \"#d8576b\"], [0.6666666666666666, \"#ed7953\"], [0.7777777777777778, \"#fb9f3a\"], [0.8888888888888888, \"#fdca26\"], [1.0, \"#f0f921\"]]}, \"colorway\": [\"#636efa\", \"#EF553B\", \"#00cc96\", \"#ab63fa\", \"#FFA15A\", \"#19d3f3\", \"#FF6692\", \"#B6E880\", \"#FF97FF\", \"#FECB52\"], \"font\": {\"color\": \"#2a3f5f\"}, \"geo\": {\"bgcolor\": \"white\", \"lakecolor\": \"white\", \"landcolor\": \"#E5ECF6\", \"showlakes\": true, \"showland\": true, \"subunitcolor\": \"white\"}, \"hoverlabel\": {\"align\": \"left\"}, \"hovermode\": \"closest\", \"mapbox\": {\"style\": \"light\"}, \"paper_bgcolor\": \"white\", \"plot_bgcolor\": \"#E5ECF6\", \"polar\": {\"angularaxis\": {\"gridcolor\": \"white\", \"linecolor\": \"white\", \"ticks\": \"\"}, \"bgcolor\": \"#E5ECF6\", \"radialaxis\": {\"gridcolor\": \"white\", \"linecolor\": \"white\", \"ticks\": \"\"}}, \"scene\": {\"xaxis\": {\"backgroundcolor\": \"#E5ECF6\", \"gridcolor\": \"white\", \"gridwidth\": 2, \"linecolor\": \"white\", \"showbackground\": true, \"ticks\": \"\", \"zerolinecolor\": \"white\"}, \"yaxis\": {\"backgroundcolor\": \"#E5ECF6\", \"gridcolor\": \"white\", \"gridwidth\": 2, \"linecolor\": \"white\", \"showbackground\": true, \"ticks\": \"\", \"zerolinecolor\": \"white\"}, \"zaxis\": {\"backgroundcolor\": \"#E5ECF6\", \"gridcolor\": \"white\", \"gridwidth\": 2, \"linecolor\": \"white\", \"showbackground\": true, \"ticks\": \"\", \"zerolinecolor\": \"white\"}}, \"shapedefaults\": {\"line\": {\"color\": \"#2a3f5f\"}}, \"ternary\": {\"aaxis\": {\"gridcolor\": \"white\", \"linecolor\": \"white\", \"ticks\": \"\"}, \"baxis\": {\"gridcolor\": \"white\", \"linecolor\": \"white\", \"ticks\": \"\"}, \"bgcolor\": \"#E5ECF6\", \"caxis\": {\"gridcolor\": \"white\", \"linecolor\": \"white\", \"ticks\": \"\"}}, \"title\": {\"x\": 0.05}, \"xaxis\": {\"automargin\": true, \"gridcolor\": \"white\", \"linecolor\": \"white\", \"ticks\": \"\", \"title\": {\"standoff\": 15}, \"zerolinecolor\": \"white\", \"zerolinewidth\": 2}, \"yaxis\": {\"automargin\": true, \"gridcolor\": \"white\", \"linecolor\": \"white\", \"ticks\": \"\", \"title\": {\"standoff\": 15}, \"zerolinecolor\": \"white\", \"zerolinewidth\": 2}}}, \"title\": {\"text\": \"Total Accidents by Age\", \"x\": 0.5}, \"width\": 1200.0, \"xaxis\": {\"anchor\": \"y\", \"domain\": [0.0, 1.0], \"tickmode\": \"array\", \"ticktext\": [2010.0, 2011.0, 2012.0, 2013.0, 2014.0, 2015.0, 2016.0, 2017.0, 2018.0, 2019.0], \"tickvals\": [2010.0, 2011.0, 2012.0, 2013.0, 2014.0, 2015.0, 2016.0, 2017.0, 2018.0, 2019.0], \"title\": {\"text\": \"Age\"}}, \"yaxis\": {\"anchor\": \"x\", \"domain\": [0.0, 1.0], \"title\": {\"text\": \"Total of Accidents\"}}},\n",
              "                        {\"responsive\": true}\n",
              "                    ).then(function(){\n",
              "                            \n",
              "var gd = document.getElementById('5a602eda-4141-43d1-b880-a5dd621de6d6');\n",
              "var x = new MutationObserver(function (mutations, observer) {{\n",
              "        var display = window.getComputedStyle(gd).display;\n",
              "        if (!display || display === 'none') {{\n",
              "            console.log([gd, 'removed!']);\n",
              "            Plotly.purge(gd);\n",
              "            observer.disconnect();\n",
              "        }}\n",
              "}});\n",
              "\n",
              "// Listen for the removal of the full notebook cells\n",
              "var notebookContainer = gd.closest('#notebook-container');\n",
              "if (notebookContainer) {{\n",
              "    x.observe(notebookContainer, {childList: true});\n",
              "}}\n",
              "\n",
              "// Listen for the clearing of the current output cell\n",
              "var outputEl = gd.closest('.output');\n",
              "if (outputEl) {{\n",
              "    x.observe(outputEl, {childList: true});\n",
              "}}\n",
              "\n",
              "                        })\n",
              "                };\n",
              "                \n",
              "            </script>\n",
              "        </div>\n",
              "</body>\n",
              "</html>"
            ]
          },
          "metadata": {
            "tags": []
          }
        }
      ]
    },
    {
      "cell_type": "markdown",
      "metadata": {
        "id": "FgSt37g_zUn_"
      },
      "source": [
        "La gráfica que se presenta a continuación muestra la totalidad de accidentes ocurridos en función de la edad exacta para el rango de edades entre 10 y 90 años."
      ]
    },
    {
      "cell_type": "code",
      "metadata": {
        "colab": {
          "base_uri": "https://localhost:8080/",
          "height": 767
        },
        "id": "A9weVVkWhJ52",
        "outputId": "4c6a8602-b40c-4e1b-d810-0649222c05f0"
      },
      "source": [
        "# Bar Plot: Accident Count by Age (10-90 years old)\n",
        "\n",
        "accidents_by_age_fig2 = accidents_by_age_fig\n",
        "accidents_by_age_fig2.update_layout(title_text = 'Total Accidents by Age (10 to 90 years old)', title_x = 0.5)\n",
        "accidents_by_age_fig2.update_xaxes(range=[10, 90])\n",
        "accidents_by_age_fig2.update_yaxes(range=[0, 15e3])\n",
        "accidents_by_age_fig2.show()"
      ],
      "execution_count": 100,
      "outputs": [
        {
          "output_type": "display_data",
          "data": {
            "text/html": [
              "<html>\n",
              "<head><meta charset=\"utf-8\" /></head>\n",
              "<body>\n",
              "    <div>\n",
              "            <script src=\"https://cdnjs.cloudflare.com/ajax/libs/mathjax/2.7.5/MathJax.js?config=TeX-AMS-MML_SVG\"></script><script type=\"text/javascript\">if (window.MathJax) {MathJax.Hub.Config({SVG: {font: \"STIX-Web\"}});}</script>\n",
              "                <script type=\"text/javascript\">window.PlotlyConfig = {MathJaxConfig: 'local'};</script>\n",
              "        <script src=\"https://cdn.plot.ly/plotly-latest.min.js\"></script>    \n",
              "            <div id=\"236e0cf9-0e37-406a-976f-28546aaa71a8\" class=\"plotly-graph-div\" style=\"height:750.0px; width:1200.0px;\"></div>\n",
              "            <script type=\"text/javascript\">\n",
              "                \n",
              "                    window.PLOTLYENV=window.PLOTLYENV || {};\n",
              "                    \n",
              "                if (document.getElementById(\"236e0cf9-0e37-406a-976f-28546aaa71a8\")) {\n",
              "                    Plotly.newPlot(\n",
              "                        '236e0cf9-0e37-406a-976f-28546aaa71a8',\n",
              "                        [{\"alignmentgroup\": \"True\", \"hoverlabel\": {\"namelength\": 0}, \"hovertemplate\": \"Age=%{marker.color}<br>Total of Accidents=%{y}\", \"legendgroup\": \"\", \"marker\": {\"color\": [31, 85, 65, 53, 78, 34, 81, 28, 76, 26, 27, 44, 12, 91, 22, 93, 47, 52, 13, 16, 86, 40, 20, 94, 57, 54, 96, 48, 19, 92, 64, 41, 43, 15, 37, 61, 88, 17, 72, 35, 59, 55, 23, 39, 49, 84, 87, 51, 69, 97, 63, 77, 10, 50, 45, 38, 82, 80, 25, 73, 24, 70, 62, 95, 29, 21, 98, 60, 32, 90, 75, 56, 58, 33, 11, 83, 71, 68, 14, 42, 79, 99, 30, 66, 46, 67, 0, 18, 74, 36, 89], \"coloraxis\": \"coloraxis\"}, \"name\": \"\", \"offsetgroup\": \"\", \"orientation\": \"v\", \"showlegend\": false, \"textposition\": \"auto\", \"type\": \"bar\", \"x\": [31, 85, 65, 53, 78, 34, 81, 28, 76, 26, 27, 44, 12, 91, 22, 93, 47, 52, 13, 16, 86, 40, 20, 94, 57, 54, 96, 48, 19, 92, 64, 41, 43, 15, 37, 61, 88, 17, 72, 35, 59, 55, 23, 39, 49, 84, 87, 51, 69, 97, 63, 77, 10, 50, 45, 38, 82, 80, 25, 73, 24, 70, 62, 95, 29, 21, 98, 60, 32, 90, 75, 56, 58, 33, 11, 83, 71, 68, 14, 42, 79, 99, 30, 66, 46, 67, 0, 18, 74, 36, 89], \"xaxis\": \"x\", \"y\": [10150, 327, 3222, 6289, 735, 9012, 577, 11418, 944, 11353, 11605, 7269, 27, 96, 10759, 47, 7143, 6536, 25, 97, 262, 11282, 8776, 48, 5279, 6197, 39, 7055, 475, 81, 3300, 7761, 7403, 57, 8254, 4114, 174, 200, 1413, 11255, 4765, 6786, 11246, 7852, 7241, 378, 235, 6668, 1946, 30, 3488, 806, 10, 10790, 9038, 8172, 448, 635, 13150, 1285, 11613, 1917, 3833, 45, 10769, 9485, 32, 5194, 9906, 152, 1059, 5629, 5039, 9342, 15, 473, 1514, 2184, 37, 7588, 622, 5787, 14050, 2609, 7281, 2374, 66363, 1877, 1115, 8579, 178], \"yaxis\": \"y\"}],\n",
              "                        {\"barmode\": \"relative\", \"coloraxis\": {\"colorbar\": {\"title\": {\"text\": \"Age\"}}, \"colorscale\": [[0.0, \"#0d0887\"], [0.1111111111111111, \"#46039f\"], [0.2222222222222222, \"#7201a8\"], [0.3333333333333333, \"#9c179e\"], [0.4444444444444444, \"#bd3786\"], [0.5555555555555556, \"#d8576b\"], [0.6666666666666666, \"#ed7953\"], [0.7777777777777778, \"#fb9f3a\"], [0.8888888888888888, \"#fdca26\"], [1.0, \"#f0f921\"]]}, \"height\": 750.0, \"legend\": {\"tracegroupgap\": 0}, \"margin\": {\"t\": 60}, \"template\": {\"data\": {\"bar\": [{\"error_x\": {\"color\": \"#2a3f5f\"}, \"error_y\": {\"color\": \"#2a3f5f\"}, \"marker\": {\"line\": {\"color\": \"#E5ECF6\", \"width\": 0.5}}, \"type\": \"bar\"}], \"barpolar\": [{\"marker\": {\"line\": {\"color\": \"#E5ECF6\", \"width\": 0.5}}, \"type\": \"barpolar\"}], \"carpet\": [{\"aaxis\": {\"endlinecolor\": \"#2a3f5f\", \"gridcolor\": \"white\", \"linecolor\": \"white\", \"minorgridcolor\": \"white\", \"startlinecolor\": \"#2a3f5f\"}, \"baxis\": {\"endlinecolor\": \"#2a3f5f\", \"gridcolor\": \"white\", \"linecolor\": \"white\", \"minorgridcolor\": \"white\", \"startlinecolor\": \"#2a3f5f\"}, \"type\": \"carpet\"}], \"choropleth\": [{\"colorbar\": {\"outlinewidth\": 0, \"ticks\": \"\"}, \"type\": \"choropleth\"}], \"contour\": [{\"colorbar\": {\"outlinewidth\": 0, \"ticks\": \"\"}, \"colorscale\": [[0.0, \"#0d0887\"], [0.1111111111111111, \"#46039f\"], [0.2222222222222222, \"#7201a8\"], [0.3333333333333333, \"#9c179e\"], [0.4444444444444444, \"#bd3786\"], [0.5555555555555556, \"#d8576b\"], [0.6666666666666666, \"#ed7953\"], [0.7777777777777778, \"#fb9f3a\"], [0.8888888888888888, \"#fdca26\"], [1.0, \"#f0f921\"]], \"type\": \"contour\"}], \"contourcarpet\": [{\"colorbar\": {\"outlinewidth\": 0, \"ticks\": \"\"}, \"type\": \"contourcarpet\"}], \"heatmap\": [{\"colorbar\": {\"outlinewidth\": 0, \"ticks\": \"\"}, \"colorscale\": [[0.0, \"#0d0887\"], [0.1111111111111111, \"#46039f\"], [0.2222222222222222, \"#7201a8\"], [0.3333333333333333, \"#9c179e\"], [0.4444444444444444, \"#bd3786\"], [0.5555555555555556, \"#d8576b\"], [0.6666666666666666, \"#ed7953\"], [0.7777777777777778, \"#fb9f3a\"], [0.8888888888888888, \"#fdca26\"], [1.0, \"#f0f921\"]], \"type\": \"heatmap\"}], \"heatmapgl\": [{\"colorbar\": {\"outlinewidth\": 0, \"ticks\": \"\"}, \"colorscale\": [[0.0, \"#0d0887\"], [0.1111111111111111, \"#46039f\"], [0.2222222222222222, \"#7201a8\"], [0.3333333333333333, \"#9c179e\"], [0.4444444444444444, \"#bd3786\"], [0.5555555555555556, \"#d8576b\"], [0.6666666666666666, \"#ed7953\"], [0.7777777777777778, \"#fb9f3a\"], [0.8888888888888888, \"#fdca26\"], [1.0, \"#f0f921\"]], \"type\": \"heatmapgl\"}], \"histogram\": [{\"marker\": {\"colorbar\": {\"outlinewidth\": 0, \"ticks\": \"\"}}, \"type\": \"histogram\"}], \"histogram2d\": [{\"colorbar\": {\"outlinewidth\": 0, \"ticks\": \"\"}, \"colorscale\": [[0.0, \"#0d0887\"], [0.1111111111111111, \"#46039f\"], [0.2222222222222222, \"#7201a8\"], [0.3333333333333333, \"#9c179e\"], [0.4444444444444444, \"#bd3786\"], [0.5555555555555556, \"#d8576b\"], [0.6666666666666666, \"#ed7953\"], [0.7777777777777778, \"#fb9f3a\"], [0.8888888888888888, \"#fdca26\"], [1.0, \"#f0f921\"]], \"type\": \"histogram2d\"}], \"histogram2dcontour\": [{\"colorbar\": {\"outlinewidth\": 0, \"ticks\": \"\"}, \"colorscale\": [[0.0, \"#0d0887\"], [0.1111111111111111, \"#46039f\"], [0.2222222222222222, \"#7201a8\"], [0.3333333333333333, \"#9c179e\"], [0.4444444444444444, \"#bd3786\"], [0.5555555555555556, \"#d8576b\"], [0.6666666666666666, \"#ed7953\"], [0.7777777777777778, \"#fb9f3a\"], [0.8888888888888888, \"#fdca26\"], [1.0, \"#f0f921\"]], \"type\": \"histogram2dcontour\"}], \"mesh3d\": [{\"colorbar\": {\"outlinewidth\": 0, \"ticks\": \"\"}, \"type\": \"mesh3d\"}], \"parcoords\": [{\"line\": {\"colorbar\": {\"outlinewidth\": 0, \"ticks\": \"\"}}, \"type\": \"parcoords\"}], \"pie\": [{\"automargin\": true, \"type\": \"pie\"}], \"scatter\": [{\"marker\": {\"colorbar\": {\"outlinewidth\": 0, \"ticks\": \"\"}}, \"type\": \"scatter\"}], \"scatter3d\": [{\"line\": {\"colorbar\": {\"outlinewidth\": 0, \"ticks\": \"\"}}, \"marker\": {\"colorbar\": {\"outlinewidth\": 0, \"ticks\": \"\"}}, \"type\": \"scatter3d\"}], \"scattercarpet\": [{\"marker\": {\"colorbar\": {\"outlinewidth\": 0, \"ticks\": \"\"}}, \"type\": \"scattercarpet\"}], \"scattergeo\": [{\"marker\": {\"colorbar\": {\"outlinewidth\": 0, \"ticks\": \"\"}}, \"type\": \"scattergeo\"}], \"scattergl\": [{\"marker\": {\"colorbar\": {\"outlinewidth\": 0, \"ticks\": \"\"}}, \"type\": \"scattergl\"}], \"scattermapbox\": [{\"marker\": {\"colorbar\": {\"outlinewidth\": 0, \"ticks\": \"\"}}, \"type\": \"scattermapbox\"}], \"scatterpolar\": [{\"marker\": {\"colorbar\": {\"outlinewidth\": 0, \"ticks\": \"\"}}, \"type\": \"scatterpolar\"}], \"scatterpolargl\": [{\"marker\": {\"colorbar\": {\"outlinewidth\": 0, \"ticks\": \"\"}}, \"type\": \"scatterpolargl\"}], \"scatterternary\": [{\"marker\": {\"colorbar\": {\"outlinewidth\": 0, \"ticks\": \"\"}}, \"type\": \"scatterternary\"}], \"surface\": [{\"colorbar\": {\"outlinewidth\": 0, \"ticks\": \"\"}, \"colorscale\": [[0.0, \"#0d0887\"], [0.1111111111111111, \"#46039f\"], [0.2222222222222222, \"#7201a8\"], [0.3333333333333333, \"#9c179e\"], [0.4444444444444444, \"#bd3786\"], [0.5555555555555556, \"#d8576b\"], [0.6666666666666666, \"#ed7953\"], [0.7777777777777778, \"#fb9f3a\"], [0.8888888888888888, \"#fdca26\"], [1.0, \"#f0f921\"]], \"type\": \"surface\"}], \"table\": [{\"cells\": {\"fill\": {\"color\": \"#EBF0F8\"}, \"line\": {\"color\": \"white\"}}, \"header\": {\"fill\": {\"color\": \"#C8D4E3\"}, \"line\": {\"color\": \"white\"}}, \"type\": \"table\"}]}, \"layout\": {\"annotationdefaults\": {\"arrowcolor\": \"#2a3f5f\", \"arrowhead\": 0, \"arrowwidth\": 1}, \"coloraxis\": {\"colorbar\": {\"outlinewidth\": 0, \"ticks\": \"\"}}, \"colorscale\": {\"diverging\": [[0, \"#8e0152\"], [0.1, \"#c51b7d\"], [0.2, \"#de77ae\"], [0.3, \"#f1b6da\"], [0.4, \"#fde0ef\"], [0.5, \"#f7f7f7\"], [0.6, \"#e6f5d0\"], [0.7, \"#b8e186\"], [0.8, \"#7fbc41\"], [0.9, \"#4d9221\"], [1, \"#276419\"]], \"sequential\": [[0.0, \"#0d0887\"], [0.1111111111111111, \"#46039f\"], [0.2222222222222222, \"#7201a8\"], [0.3333333333333333, \"#9c179e\"], [0.4444444444444444, \"#bd3786\"], [0.5555555555555556, \"#d8576b\"], [0.6666666666666666, \"#ed7953\"], [0.7777777777777778, \"#fb9f3a\"], [0.8888888888888888, \"#fdca26\"], [1.0, \"#f0f921\"]], \"sequentialminus\": [[0.0, \"#0d0887\"], [0.1111111111111111, \"#46039f\"], [0.2222222222222222, \"#7201a8\"], [0.3333333333333333, \"#9c179e\"], [0.4444444444444444, \"#bd3786\"], [0.5555555555555556, \"#d8576b\"], [0.6666666666666666, \"#ed7953\"], [0.7777777777777778, \"#fb9f3a\"], [0.8888888888888888, \"#fdca26\"], [1.0, \"#f0f921\"]]}, \"colorway\": [\"#636efa\", \"#EF553B\", \"#00cc96\", \"#ab63fa\", \"#FFA15A\", \"#19d3f3\", \"#FF6692\", \"#B6E880\", \"#FF97FF\", \"#FECB52\"], \"font\": {\"color\": \"#2a3f5f\"}, \"geo\": {\"bgcolor\": \"white\", \"lakecolor\": \"white\", \"landcolor\": \"#E5ECF6\", \"showlakes\": true, \"showland\": true, \"subunitcolor\": \"white\"}, \"hoverlabel\": {\"align\": \"left\"}, \"hovermode\": \"closest\", \"mapbox\": {\"style\": \"light\"}, \"paper_bgcolor\": \"white\", \"plot_bgcolor\": \"#E5ECF6\", \"polar\": {\"angularaxis\": {\"gridcolor\": \"white\", \"linecolor\": \"white\", \"ticks\": \"\"}, \"bgcolor\": \"#E5ECF6\", \"radialaxis\": {\"gridcolor\": \"white\", \"linecolor\": \"white\", \"ticks\": \"\"}}, \"scene\": {\"xaxis\": {\"backgroundcolor\": \"#E5ECF6\", \"gridcolor\": \"white\", \"gridwidth\": 2, \"linecolor\": \"white\", \"showbackground\": true, \"ticks\": \"\", \"zerolinecolor\": \"white\"}, \"yaxis\": {\"backgroundcolor\": \"#E5ECF6\", \"gridcolor\": \"white\", \"gridwidth\": 2, \"linecolor\": \"white\", \"showbackground\": true, \"ticks\": \"\", \"zerolinecolor\": \"white\"}, \"zaxis\": {\"backgroundcolor\": \"#E5ECF6\", \"gridcolor\": \"white\", \"gridwidth\": 2, \"linecolor\": \"white\", \"showbackground\": true, \"ticks\": \"\", \"zerolinecolor\": \"white\"}}, \"shapedefaults\": {\"line\": {\"color\": \"#2a3f5f\"}}, \"ternary\": {\"aaxis\": {\"gridcolor\": \"white\", \"linecolor\": \"white\", \"ticks\": \"\"}, \"baxis\": {\"gridcolor\": \"white\", \"linecolor\": \"white\", \"ticks\": \"\"}, \"bgcolor\": \"#E5ECF6\", \"caxis\": {\"gridcolor\": \"white\", \"linecolor\": \"white\", \"ticks\": \"\"}}, \"title\": {\"x\": 0.05}, \"xaxis\": {\"automargin\": true, \"gridcolor\": \"white\", \"linecolor\": \"white\", \"ticks\": \"\", \"title\": {\"standoff\": 15}, \"zerolinecolor\": \"white\", \"zerolinewidth\": 2}, \"yaxis\": {\"automargin\": true, \"gridcolor\": \"white\", \"linecolor\": \"white\", \"ticks\": \"\", \"title\": {\"standoff\": 15}, \"zerolinecolor\": \"white\", \"zerolinewidth\": 2}}}, \"title\": {\"text\": \"Total Accidents by Age (10 to 90 years old)\", \"x\": 0.5}, \"width\": 1200.0, \"xaxis\": {\"anchor\": \"y\", \"domain\": [0.0, 1.0], \"range\": [10, 90], \"tickmode\": \"array\", \"ticktext\": [2010.0, 2011.0, 2012.0, 2013.0, 2014.0, 2015.0, 2016.0, 2017.0, 2018.0, 2019.0], \"tickvals\": [2010.0, 2011.0, 2012.0, 2013.0, 2014.0, 2015.0, 2016.0, 2017.0, 2018.0, 2019.0], \"title\": {\"text\": \"Age\"}}, \"yaxis\": {\"anchor\": \"x\", \"domain\": [0.0, 1.0], \"range\": [0, 15000.0], \"title\": {\"text\": \"Total of Accidents\"}}},\n",
              "                        {\"responsive\": true}\n",
              "                    ).then(function(){\n",
              "                            \n",
              "var gd = document.getElementById('236e0cf9-0e37-406a-976f-28546aaa71a8');\n",
              "var x = new MutationObserver(function (mutations, observer) {{\n",
              "        var display = window.getComputedStyle(gd).display;\n",
              "        if (!display || display === 'none') {{\n",
              "            console.log([gd, 'removed!']);\n",
              "            Plotly.purge(gd);\n",
              "            observer.disconnect();\n",
              "        }}\n",
              "}});\n",
              "\n",
              "// Listen for the removal of the full notebook cells\n",
              "var notebookContainer = gd.closest('#notebook-container');\n",
              "if (notebookContainer) {{\n",
              "    x.observe(notebookContainer, {childList: true});\n",
              "}}\n",
              "\n",
              "// Listen for the clearing of the current output cell\n",
              "var outputEl = gd.closest('.output');\n",
              "if (outputEl) {{\n",
              "    x.observe(outputEl, {childList: true});\n",
              "}}\n",
              "\n",
              "                        })\n",
              "                };\n",
              "                \n",
              "            </script>\n",
              "        </div>\n",
              "</body>\n",
              "</html>"
            ]
          },
          "metadata": {
            "tags": []
          }
        }
      ]
    },
    {
      "cell_type": "markdown",
      "metadata": {
        "id": "0n0ySC9Nzi_x"
      },
      "source": [
        "#### **3.7. Total de Accidentes por Grupo de Edad (2015-2019)**\n",
        "\n",
        "La gráfica que se presenta a continuación muestra la totalidad de accidentes ocurridos en función del grupo de edad para los cinco años con mayor accidentalidad (2015-2019):"
      ]
    },
    {
      "cell_type": "code",
      "metadata": {
        "colab": {
          "base_uri": "https://localhost:8080/",
          "height": 767
        },
        "id": "wvKLza-WiUSb",
        "outputId": "0f78a413-99a7-49c8-8d10-4726cc575716"
      },
      "source": [
        "# Bar Plot: Yearly Accidents in the years with the most ammount of accidents by Age_Group\n",
        "\n",
        "yearly_accidents_ag_2015 = df_s[df_s.year == 2015].groupBy(\"AGE\").count().toPandas()\n",
        "yearly_accidents_ag_2016 = df_s[df_s.year == 2016].groupBy(\"AGE\").count().toPandas()\n",
        "yearly_accidents_ag_2017 = df_s[df_s.year == 2017].groupBy(\"AGE\").count().toPandas()\n",
        "yearly_accidents_ag_2018 = df_s[df_s.year == 2018].groupBy(\"AGE\").count().toPandas()\n",
        "yearly_accidents_ag_2019 = df_s[df_s.year == 2019].groupBy(\"AGE\").count().toPandas()\n",
        "\n",
        "yearly_accidents_ag_top5 = go.Figure(data = [\n",
        "    go.Bar(name = '2015', x = yearly_accidents_ag_2015['AGE'], y = yearly_accidents_ag_2015['count'], marker_color ='#00D2BE'),\n",
        "    go.Bar(name = '2016', x = yearly_accidents_ag_2016['AGE'], y = yearly_accidents_ag_2016['count'], marker_color ='#DC0000'),\n",
        "    go.Bar(name = '2017', x = yearly_accidents_ag_2017['AGE'], y = yearly_accidents_ag_2017['count'], marker_color ='#0600EF'),\n",
        "    go.Bar(name = '2018', x = yearly_accidents_ag_2018['AGE'], y = yearly_accidents_ag_2018['count'], marker_color ='#FF8700'),\n",
        "    go.Bar(name = '2019', x = yearly_accidents_ag_2019['AGE'], y = yearly_accidents_ag_2019['count'], marker_color ='#006F62')\n",
        "    ])\n",
        "yearly_accidents_ag_top5.update_layout(barmode = 'group', width = 1600 * 0.75, height = 1000 * 0.75)\n",
        "yearly_accidents_ag_top5.update_layout(title_text = \"Yearly Accident Count from 2015 to 2019 by Age Group\", title_x = 0.5)\n",
        "yearly_accidents_ag_top5.show()"
      ],
      "execution_count": 101,
      "outputs": [
        {
          "output_type": "display_data",
          "data": {
            "text/html": [
              "<html>\n",
              "<head><meta charset=\"utf-8\" /></head>\n",
              "<body>\n",
              "    <div>\n",
              "            <script src=\"https://cdnjs.cloudflare.com/ajax/libs/mathjax/2.7.5/MathJax.js?config=TeX-AMS-MML_SVG\"></script><script type=\"text/javascript\">if (window.MathJax) {MathJax.Hub.Config({SVG: {font: \"STIX-Web\"}});}</script>\n",
              "                <script type=\"text/javascript\">window.PlotlyConfig = {MathJaxConfig: 'local'};</script>\n",
              "        <script src=\"https://cdn.plot.ly/plotly-latest.min.js\"></script>    \n",
              "            <div id=\"c28d8c8b-d18d-4636-9492-2f0d1f073802\" class=\"plotly-graph-div\" style=\"height:750.0px; width:1200.0px;\"></div>\n",
              "            <script type=\"text/javascript\">\n",
              "                \n",
              "                    window.PLOTLYENV=window.PLOTLYENV || {};\n",
              "                    \n",
              "                if (document.getElementById(\"c28d8c8b-d18d-4636-9492-2f0d1f073802\")) {\n",
              "                    Plotly.newPlot(\n",
              "                        'c28d8c8b-d18d-4636-9492-2f0d1f073802',\n",
              "                        [{\"marker\": {\"color\": \"#00D2BE\"}, \"name\": \"2015\", \"type\": \"bar\", \"x\": [\"Anciano\", \"Joven\", \"Ni\\u00f1o\", \"Adolecente\", \"Adulto\"], \"y\": [5051, 13300, 7433, 3, 23556]}, {\"marker\": {\"color\": \"#DC0000\"}, \"name\": \"2016\", \"type\": \"bar\", \"x\": [\"Anciano\", \"Joven\", \"Ni\\u00f1o\", \"Adolecente\", \"Adulto\"], \"y\": [5420, 14246, 8235, 1, 25688]}, {\"marker\": {\"color\": \"#0600EF\"}, \"name\": \"2017\", \"type\": \"bar\", \"x\": [\"Anciano\", null, \"Joven\", \"Ni\\u00f1o\", \"Adolecente\", \"Adulto\"], \"y\": [5725, 1, 14012, 7941, 20, 25945]}, {\"marker\": {\"color\": \"#FF8700\"}, \"name\": \"2018\", \"type\": \"bar\", \"x\": [\"Anciano\", \"Joven\", \"Ni\\u00f1o\", \"Adolecente\", \"Adulto\"], \"y\": [5872, 13803, 7189, 100, 26450]}, {\"marker\": {\"color\": \"#006F62\"}, \"name\": \"2019\", \"type\": \"bar\", \"x\": [\"Anciano\", null, \"Joven\", \"Ni\\u00f1o\", \"Adolecente\", \"Adulto\"], \"y\": [5173, 26, 12391, 3751, 2167, 23407]}],\n",
              "                        {\"barmode\": \"group\", \"height\": 750.0, \"template\": {\"data\": {\"bar\": [{\"error_x\": {\"color\": \"#2a3f5f\"}, \"error_y\": {\"color\": \"#2a3f5f\"}, \"marker\": {\"line\": {\"color\": \"#E5ECF6\", \"width\": 0.5}}, \"type\": \"bar\"}], \"barpolar\": [{\"marker\": {\"line\": {\"color\": \"#E5ECF6\", \"width\": 0.5}}, \"type\": \"barpolar\"}], \"carpet\": [{\"aaxis\": {\"endlinecolor\": \"#2a3f5f\", \"gridcolor\": \"white\", \"linecolor\": \"white\", \"minorgridcolor\": \"white\", \"startlinecolor\": \"#2a3f5f\"}, \"baxis\": {\"endlinecolor\": \"#2a3f5f\", \"gridcolor\": \"white\", \"linecolor\": \"white\", \"minorgridcolor\": \"white\", \"startlinecolor\": \"#2a3f5f\"}, \"type\": \"carpet\"}], \"choropleth\": [{\"colorbar\": {\"outlinewidth\": 0, \"ticks\": \"\"}, \"type\": \"choropleth\"}], \"contour\": [{\"colorbar\": {\"outlinewidth\": 0, \"ticks\": \"\"}, \"colorscale\": [[0.0, \"#0d0887\"], [0.1111111111111111, \"#46039f\"], [0.2222222222222222, \"#7201a8\"], [0.3333333333333333, \"#9c179e\"], [0.4444444444444444, \"#bd3786\"], [0.5555555555555556, \"#d8576b\"], [0.6666666666666666, \"#ed7953\"], [0.7777777777777778, \"#fb9f3a\"], [0.8888888888888888, \"#fdca26\"], [1.0, \"#f0f921\"]], \"type\": \"contour\"}], \"contourcarpet\": [{\"colorbar\": {\"outlinewidth\": 0, \"ticks\": \"\"}, \"type\": \"contourcarpet\"}], \"heatmap\": [{\"colorbar\": {\"outlinewidth\": 0, \"ticks\": \"\"}, \"colorscale\": [[0.0, \"#0d0887\"], [0.1111111111111111, \"#46039f\"], [0.2222222222222222, \"#7201a8\"], [0.3333333333333333, \"#9c179e\"], [0.4444444444444444, \"#bd3786\"], [0.5555555555555556, \"#d8576b\"], [0.6666666666666666, \"#ed7953\"], [0.7777777777777778, \"#fb9f3a\"], [0.8888888888888888, \"#fdca26\"], [1.0, \"#f0f921\"]], \"type\": \"heatmap\"}], \"heatmapgl\": [{\"colorbar\": {\"outlinewidth\": 0, \"ticks\": \"\"}, \"colorscale\": [[0.0, \"#0d0887\"], [0.1111111111111111, \"#46039f\"], [0.2222222222222222, \"#7201a8\"], [0.3333333333333333, \"#9c179e\"], [0.4444444444444444, \"#bd3786\"], [0.5555555555555556, \"#d8576b\"], [0.6666666666666666, \"#ed7953\"], [0.7777777777777778, \"#fb9f3a\"], [0.8888888888888888, \"#fdca26\"], [1.0, \"#f0f921\"]], \"type\": \"heatmapgl\"}], \"histogram\": [{\"marker\": {\"colorbar\": {\"outlinewidth\": 0, \"ticks\": \"\"}}, \"type\": \"histogram\"}], \"histogram2d\": [{\"colorbar\": {\"outlinewidth\": 0, \"ticks\": \"\"}, \"colorscale\": [[0.0, \"#0d0887\"], [0.1111111111111111, \"#46039f\"], [0.2222222222222222, \"#7201a8\"], [0.3333333333333333, \"#9c179e\"], [0.4444444444444444, \"#bd3786\"], [0.5555555555555556, \"#d8576b\"], [0.6666666666666666, \"#ed7953\"], [0.7777777777777778, \"#fb9f3a\"], [0.8888888888888888, \"#fdca26\"], [1.0, \"#f0f921\"]], \"type\": \"histogram2d\"}], \"histogram2dcontour\": [{\"colorbar\": {\"outlinewidth\": 0, \"ticks\": \"\"}, \"colorscale\": [[0.0, \"#0d0887\"], [0.1111111111111111, \"#46039f\"], [0.2222222222222222, \"#7201a8\"], [0.3333333333333333, \"#9c179e\"], [0.4444444444444444, \"#bd3786\"], [0.5555555555555556, \"#d8576b\"], [0.6666666666666666, \"#ed7953\"], [0.7777777777777778, \"#fb9f3a\"], [0.8888888888888888, \"#fdca26\"], [1.0, \"#f0f921\"]], \"type\": \"histogram2dcontour\"}], \"mesh3d\": [{\"colorbar\": {\"outlinewidth\": 0, \"ticks\": \"\"}, \"type\": \"mesh3d\"}], \"parcoords\": [{\"line\": {\"colorbar\": {\"outlinewidth\": 0, \"ticks\": \"\"}}, \"type\": \"parcoords\"}], \"pie\": [{\"automargin\": true, \"type\": \"pie\"}], \"scatter\": [{\"marker\": {\"colorbar\": {\"outlinewidth\": 0, \"ticks\": \"\"}}, \"type\": \"scatter\"}], \"scatter3d\": [{\"line\": {\"colorbar\": {\"outlinewidth\": 0, \"ticks\": \"\"}}, \"marker\": {\"colorbar\": {\"outlinewidth\": 0, \"ticks\": \"\"}}, \"type\": \"scatter3d\"}], \"scattercarpet\": [{\"marker\": {\"colorbar\": {\"outlinewidth\": 0, \"ticks\": \"\"}}, \"type\": \"scattercarpet\"}], \"scattergeo\": [{\"marker\": {\"colorbar\": {\"outlinewidth\": 0, \"ticks\": \"\"}}, \"type\": \"scattergeo\"}], \"scattergl\": [{\"marker\": {\"colorbar\": {\"outlinewidth\": 0, \"ticks\": \"\"}}, \"type\": \"scattergl\"}], \"scattermapbox\": [{\"marker\": {\"colorbar\": {\"outlinewidth\": 0, \"ticks\": \"\"}}, \"type\": \"scattermapbox\"}], \"scatterpolar\": [{\"marker\": {\"colorbar\": {\"outlinewidth\": 0, \"ticks\": \"\"}}, \"type\": \"scatterpolar\"}], \"scatterpolargl\": [{\"marker\": {\"colorbar\": {\"outlinewidth\": 0, \"ticks\": \"\"}}, \"type\": \"scatterpolargl\"}], \"scatterternary\": [{\"marker\": {\"colorbar\": {\"outlinewidth\": 0, \"ticks\": \"\"}}, \"type\": \"scatterternary\"}], \"surface\": [{\"colorbar\": {\"outlinewidth\": 0, \"ticks\": \"\"}, \"colorscale\": [[0.0, \"#0d0887\"], [0.1111111111111111, \"#46039f\"], [0.2222222222222222, \"#7201a8\"], [0.3333333333333333, \"#9c179e\"], [0.4444444444444444, \"#bd3786\"], [0.5555555555555556, \"#d8576b\"], [0.6666666666666666, \"#ed7953\"], [0.7777777777777778, \"#fb9f3a\"], [0.8888888888888888, \"#fdca26\"], [1.0, \"#f0f921\"]], \"type\": \"surface\"}], \"table\": [{\"cells\": {\"fill\": {\"color\": \"#EBF0F8\"}, \"line\": {\"color\": \"white\"}}, \"header\": {\"fill\": {\"color\": \"#C8D4E3\"}, \"line\": {\"color\": \"white\"}}, \"type\": \"table\"}]}, \"layout\": {\"annotationdefaults\": {\"arrowcolor\": \"#2a3f5f\", \"arrowhead\": 0, \"arrowwidth\": 1}, \"coloraxis\": {\"colorbar\": {\"outlinewidth\": 0, \"ticks\": \"\"}}, \"colorscale\": {\"diverging\": [[0, \"#8e0152\"], [0.1, \"#c51b7d\"], [0.2, \"#de77ae\"], [0.3, \"#f1b6da\"], [0.4, \"#fde0ef\"], [0.5, \"#f7f7f7\"], [0.6, \"#e6f5d0\"], [0.7, \"#b8e186\"], [0.8, \"#7fbc41\"], [0.9, \"#4d9221\"], [1, \"#276419\"]], \"sequential\": [[0.0, \"#0d0887\"], [0.1111111111111111, \"#46039f\"], [0.2222222222222222, \"#7201a8\"], [0.3333333333333333, \"#9c179e\"], [0.4444444444444444, \"#bd3786\"], [0.5555555555555556, \"#d8576b\"], [0.6666666666666666, \"#ed7953\"], [0.7777777777777778, \"#fb9f3a\"], [0.8888888888888888, \"#fdca26\"], [1.0, \"#f0f921\"]], \"sequentialminus\": [[0.0, \"#0d0887\"], [0.1111111111111111, \"#46039f\"], [0.2222222222222222, \"#7201a8\"], [0.3333333333333333, \"#9c179e\"], [0.4444444444444444, \"#bd3786\"], [0.5555555555555556, \"#d8576b\"], [0.6666666666666666, \"#ed7953\"], [0.7777777777777778, \"#fb9f3a\"], [0.8888888888888888, \"#fdca26\"], [1.0, \"#f0f921\"]]}, \"colorway\": [\"#636efa\", \"#EF553B\", \"#00cc96\", \"#ab63fa\", \"#FFA15A\", \"#19d3f3\", \"#FF6692\", \"#B6E880\", \"#FF97FF\", \"#FECB52\"], \"font\": {\"color\": \"#2a3f5f\"}, \"geo\": {\"bgcolor\": \"white\", \"lakecolor\": \"white\", \"landcolor\": \"#E5ECF6\", \"showlakes\": true, \"showland\": true, \"subunitcolor\": \"white\"}, \"hoverlabel\": {\"align\": \"left\"}, \"hovermode\": \"closest\", \"mapbox\": {\"style\": \"light\"}, \"paper_bgcolor\": \"white\", \"plot_bgcolor\": \"#E5ECF6\", \"polar\": {\"angularaxis\": {\"gridcolor\": \"white\", \"linecolor\": \"white\", \"ticks\": \"\"}, \"bgcolor\": \"#E5ECF6\", \"radialaxis\": {\"gridcolor\": \"white\", \"linecolor\": \"white\", \"ticks\": \"\"}}, \"scene\": {\"xaxis\": {\"backgroundcolor\": \"#E5ECF6\", \"gridcolor\": \"white\", \"gridwidth\": 2, \"linecolor\": \"white\", \"showbackground\": true, \"ticks\": \"\", \"zerolinecolor\": \"white\"}, \"yaxis\": {\"backgroundcolor\": \"#E5ECF6\", \"gridcolor\": \"white\", \"gridwidth\": 2, \"linecolor\": \"white\", \"showbackground\": true, \"ticks\": \"\", \"zerolinecolor\": \"white\"}, \"zaxis\": {\"backgroundcolor\": \"#E5ECF6\", \"gridcolor\": \"white\", \"gridwidth\": 2, \"linecolor\": \"white\", \"showbackground\": true, \"ticks\": \"\", \"zerolinecolor\": \"white\"}}, \"shapedefaults\": {\"line\": {\"color\": \"#2a3f5f\"}}, \"ternary\": {\"aaxis\": {\"gridcolor\": \"white\", \"linecolor\": \"white\", \"ticks\": \"\"}, \"baxis\": {\"gridcolor\": \"white\", \"linecolor\": \"white\", \"ticks\": \"\"}, \"bgcolor\": \"#E5ECF6\", \"caxis\": {\"gridcolor\": \"white\", \"linecolor\": \"white\", \"ticks\": \"\"}}, \"title\": {\"x\": 0.05}, \"xaxis\": {\"automargin\": true, \"gridcolor\": \"white\", \"linecolor\": \"white\", \"ticks\": \"\", \"title\": {\"standoff\": 15}, \"zerolinecolor\": \"white\", \"zerolinewidth\": 2}, \"yaxis\": {\"automargin\": true, \"gridcolor\": \"white\", \"linecolor\": \"white\", \"ticks\": \"\", \"title\": {\"standoff\": 15}, \"zerolinecolor\": \"white\", \"zerolinewidth\": 2}}}, \"title\": {\"text\": \"Yearly Accident Count from 2015 to 2019 by Age Group\", \"x\": 0.5}, \"width\": 1200.0},\n",
              "                        {\"responsive\": true}\n",
              "                    ).then(function(){\n",
              "                            \n",
              "var gd = document.getElementById('c28d8c8b-d18d-4636-9492-2f0d1f073802');\n",
              "var x = new MutationObserver(function (mutations, observer) {{\n",
              "        var display = window.getComputedStyle(gd).display;\n",
              "        if (!display || display === 'none') {{\n",
              "            console.log([gd, 'removed!']);\n",
              "            Plotly.purge(gd);\n",
              "            observer.disconnect();\n",
              "        }}\n",
              "}});\n",
              "\n",
              "// Listen for the removal of the full notebook cells\n",
              "var notebookContainer = gd.closest('#notebook-container');\n",
              "if (notebookContainer) {{\n",
              "    x.observe(notebookContainer, {childList: true});\n",
              "}}\n",
              "\n",
              "// Listen for the clearing of the current output cell\n",
              "var outputEl = gd.closest('.output');\n",
              "if (outputEl) {{\n",
              "    x.observe(outputEl, {childList: true});\n",
              "}}\n",
              "\n",
              "                        })\n",
              "                };\n",
              "                \n",
              "            </script>\n",
              "        </div>\n",
              "</body>\n",
              "</html>"
            ]
          },
          "metadata": {
            "tags": []
          }
        }
      ]
    },
    {
      "cell_type": "markdown",
      "metadata": {
        "id": "-1Yn4N5U-tZy"
      },
      "source": [
        "#### **3.8. Total de Accidentes por Género**\n",
        "\n",
        "La gráfica que se presenta a continuación muestra la totalidad de accidentes ocurridos en función del género de la persona involucrada."
      ]
    },
    {
      "cell_type": "code",
      "metadata": {
        "colab": {
          "base_uri": "https://localhost:8080/",
          "height": 767
        },
        "id": "7IKMnpe1UQSs",
        "outputId": "4f44193f-425b-4357-c60e-2ebd8dc7efc1"
      },
      "source": [
        "# Pie Chart: Accidents by Gender\n",
        "\n",
        "yearly_accidents_ag_pie = (df_s.groupBy(\"AGE\")).count().toPandas()\n",
        "\n",
        "yearly_accidents_ag_piefig = go.Figure(data = [go.Pie(labels = yearly_accidents_ag_pie['AGE'], values = yearly_accidents_ag_pie['count'], pull=[0.05, 0.05, 0.05, 0])])\n",
        "yearly_accidents_ag_piefig.update_layout(title_text = \"Accident Count by Age Group\", title_x = 0.5, width = 1600 * 0.75, height = 1000 * 0.75)\n",
        "yearly_accidents_ag_piefig.show()"
      ],
      "execution_count": 102,
      "outputs": [
        {
          "output_type": "display_data",
          "data": {
            "text/html": [
              "<html>\n",
              "<head><meta charset=\"utf-8\" /></head>\n",
              "<body>\n",
              "    <div>\n",
              "            <script src=\"https://cdnjs.cloudflare.com/ajax/libs/mathjax/2.7.5/MathJax.js?config=TeX-AMS-MML_SVG\"></script><script type=\"text/javascript\">if (window.MathJax) {MathJax.Hub.Config({SVG: {font: \"STIX-Web\"}});}</script>\n",
              "                <script type=\"text/javascript\">window.PlotlyConfig = {MathJaxConfig: 'local'};</script>\n",
              "        <script src=\"https://cdn.plot.ly/plotly-latest.min.js\"></script>    \n",
              "            <div id=\"fa5982fc-dfde-4190-85bf-e3f073916443\" class=\"plotly-graph-div\" style=\"height:750.0px; width:1200.0px;\"></div>\n",
              "            <script type=\"text/javascript\">\n",
              "                \n",
              "                    window.PLOTLYENV=window.PLOTLYENV || {};\n",
              "                    \n",
              "                if (document.getElementById(\"fa5982fc-dfde-4190-85bf-e3f073916443\")) {\n",
              "                    Plotly.newPlot(\n",
              "                        'fa5982fc-dfde-4190-85bf-e3f073916443',\n",
              "                        [{\"labels\": [\"Anciano\", null, \"Joven\", \"Ni\\u00f1o\", \"Adolecente\", \"Adulto\"], \"pull\": [0.05, 0.05, 0.05, 0], \"type\": \"pie\", \"values\": [48524, 27, 124699, 66388, 2293, 230755]}],\n",
              "                        {\"height\": 750.0, \"template\": {\"data\": {\"bar\": [{\"error_x\": {\"color\": \"#2a3f5f\"}, \"error_y\": {\"color\": \"#2a3f5f\"}, \"marker\": {\"line\": {\"color\": \"#E5ECF6\", \"width\": 0.5}}, \"type\": \"bar\"}], \"barpolar\": [{\"marker\": {\"line\": {\"color\": \"#E5ECF6\", \"width\": 0.5}}, \"type\": \"barpolar\"}], \"carpet\": [{\"aaxis\": {\"endlinecolor\": \"#2a3f5f\", \"gridcolor\": \"white\", \"linecolor\": \"white\", \"minorgridcolor\": \"white\", \"startlinecolor\": \"#2a3f5f\"}, \"baxis\": {\"endlinecolor\": \"#2a3f5f\", \"gridcolor\": \"white\", \"linecolor\": \"white\", \"minorgridcolor\": \"white\", \"startlinecolor\": \"#2a3f5f\"}, \"type\": \"carpet\"}], \"choropleth\": [{\"colorbar\": {\"outlinewidth\": 0, \"ticks\": \"\"}, \"type\": \"choropleth\"}], \"contour\": [{\"colorbar\": {\"outlinewidth\": 0, \"ticks\": \"\"}, \"colorscale\": [[0.0, \"#0d0887\"], [0.1111111111111111, \"#46039f\"], [0.2222222222222222, \"#7201a8\"], [0.3333333333333333, \"#9c179e\"], [0.4444444444444444, \"#bd3786\"], [0.5555555555555556, \"#d8576b\"], [0.6666666666666666, \"#ed7953\"], [0.7777777777777778, \"#fb9f3a\"], [0.8888888888888888, \"#fdca26\"], [1.0, \"#f0f921\"]], \"type\": \"contour\"}], \"contourcarpet\": [{\"colorbar\": {\"outlinewidth\": 0, \"ticks\": \"\"}, \"type\": \"contourcarpet\"}], \"heatmap\": [{\"colorbar\": {\"outlinewidth\": 0, \"ticks\": \"\"}, \"colorscale\": [[0.0, \"#0d0887\"], [0.1111111111111111, \"#46039f\"], [0.2222222222222222, \"#7201a8\"], [0.3333333333333333, \"#9c179e\"], [0.4444444444444444, \"#bd3786\"], [0.5555555555555556, \"#d8576b\"], [0.6666666666666666, \"#ed7953\"], [0.7777777777777778, \"#fb9f3a\"], [0.8888888888888888, \"#fdca26\"], [1.0, \"#f0f921\"]], \"type\": \"heatmap\"}], \"heatmapgl\": [{\"colorbar\": {\"outlinewidth\": 0, \"ticks\": \"\"}, \"colorscale\": [[0.0, \"#0d0887\"], [0.1111111111111111, \"#46039f\"], [0.2222222222222222, \"#7201a8\"], [0.3333333333333333, \"#9c179e\"], [0.4444444444444444, \"#bd3786\"], [0.5555555555555556, \"#d8576b\"], [0.6666666666666666, \"#ed7953\"], [0.7777777777777778, \"#fb9f3a\"], [0.8888888888888888, \"#fdca26\"], [1.0, \"#f0f921\"]], \"type\": \"heatmapgl\"}], \"histogram\": [{\"marker\": {\"colorbar\": {\"outlinewidth\": 0, \"ticks\": \"\"}}, \"type\": \"histogram\"}], \"histogram2d\": [{\"colorbar\": {\"outlinewidth\": 0, \"ticks\": \"\"}, \"colorscale\": [[0.0, \"#0d0887\"], [0.1111111111111111, \"#46039f\"], [0.2222222222222222, \"#7201a8\"], [0.3333333333333333, \"#9c179e\"], [0.4444444444444444, \"#bd3786\"], [0.5555555555555556, \"#d8576b\"], [0.6666666666666666, \"#ed7953\"], [0.7777777777777778, \"#fb9f3a\"], [0.8888888888888888, \"#fdca26\"], [1.0, \"#f0f921\"]], \"type\": \"histogram2d\"}], \"histogram2dcontour\": [{\"colorbar\": {\"outlinewidth\": 0, \"ticks\": \"\"}, \"colorscale\": [[0.0, \"#0d0887\"], [0.1111111111111111, \"#46039f\"], [0.2222222222222222, \"#7201a8\"], [0.3333333333333333, \"#9c179e\"], [0.4444444444444444, \"#bd3786\"], [0.5555555555555556, \"#d8576b\"], [0.6666666666666666, \"#ed7953\"], [0.7777777777777778, \"#fb9f3a\"], [0.8888888888888888, \"#fdca26\"], [1.0, \"#f0f921\"]], \"type\": \"histogram2dcontour\"}], \"mesh3d\": [{\"colorbar\": {\"outlinewidth\": 0, \"ticks\": \"\"}, \"type\": \"mesh3d\"}], \"parcoords\": [{\"line\": {\"colorbar\": {\"outlinewidth\": 0, \"ticks\": \"\"}}, \"type\": \"parcoords\"}], \"pie\": [{\"automargin\": true, \"type\": \"pie\"}], \"scatter\": [{\"marker\": {\"colorbar\": {\"outlinewidth\": 0, \"ticks\": \"\"}}, \"type\": \"scatter\"}], \"scatter3d\": [{\"line\": {\"colorbar\": {\"outlinewidth\": 0, \"ticks\": \"\"}}, \"marker\": {\"colorbar\": {\"outlinewidth\": 0, \"ticks\": \"\"}}, \"type\": \"scatter3d\"}], \"scattercarpet\": [{\"marker\": {\"colorbar\": {\"outlinewidth\": 0, \"ticks\": \"\"}}, \"type\": \"scattercarpet\"}], \"scattergeo\": [{\"marker\": {\"colorbar\": {\"outlinewidth\": 0, \"ticks\": \"\"}}, \"type\": \"scattergeo\"}], \"scattergl\": [{\"marker\": {\"colorbar\": {\"outlinewidth\": 0, \"ticks\": \"\"}}, \"type\": \"scattergl\"}], \"scattermapbox\": [{\"marker\": {\"colorbar\": {\"outlinewidth\": 0, \"ticks\": \"\"}}, \"type\": \"scattermapbox\"}], \"scatterpolar\": [{\"marker\": {\"colorbar\": {\"outlinewidth\": 0, \"ticks\": \"\"}}, \"type\": \"scatterpolar\"}], \"scatterpolargl\": [{\"marker\": {\"colorbar\": {\"outlinewidth\": 0, \"ticks\": \"\"}}, \"type\": \"scatterpolargl\"}], \"scatterternary\": [{\"marker\": {\"colorbar\": {\"outlinewidth\": 0, \"ticks\": \"\"}}, \"type\": \"scatterternary\"}], \"surface\": [{\"colorbar\": {\"outlinewidth\": 0, \"ticks\": \"\"}, \"colorscale\": [[0.0, \"#0d0887\"], [0.1111111111111111, \"#46039f\"], [0.2222222222222222, \"#7201a8\"], [0.3333333333333333, \"#9c179e\"], [0.4444444444444444, \"#bd3786\"], [0.5555555555555556, \"#d8576b\"], [0.6666666666666666, \"#ed7953\"], [0.7777777777777778, \"#fb9f3a\"], [0.8888888888888888, \"#fdca26\"], [1.0, \"#f0f921\"]], \"type\": \"surface\"}], \"table\": [{\"cells\": {\"fill\": {\"color\": \"#EBF0F8\"}, \"line\": {\"color\": \"white\"}}, \"header\": {\"fill\": {\"color\": \"#C8D4E3\"}, \"line\": {\"color\": \"white\"}}, \"type\": \"table\"}]}, \"layout\": {\"annotationdefaults\": {\"arrowcolor\": \"#2a3f5f\", \"arrowhead\": 0, \"arrowwidth\": 1}, \"coloraxis\": {\"colorbar\": {\"outlinewidth\": 0, \"ticks\": \"\"}}, \"colorscale\": {\"diverging\": [[0, \"#8e0152\"], [0.1, \"#c51b7d\"], [0.2, \"#de77ae\"], [0.3, \"#f1b6da\"], [0.4, \"#fde0ef\"], [0.5, \"#f7f7f7\"], [0.6, \"#e6f5d0\"], [0.7, \"#b8e186\"], [0.8, \"#7fbc41\"], [0.9, \"#4d9221\"], [1, \"#276419\"]], \"sequential\": [[0.0, \"#0d0887\"], [0.1111111111111111, \"#46039f\"], [0.2222222222222222, \"#7201a8\"], [0.3333333333333333, \"#9c179e\"], [0.4444444444444444, \"#bd3786\"], [0.5555555555555556, \"#d8576b\"], [0.6666666666666666, \"#ed7953\"], [0.7777777777777778, \"#fb9f3a\"], [0.8888888888888888, \"#fdca26\"], [1.0, \"#f0f921\"]], \"sequentialminus\": [[0.0, \"#0d0887\"], [0.1111111111111111, \"#46039f\"], [0.2222222222222222, \"#7201a8\"], [0.3333333333333333, \"#9c179e\"], [0.4444444444444444, \"#bd3786\"], [0.5555555555555556, \"#d8576b\"], [0.6666666666666666, \"#ed7953\"], [0.7777777777777778, \"#fb9f3a\"], [0.8888888888888888, \"#fdca26\"], [1.0, \"#f0f921\"]]}, \"colorway\": [\"#636efa\", \"#EF553B\", \"#00cc96\", \"#ab63fa\", \"#FFA15A\", \"#19d3f3\", \"#FF6692\", \"#B6E880\", \"#FF97FF\", \"#FECB52\"], \"font\": {\"color\": \"#2a3f5f\"}, \"geo\": {\"bgcolor\": \"white\", \"lakecolor\": \"white\", \"landcolor\": \"#E5ECF6\", \"showlakes\": true, \"showland\": true, \"subunitcolor\": \"white\"}, \"hoverlabel\": {\"align\": \"left\"}, \"hovermode\": \"closest\", \"mapbox\": {\"style\": \"light\"}, \"paper_bgcolor\": \"white\", \"plot_bgcolor\": \"#E5ECF6\", \"polar\": {\"angularaxis\": {\"gridcolor\": \"white\", \"linecolor\": \"white\", \"ticks\": \"\"}, \"bgcolor\": \"#E5ECF6\", \"radialaxis\": {\"gridcolor\": \"white\", \"linecolor\": \"white\", \"ticks\": \"\"}}, \"scene\": {\"xaxis\": {\"backgroundcolor\": \"#E5ECF6\", \"gridcolor\": \"white\", \"gridwidth\": 2, \"linecolor\": \"white\", \"showbackground\": true, \"ticks\": \"\", \"zerolinecolor\": \"white\"}, \"yaxis\": {\"backgroundcolor\": \"#E5ECF6\", \"gridcolor\": \"white\", \"gridwidth\": 2, \"linecolor\": \"white\", \"showbackground\": true, \"ticks\": \"\", \"zerolinecolor\": \"white\"}, \"zaxis\": {\"backgroundcolor\": \"#E5ECF6\", \"gridcolor\": \"white\", \"gridwidth\": 2, \"linecolor\": \"white\", \"showbackground\": true, \"ticks\": \"\", \"zerolinecolor\": \"white\"}}, \"shapedefaults\": {\"line\": {\"color\": \"#2a3f5f\"}}, \"ternary\": {\"aaxis\": {\"gridcolor\": \"white\", \"linecolor\": \"white\", \"ticks\": \"\"}, \"baxis\": {\"gridcolor\": \"white\", \"linecolor\": \"white\", \"ticks\": \"\"}, \"bgcolor\": \"#E5ECF6\", \"caxis\": {\"gridcolor\": \"white\", \"linecolor\": \"white\", \"ticks\": \"\"}}, \"title\": {\"x\": 0.05}, \"xaxis\": {\"automargin\": true, \"gridcolor\": \"white\", \"linecolor\": \"white\", \"ticks\": \"\", \"title\": {\"standoff\": 15}, \"zerolinecolor\": \"white\", \"zerolinewidth\": 2}, \"yaxis\": {\"automargin\": true, \"gridcolor\": \"white\", \"linecolor\": \"white\", \"ticks\": \"\", \"title\": {\"standoff\": 15}, \"zerolinecolor\": \"white\", \"zerolinewidth\": 2}}}, \"title\": {\"text\": \"Accident Count by Age Group\", \"x\": 0.5}, \"width\": 1200.0},\n",
              "                        {\"responsive\": true}\n",
              "                    ).then(function(){\n",
              "                            \n",
              "var gd = document.getElementById('fa5982fc-dfde-4190-85bf-e3f073916443');\n",
              "var x = new MutationObserver(function (mutations, observer) {{\n",
              "        var display = window.getComputedStyle(gd).display;\n",
              "        if (!display || display === 'none') {{\n",
              "            console.log([gd, 'removed!']);\n",
              "            Plotly.purge(gd);\n",
              "            observer.disconnect();\n",
              "        }}\n",
              "}});\n",
              "\n",
              "// Listen for the removal of the full notebook cells\n",
              "var notebookContainer = gd.closest('#notebook-container');\n",
              "if (notebookContainer) {{\n",
              "    x.observe(notebookContainer, {childList: true});\n",
              "}}\n",
              "\n",
              "// Listen for the clearing of the current output cell\n",
              "var outputEl = gd.closest('.output');\n",
              "if (outputEl) {{\n",
              "    x.observe(outputEl, {childList: true});\n",
              "}}\n",
              "\n",
              "                        })\n",
              "                };\n",
              "                \n",
              "            </script>\n",
              "        </div>\n",
              "</body>\n",
              "</html>"
            ]
          },
          "metadata": {
            "tags": []
          }
        }
      ]
    },
    {
      "cell_type": "markdown",
      "metadata": {
        "id": "41a_QQNmj6Qh"
      },
      "source": [
        "Ahora con el fin de tener mas informacion se evaluara las dos categorias con mayor indices de accidentes, los adultos y los jovenes, para asi estimar si las vias principales y su sexo tienen alguna relacion o estos fenomenos pasan indiscriminadamente a lo largo de los años"
      ]
    },
    {
      "cell_type": "code",
      "metadata": {
        "id": "KOC03H40kZJJ"
      },
      "source": [
        "# Data Inspection: Accidents on Young and Adult Men and Women from 2018 and 2019\n",
        "\n",
        "# Young Women (2018)\n",
        "df_m_j_2018 = df_s.filter((df_s[\"VICTIM_SEX\"] == \"F\") & (df_s[\"AGE\"] == 'Joven') & (df_s[\"year\"] == 2018))\n",
        "\n",
        "# Adult Women (2018)\n",
        "df_m_a_2018 = df_s.filter((df_s[\"VICTIM_SEX\"] == \"F\") & (df_s[\"AGE\"] == 'Adulto') & (df_s[\"year\"] == 2018))\n",
        "\n",
        "# Young Women (2019)\n",
        "df_m_j_2019 = df_s.filter((df_s[\"VICTIM_SEX\"] == \"F\") & (df_s[\"AGE\"] == 'Joven') & (df_s[\"year\"] == 2019))\n",
        "\n",
        "# Adult Women (2019)\n",
        "df_m_a_2019 = df_s.filter((df_s[\"VICTIM_SEX\"] == \"F\") & (df_s[\"AGE\"] == 'Adulto') & (df_s[\"year\"] == 2019))\n",
        "\n",
        "# Young Men (2018)\n",
        "df_h_j_2018 = df_s.filter((df_s[\"VICTIM_SEX\"] == \"M\") & (df_s[\"AGE\"] == 'Joven') & (df_s[\"year\"] == 2018))\n",
        "\n",
        "# Adult Men (2018)\n",
        "df_h_a_2018 = df_s.filter((df_s[\"VICTIM_SEX\"] == \"M\") & (df_s[\"AGE\"] == 'Adulto') & (df_s[\"year\"] == 2018))\n",
        "\n",
        "# Young Men (2019)\n",
        "df_h_j_2019 = df_s.filter((df_s[\"VICTIM_SEX\"] == \"M\") & (df_s[\"AGE\"] == 'Joven') & (df_s[\"year\"] == 2018))\n",
        "\n",
        "# Adult Men (2019)\n",
        "df_h_a_2019 = df_s.filter((df_s[\"VICTIM_SEX\"] == \"M\") & (df_s[\"AGE\"] == 'Adulto') & (df_s[\"year\"] == 2019))"
      ],
      "execution_count": 103,
      "outputs": []
    },
    {
      "cell_type": "markdown",
      "metadata": {
        "id": "H3jubDRTn1io"
      },
      "source": [
        "**Año 2018**"
      ]
    },
    {
      "cell_type": "code",
      "metadata": {
        "colab": {
          "base_uri": "https://localhost:8080/"
        },
        "id": "qajvYWuLn417",
        "outputId": "de253ba3-2cf2-4f75-bde5-cb4b6b7bfa11"
      },
      "source": [
        "print('Descripcion de accidentes - Mujer joven-2018')\n",
        "df_m_j_2018.groupBy('PREMISE_DESCRIPTION').count().orderBy(desc('count')).show(5)\n",
        "\n",
        "print('Descripcion de accidentes - Mujer Adulta-2018')\n",
        "df_m_a_2018.groupBy('PREMISE_DESCRIPTION').count().orderBy(desc('count')).show(5)\n",
        "\n",
        "print('Descripcion de accidentes - Hombre joven-2018')\n",
        "df_h_j_2018.groupBy('PREMISE_DESCRIPTION').count().orderBy(desc('count')).show(5)\n",
        "\n",
        "print('Descripcion de accidentes - Hombre Adulto-2018')\n",
        "df_h_a_2018.groupBy('PREMISE_DESCRIPTION').count().orderBy(desc('count')).show(5)"
      ],
      "execution_count": 104,
      "outputs": [
        {
          "output_type": "stream",
          "text": [
            "Descripcion de accidentes - Mujer joven-2018\n",
            "+-------------------+-----+\n",
            "|PREMISE_DESCRIPTION|count|\n",
            "+-------------------+-----+\n",
            "|             STREET| 5673|\n",
            "|        PARKING LOT|  234|\n",
            "|           SIDEWALK|   15|\n",
            "|           DRIVEWAY|    6|\n",
            "|              ALLEY|    6|\n",
            "+-------------------+-----+\n",
            "only showing top 5 rows\n",
            "\n",
            "Descripcion de accidentes - Mujer Adulta-2018\n",
            "+-------------------+-----+\n",
            "|PREMISE_DESCRIPTION|count|\n",
            "+-------------------+-----+\n",
            "|             STREET| 9954|\n",
            "|        PARKING LOT|  523|\n",
            "|           SIDEWALK|   22|\n",
            "|              ALLEY|   11|\n",
            "|            FREEWAY|   11|\n",
            "+-------------------+-----+\n",
            "only showing top 5 rows\n",
            "\n",
            "Descripcion de accidentes - Hombre joven-2018\n",
            "+-------------------+-----+\n",
            "|PREMISE_DESCRIPTION|count|\n",
            "+-------------------+-----+\n",
            "|             STREET| 7519|\n",
            "|        PARKING LOT|  251|\n",
            "|           SIDEWALK|   30|\n",
            "|              ALLEY|   15|\n",
            "|           DRIVEWAY|   11|\n",
            "+-------------------+-----+\n",
            "only showing top 5 rows\n",
            "\n",
            "Descripcion de accidentes - Hombre Adulto-2018\n",
            "+-------------------+-----+\n",
            "|PREMISE_DESCRIPTION|count|\n",
            "+-------------------+-----+\n",
            "|             STREET|15096|\n",
            "|        PARKING LOT|  601|\n",
            "|           SIDEWALK|   70|\n",
            "|              ALLEY|   32|\n",
            "|           DRIVEWAY|   22|\n",
            "+-------------------+-----+\n",
            "only showing top 5 rows\n",
            "\n"
          ],
          "name": "stdout"
        }
      ]
    },
    {
      "cell_type": "code",
      "metadata": {
        "colab": {
          "base_uri": "https://localhost:8080/"
        },
        "id": "5rm6fyaZpDgu",
        "outputId": "b046fa14-7b2f-47b9-e37d-f2b37ca443e2"
      },
      "source": [
        "print('Direcciones de accidentes - Mujer joven-2018')\n",
        "df_m_j_2018.groupBy('ADDRESS').count().orderBy(desc('count')).show(5)\n",
        "\n",
        "print('Direcciones de accidentes - Mujer Adulta-2018')\n",
        "df_m_a_2018.groupBy('ADDRESS').count().orderBy(desc('count')).show(5)\n",
        "\n",
        "print('Direcciones de accidentes- Hombre joven-2018')\n",
        "df_h_j_2018.groupBy('ADDRESS').count().orderBy(desc('count')).show(5)\n",
        "\n",
        "print('Direcciones de accidentes - Hombre Adulto-2018')\n",
        "df_h_a_2018.groupBy('ADDRESS').count().orderBy(desc('count')).show(5)"
      ],
      "execution_count": 105,
      "outputs": [
        {
          "output_type": "stream",
          "text": [
            "Direcciones de accidentes - Mujer joven-2018\n",
            "+--------------------+-----+\n",
            "|             ADDRESS|count|\n",
            "+--------------------+-----+\n",
            "|SHERMAN          ...|   94|\n",
            "|VICTORY          ...|   92|\n",
            "|WESTERN          ...|   89|\n",
            "|VENTURA          ...|   79|\n",
            "|VERMONT          ...|   69|\n",
            "+--------------------+-----+\n",
            "only showing top 5 rows\n",
            "\n",
            "Direcciones de accidentes - Mujer Adulta-2018\n",
            "+--------------------+-----+\n",
            "|             ADDRESS|count|\n",
            "+--------------------+-----+\n",
            "|VENTURA          ...|  156|\n",
            "|SHERMAN          ...|  150|\n",
            "|WESTERN          ...|  140|\n",
            "|SEPULVEDA        ...|  130|\n",
            "|VICTORY          ...|  130|\n",
            "+--------------------+-----+\n",
            "only showing top 5 rows\n",
            "\n",
            "Direcciones de accidentes- Hombre joven-2018\n",
            "+--------------------+-----+\n",
            "|             ADDRESS|count|\n",
            "+--------------------+-----+\n",
            "|WESTERN          ...|  133|\n",
            "|VICTORY          ...|  128|\n",
            "|SHERMAN          ...|  110|\n",
            "|SEPULVEDA        ...|  103|\n",
            "|ROSCOE           ...|   95|\n",
            "+--------------------+-----+\n",
            "only showing top 5 rows\n",
            "\n",
            "Direcciones de accidentes - Hombre Adulto-2018\n",
            "+--------------------+-----+\n",
            "|             ADDRESS|count|\n",
            "+--------------------+-----+\n",
            "|VENTURA          ...|  226|\n",
            "|SHERMAN          ...|  216|\n",
            "|WESTERN          ...|  209|\n",
            "|SEPULVEDA        ...|  208|\n",
            "|FIGUEROA         ...|  186|\n",
            "+--------------------+-----+\n",
            "only showing top 5 rows\n",
            "\n"
          ],
          "name": "stdout"
        }
      ]
    },
    {
      "cell_type": "markdown",
      "metadata": {
        "id": "cJ5uqflRpc1M"
      },
      "source": [
        "**Año 2019**"
      ]
    },
    {
      "cell_type": "code",
      "metadata": {
        "colab": {
          "base_uri": "https://localhost:8080/"
        },
        "id": "lrXitEQnphCg",
        "outputId": "5d325981-b201-4c8d-9303-c9eec61e5a4e"
      },
      "source": [
        "print('Descripcion de accidentes - Mujer joven-2019')\n",
        "df_m_j_2019.groupBy('PREMISE_DESCRIPTION').count().orderBy(desc('count')).show(5)\n",
        "\n",
        "print('Descripcion de accidentes - Mujer Adulta-2019')\n",
        "df_m_a_2019.groupBy('PREMISE_DESCRIPTION').count().orderBy(desc('count')).show(5)\n",
        "\n",
        "print('Descripcion de accidentes - Hombre joven-2019')\n",
        "df_h_j_2019.groupBy('PREMISE_DESCRIPTION').count().orderBy(desc('count')).show(5)\n",
        "\n",
        "print('Descripcion de accidentes - Hombre Adulto-2019')\n",
        "df_h_a_2019.groupBy('PREMISE_DESCRIPTION').count().orderBy(desc('count')).show(5)"
      ],
      "execution_count": 106,
      "outputs": [
        {
          "output_type": "stream",
          "text": [
            "Descripcion de accidentes - Mujer joven-2019\n",
            "+-------------------+-----+\n",
            "|PREMISE_DESCRIPTION|count|\n",
            "+-------------------+-----+\n",
            "|             STREET| 5254|\n",
            "|        PARKING LOT|  153|\n",
            "|           SIDEWALK|   10|\n",
            "|           DRIVEWAY|    5|\n",
            "|              ALLEY|    2|\n",
            "+-------------------+-----+\n",
            "only showing top 5 rows\n",
            "\n",
            "Descripcion de accidentes - Mujer Adulta-2019\n",
            "+-------------------+-----+\n",
            "|PREMISE_DESCRIPTION|count|\n",
            "+-------------------+-----+\n",
            "|             STREET| 8978|\n",
            "|        PARKING LOT|  260|\n",
            "|           SIDEWALK|   13|\n",
            "|           DRIVEWAY|   10|\n",
            "|              ALLEY|    8|\n",
            "+-------------------+-----+\n",
            "only showing top 5 rows\n",
            "\n",
            "Descripcion de accidentes - Hombre joven-2019\n",
            "+-------------------+-----+\n",
            "|PREMISE_DESCRIPTION|count|\n",
            "+-------------------+-----+\n",
            "|             STREET| 7519|\n",
            "|        PARKING LOT|  251|\n",
            "|           SIDEWALK|   30|\n",
            "|              ALLEY|   15|\n",
            "|           DRIVEWAY|   11|\n",
            "+-------------------+-----+\n",
            "only showing top 5 rows\n",
            "\n",
            "Descripcion de accidentes - Hombre Adulto-2019\n",
            "+-------------------+-----+\n",
            "|PREMISE_DESCRIPTION|count|\n",
            "+-------------------+-----+\n",
            "|             STREET|13572|\n",
            "|        PARKING LOT|  356|\n",
            "|           SIDEWALK|   53|\n",
            "|              ALLEY|   21|\n",
            "|           DRIVEWAY|   18|\n",
            "+-------------------+-----+\n",
            "only showing top 5 rows\n",
            "\n"
          ],
          "name": "stdout"
        }
      ]
    },
    {
      "cell_type": "code",
      "metadata": {
        "colab": {
          "base_uri": "https://localhost:8080/"
        },
        "id": "vJpBiUMkp5uf",
        "outputId": "d42cd3b6-1424-483e-de6a-3f965f47eee4"
      },
      "source": [
        "print('Direcciones de accidentes - Mujer joven-2019')\n",
        "df_m_j_2019.groupBy('ADDRESS').count().orderBy(desc('count')).show(5)\n",
        "\n",
        "print('Direcciones de accidentes - Mujer Adulta-2019')\n",
        "df_m_a_2019.groupBy('ADDRESS').count().orderBy(desc('count')).show(5)\n",
        "\n",
        "print('Direcciones de accidentes- Hombre joven-2019')\n",
        "df_h_j_2019.groupBy('ADDRESS').count().orderBy(desc('count')).show(5)\n",
        "\n",
        "print('Direcciones de accidentes - Hombre Adulto-2019')\n",
        "df_h_a_2019.groupBy('ADDRESS').count().orderBy(desc('count')).show(5)"
      ],
      "execution_count": 107,
      "outputs": [
        {
          "output_type": "stream",
          "text": [
            "Direcciones de accidentes - Mujer joven-2019\n",
            "+--------------------+-----+\n",
            "|             ADDRESS|count|\n",
            "+--------------------+-----+\n",
            "|VENTURA          ...|   76|\n",
            "|FIGUEROA         ...|   76|\n",
            "|WESTERN          ...|   72|\n",
            "|VERMONT          ...|   62|\n",
            "|SHERMAN          ...|   61|\n",
            "+--------------------+-----+\n",
            "only showing top 5 rows\n",
            "\n",
            "Direcciones de accidentes - Mujer Adulta-2019\n",
            "+--------------------+-----+\n",
            "|             ADDRESS|count|\n",
            "+--------------------+-----+\n",
            "|SEPULVEDA        ...|  146|\n",
            "|VENTURA          ...|  145|\n",
            "|WESTERN          ...|  130|\n",
            "|SHERMAN          ...|  123|\n",
            "|VICTORY          ...|  113|\n",
            "+--------------------+-----+\n",
            "only showing top 5 rows\n",
            "\n",
            "Direcciones de accidentes- Hombre joven-2019\n",
            "+--------------------+-----+\n",
            "|             ADDRESS|count|\n",
            "+--------------------+-----+\n",
            "|WESTERN          ...|  133|\n",
            "|VICTORY          ...|  128|\n",
            "|SHERMAN          ...|  110|\n",
            "|SEPULVEDA        ...|  103|\n",
            "|ROSCOE           ...|   95|\n",
            "+--------------------+-----+\n",
            "only showing top 5 rows\n",
            "\n",
            "Direcciones de accidentes - Hombre Adulto-2019\n",
            "+--------------------+-----+\n",
            "|             ADDRESS|count|\n",
            "+--------------------+-----+\n",
            "|SHERMAN          ...|  202|\n",
            "|FIGUEROA         ...|  178|\n",
            "|SEPULVEDA        ...|  174|\n",
            "|WESTERN          ...|  174|\n",
            "|VENTURA          ...|  172|\n",
            "+--------------------+-----+\n",
            "only showing top 5 rows\n",
            "\n"
          ],
          "name": "stdout"
        }
      ]
    },
    {
      "cell_type": "markdown",
      "metadata": {
        "id": "TXNvqNOB4e3S"
      },
      "source": [
        "## **4. Conclusiones**\n",
        "---\n",
        "\n",
        "A través de una serie de visualizaciones interactivas simples y de análisis de estadística descriptiva, se pudo analizar los distintos factores y patrones que rigen el comportamiento de los accidentes de tránsito en la ciudad de Los Ángeles durante la última década. Aquí, se evidencian las siguientes observaciones:  \n",
        "\n",
        "- La población entre 18 y 60 años (jovenes y adultos) están involucrados en cerca de 3 de cada 4 accidentes reportados.\n",
        "\n",
        "- Aproximadamente 6 de cada 10 víctimas de los accidentes de tránsito corresponden a hombres, mientras que las mujeres integran cerca del 40% restante.\n",
        "\n",
        "- Según los datos, la edad a la cual existe la mayor probabilidad de verse involucrado en uán accidente de tránsito es a los 30 años.\n",
        "\n",
        "- No existe alguna relación entre el área en que ocurre el incidente y la fecha del mismo, puesto que no se observa que el aumento o disminución de accidentes por año refleje el mismo comportamiento en el volumen de accidentes en cada región.\n",
        "\n",
        "- Los meses del año en que más accidentes ocurren por lo general coinciden con aquellas épocas del año en que se tienen temporadas de vacaciones. Por ejemplo, se observa una disminución en el volumen de incidentes en los meses de Febrero y Marzo con respecto a los meses anteriores, lo cual se atribuye en gran medida a que estos dos meses corresponden a temporada de invierno, por lo cual hay un menor número de vehículos en circulación con respecto a otras épocas del año.\n",
        "\n",
        "- La mayoria de accidentes se presentan en la calle, donde la Avenida Sherman es la más peligrosa en cuanto a accidentalidad en Los Angeles, ya que se desarrollan mayor cantidad de accidentes.\n",
        "\n",
        "- Existen diferencias entre las calles donde se accidentan los hombres y las mujeres en los año 2018 y 2019, lo cual indica que factores como colores, denominación, señales y distribución pueden tener influencia en la cantidad de accidentes por sexo.\n",
        "\n",
        "- También se observan diferencias entre los años 2018 y 2019 entre géneros y edades, lo cual puede atribuirse a la presencia de establecimientos como instituciones educativas, bares, bibliotecas o clubes, lugares que serán mas frecuentados siempre por los jóvenes o adultos jóvenes que por los mayores."
      ]
    },
    {
      "cell_type": "markdown",
      "metadata": {
        "id": "HJHnQRG_G6gm"
      },
      "source": [
        "## **5. Video de Presentación**\n",
        "---\n",
        "\n",
        "A continuación se muestra el video de presentación correspondiente del proyecto.\n",
        "\n",
        "Este video se encuentra cargado en la plataforma YouTube y se puede acceder a él haciendo clic [aquí](https://www.youtube.com/watch?v=_Ut9Vhf2oII)."
      ]
    },
    {
      "cell_type": "code",
      "metadata": {
        "colab": {
          "base_uri": "https://localhost:8080/",
          "height": 741
        },
        "id": "1UNqbd5Kbnmr",
        "outputId": "770ff95f-cbb9-49ea-d956-70e393477044"
      },
      "source": [
        "# Play YouTube Video\n",
        "YouTubeVideo(id='_Ut9Vhf2oII',width=1280,height=720)"
      ],
      "execution_count": 110,
      "outputs": [
        {
          "output_type": "execute_result",
          "data": {
            "text/html": [
              "\n",
              "        <iframe\n",
              "            width=\"1280\"\n",
              "            height=\"720\"\n",
              "            src=\"https://www.youtube.com/embed/_Ut9Vhf2oII\"\n",
              "            frameborder=\"0\"\n",
              "            allowfullscreen\n",
              "        ></iframe>\n",
              "        "
            ],
            "text/plain": [
              "<IPython.lib.display.YouTubeVideo at 0x7f114f3cf690>"
            ],
            "image/jpeg": "[encoded data removed]"
          },
          "metadata": {
            "tags": []
          },
          "execution_count": 110
        }
      ]
    },
    {
      "cell_type": "code",
      "metadata": {
        "id": "jPYwlQaZMWYw"
      },
      "source": [
        ""
      ],
      "execution_count": null,
      "outputs": []
    }
  ]
}